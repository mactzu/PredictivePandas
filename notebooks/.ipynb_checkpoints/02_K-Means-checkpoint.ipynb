{
 "cells": [
  {
   "cell_type": "markdown",
   "metadata": {},
   "source": [
    "### Notebooks used to generate the final model based on limited feature set and cross validated"
   ]
  },
  {
   "cell_type": "code",
   "execution_count": 1,
   "metadata": {},
   "outputs": [],
   "source": [
    "import pandas as pd\n",
    "import numpy as np\n",
    "from sklearn.cluster import KMeans\n",
    "from sklearn.metrics import silhouette_score\n",
    "from sklearn import metrics \n",
    "from scipy.spatial.distance import cdist \n",
    "import joblib\n",
    "from collections import Counter\n",
    "\n",
    "%matplotlib inline\n",
    "import matplotlib.pyplot as plt"
   ]
  },
  {
   "cell_type": "code",
   "execution_count": 2,
   "metadata": {},
   "outputs": [],
   "source": [
    "# import main csv \n",
    "beer_csv = pd.read_csv(\"../data/final_beerdata_binary.gz\", compression=\"gzip\")"
   ]
  },
  {
   "cell_type": "code",
   "execution_count": 3,
   "metadata": {},
   "outputs": [],
   "source": [
    "#Limited Features DF\n",
    "kmean_df = beer_csv[['beer_abv',\n",
    " 'numberof_reviews',\n",
    " 'review_overall',\n",
    " 'review_aroma',\n",
    " 'review_appearance',\n",
    " 'review_palate',\n",
    " 'review_taste', \n",
    " 'beer_style_ale',\n",
    " 'beer_style_barleywine',\n",
    " 'beer_style_bitter',\n",
    " 'beer_style_exotic',\n",
    " 'beer_style_ipa',\n",
    " 'beer_style_kölsch',\n",
    " 'beer_style_lager',\n",
    " 'beer_style_pilsener',\n",
    " 'beer_style_porter',\n",
    " 'beer_style_stout',\n",
    " 'beer_style_trappist',\n",
    " 'beer_strength_Full',\n",
    " 'beer_strength_Heavy',\n",
    " 'beer_strength_Light',\n",
    " 'beer_strength_Mid',\n",
    " 'beer_strength_Very Strong'\n",
    " ]]\n",
    "\n"
   ]
  },
  {
   "cell_type": "code",
   "execution_count": 4,
   "metadata": {},
   "outputs": [],
   "source": [
    "dataset = kmean_df"
   ]
  },
  {
   "cell_type": "code",
   "execution_count": 5,
   "metadata": {},
   "outputs": [],
   "source": [
    "#convert DF into Numpy array for the model\n",
    "dataset = dataset.to_numpy()"
   ]
  },
  {
   "cell_type": "code",
   "execution_count": 6,
   "metadata": {},
   "outputs": [
    {
     "name": "stdout",
     "output_type": "stream",
     "text": [
      "Silhouette Score 15: 0.6765905133517968\n",
      "Silhouette Score 16: 0.671309245053375\n",
      "Silhouette Score 17: 0.671495644958294\n",
      "Silhouette Score 18: 0.6399750568948697\n",
      "Silhouette Score 19: 0.6361309648849242\n",
      "Silhouette Score 20: 0.6427559852848502\n",
      "Silhouette Score 21: 0.6268338198848417\n",
      "Silhouette Score 22: 0.6117240810185828\n",
      "Silhouette Score 23: 0.5672995949432661\n",
      "Silhouette Score 24: 0.5712319264001856\n",
      "Silhouette Score 25: 0.570713326418451\n",
      "Silhouette Score 26: 0.5865452316354354\n",
      "Silhouette Score 27: 0.5676597389148494\n",
      "Silhouette Score 28: 0.5206181617526727\n",
      "Silhouette Score 29: 0.5739202029466229\n",
      "Silhouette Score 30: 0.5291021300850414\n"
     ]
    }
   ],
   "source": [
    "#inital test conditions for Model\n",
    "i = range(15,31)\n",
    "for i in i:\n",
    "    KMean= KMeans(n_clusters=i, init='k-means++', n_init=100,max_iter=300, algorithm='auto')\n",
    "    KMean.fit(dataset)\n",
    "    beer_clusters=KMean.predict(dataset)\n",
    "    print(f\"Silhouette Score {(i)}: {silhouette_score(dataset, beer_clusters, metric='euclidean')}\")\n"
   ]
  },
  {
   "cell_type": "code",
   "execution_count": 6,
   "metadata": {},
   "outputs": [],
   "source": [
    "#Elbow review of Model to determine number of clusters\n",
    "distortions = [] \n",
    "inertias = [] \n",
    "mapping1 = {} \n",
    "mapping2 = {} \n",
    "N = range(15,31) \n",
    "  \n",
    "for n in N: \n",
    "    \n",
    "    kmeanModel = KMeans(n_clusters=n,init='k-means++', n_init=100,max_iter=300, algorithm='auto').fit(dataset) \n",
    "    kmeanModel.fit(dataset)     \n",
    "      \n",
    "    distortions.append(sum(np.min(cdist(dataset, kmeanModel.cluster_centers_, \n",
    "                      'euclidean'),axis=1)) / dataset.shape[0]) \n",
    "    inertias.append(kmeanModel.inertia_) \n",
    "  \n",
    "    mapping1[n] = sum(np.min(cdist(dataset, kmeanModel.cluster_centers_, \n",
    "                 'euclidean'),axis=1)) / dataset.shape[0] \n",
    "    mapping2[n] = kmeanModel.inertia_ "
   ]
  },
  {
   "cell_type": "code",
   "execution_count": 94,
   "metadata": {},
   "outputs": [
    {
     "data": {
      "image/png": "[encoded data removed]",
      "text/plain": [
       "<Figure size 432x288 with 1 Axes>"
      ]
     },
     "metadata": {
      "needs_background": "light"
     },
     "output_type": "display_data"
    }
   ],
   "source": [
    "plt.plot(N, distortions, 'bx-') \n",
    "plt.xlabel('Clusters') \n",
    "plt.ylabel('Distortion') \n",
    "plt.title('The Elbow Method using Distortion') \n",
    "plt.grid()\n",
    "plt.savefig('Km_dis_Elbow.png',dpi=400, facecolor='w', edgecolor='w')\n",
    "plt.show()"
   ]
  },
  {
   "cell_type": "code",
   "execution_count": 93,
   "metadata": {},
   "outputs": [
    {
     "data": {
      "image/png": "[encoded data removed]",
      "text/plain": [
       "<Figure size 432x288 with 1 Axes>"
      ]
     },
     "metadata": {
      "needs_background": "light"
     },
     "output_type": "display_data"
    }
   ],
   "source": [
    "plt.plot(N, inertias, 'bx-') \n",
    "plt.xlabel('Clusters') \n",
    "plt.ylabel('Inertia') \n",
    "plt.title('The Elbow Method using Inertia') \n",
    "plt.grid()\n",
    "plt.savefig('Km_inert_Elbow.png',dpi=400, facecolor='w', edgecolor='w')\n",
    "plt.show()"
   ]
  },
  {
   "cell_type": "code",
   "execution_count": 9,
   "metadata": {},
   "outputs": [
    {
     "data": {
      "text/plain": [
       "KMeans(n_clusters=22, n_init=100)"
      ]
     },
     "execution_count": 9,
     "metadata": {},
     "output_type": "execute_result"
    }
   ],
   "source": [
    "# Model @ 22 Clusters \n",
    "kmeanModel = KMeans(n_clusters=22,init='k-means++', n_init=100,max_iter=300, algorithm='auto').fit(dataset) \n",
    "kmeanModel.fit(dataset) "
   ]
  },
  {
   "cell_type": "code",
   "execution_count": 10,
   "metadata": {},
   "outputs": [
    {
     "data": {
      "text/plain": [
       "Counter({9: 33,\n",
       "         6: 967,\n",
       "         0: 7750,\n",
       "         16: 125,\n",
       "         5: 67,\n",
       "         20: 78,\n",
       "         14: 194,\n",
       "         10: 282,\n",
       "         3: 223,\n",
       "         11: 62,\n",
       "         21: 49,\n",
       "         7: 137,\n",
       "         15: 406,\n",
       "         2: 79,\n",
       "         13: 2132,\n",
       "         17: 577,\n",
       "         18: 17,\n",
       "         4: 14,\n",
       "         1: 31,\n",
       "         8: 15,\n",
       "         19: 5,\n",
       "         12: 3})"
      ]
     },
     "execution_count": 10,
     "metadata": {},
     "output_type": "execute_result"
    }
   ],
   "source": [
    "# Cluster Distribution \n",
    "Counter(kmeanModel.labels_)"
   ]
  },
  {
   "cell_type": "code",
   "execution_count": 92,
   "metadata": {},
   "outputs": [
    {
     "data": {
      "image/png": "[encoded data removed]",
      "text/plain": [
       "<Figure size 432x288 with 1 Axes>"
      ]
     },
     "metadata": {
      "needs_background": "light"
     },
     "output_type": "display_data"
    }
   ],
   "source": [
    "cluster = Counter(kmeanModel.labels_)\n",
    "cluster_dis = pd.DataFrame.from_dict(cluster, orient='index').reset_index()\n",
    "cluster_dis = cluster_dis.sort_values(by=['index'])\n",
    "plt.bar(cluster_dis[\"index\"], cluster_dis[0])\n",
    "plt.xlabel('Clusters') \n",
    "plt.ylabel('Members \"Beers\"') \n",
    "plt.title('K-Means Cluster Distribution') \n",
    "plt.grid()\n",
    "plt.savefig('Km_cluster_dis.png', dpi=400, facecolor='w', edgecolor='w')\n",
    "plt.show()"
   ]
  },
  {
   "cell_type": "markdown",
   "metadata": {},
   "source": [
    "\n",
    "##### We believe the uneven distribution of cluster is a character of our data - that some beer style and therefore simliar profiles are more represented that others. \n",
    "#####         46% Ales and IPA closely related, IPA stands for India Pale Ale.\n",
    "#####         Ales consisted of 36%\n",
    "#####         IPAs consisted of 10%\n",
    "\n",
    "##### There are vast number of 104 styles and sub-styles we condensed them in 10 main styles and all other minority styles bagged as exotic which is 20% of our set.  "
   ]
  },
  {
   "cell_type": "code",
   "execution_count": null,
   "metadata": {},
   "outputs": [],
   "source": [
    "beer_cluster = kmeanModel.labels_"
   ]
  },
  {
   "cell_type": "code",
   "execution_count": 25,
   "metadata": {},
   "outputs": [
    {
     "data": {
      "text/plain": [
       "0.6119100806744713"
      ]
     },
     "execution_count": 25,
     "metadata": {},
     "output_type": "execute_result"
    }
   ],
   "source": [
    "silhouette_score(dataset, beer_cluster, metric='euclidean')"
   ]
  },
  {
   "cell_type": "code",
   "execution_count": 1,
   "metadata": {},
   "outputs": [],
   "source": [
    "#Saving Models and appended DataFrame\n",
    "\n",
    "\n",
    "#filename = ('..','data/kmean_model.sav')\n",
    "#joblib.dump(kmeanModel, filename)"
   ]
  },
  {
   "cell_type": "code",
   "execution_count": 27,
   "metadata": {},
   "outputs": [],
   "source": [
    "#beer_raw_csv = pd.read_csv(('..','data/data/final_beerdata.csv')"
   ]
  },
  {
   "cell_type": "code",
   "execution_count": 28,
   "metadata": {},
   "outputs": [],
   "source": [
    "#beer_csv[\"Kmeans Cluster\"] = beer_cluster\n"
   ]
  },
  {
   "cell_type": "code",
   "execution_count": 29,
   "metadata": {},
   "outputs": [],
   "source": [
    "#beer_csv.to_csv(('..','data/beerlist_w_Kmean.csv', index=False)"
   ]
  },
  {
   "cell_type": "code",
   "execution_count": null,
   "metadata": {},
   "outputs": [],
   "source": []
  }
 ],
 "metadata": {
  "kernelspec": {
   "display_name": "Python 3",
   "language": "python",
   "name": "python3"
  },
  "language_info": {
   "codemirror_mode": {
    "name": "ipython",
    "version": 3
   },
   "file_extension": ".py",
   "mimetype": "text/x-python",
   "name": "python",
   "nbconvert_exporter": "python",
   "pygments_lexer": "ipython3",
   "version": "3.8.3"
  }
 },
 "nbformat": 4,
 "nbformat_minor": 4
}
