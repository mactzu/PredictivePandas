{
 "cells": [
  {
   "cell_type": "markdown",
   "metadata": {},
   "source": [
    "# Beer Score Data Exploration and Analysis\n",
    "This notebook transforms data sourced from [https://data.world/socialmediadata/beeradvocate](https://data.world/socialmediadata/beeradvocate) as part of creating a beer prediction machine learning model.  The dataset is ~1.5 million reviews, spanning more than 10 years **(insert date range)**.  Each review includes ratings from [ratebeer](https://www.ratebeer.com/Story.asp?StoryID=103) across five \"features\": appearance, aroma, palate, taste, and overall impression.  A quick explanation of each rating follows however for a full explanation refer to the website.\n",
    "\n",
    "\n",
    "### Index\n",
    "* [Data Extraction](#dataextract)\n",
    "\n",
    "* [Data Transformation](#datatransform)\n",
    "    * [Exploratory Analysis](#dataexplore)\n",
    "    * [Visualising the Data](#dataviz)\n",
    "        \n",
    "* [Adding Features](#dataadd)\n",
    "\n",
    "\n",
    "\n",
    "\n",
    "\n",
    "\n",
    "\n",
    "\n",
    "\n",
    "### Beer Ratings\n",
    "**Appearance:** (rating out of 5)\n",
    "  After pouring rating includes observations on the visual appeal, including the colour, clarity, carbonation, and head       size and longevity, as well as the extent and pattern of lacing on the glass\n",
    "\n",
    "**Aroma:** (rating out of 10)\n",
    "  Any attractive, unusual or bad aromas. Hop character, malts, sweetness, fruitiness and other aromas including more subtle   aromas released after swirling the glass\n",
    "\n",
    "**Palate:** (rating out of 5)\n",
    "  The “feel” of the beer inside the mouth, at the front, the back and as you swallow, concentrating on the body or fullness   of the beer and any other special feature of how it feels in the mouth\n",
    "\n",
    "**Flavour:** (rating out of 10) \n",
    "  How the beer tastes, the number of different tastes and flavours that can be identified.  Consideration also given to       variation in flavour from the start, to the middle, the finish and then the aftertaste of the beer. Assessment includes     intensity of the bitterness, sweetness and sourness of the beer\n",
    "\n",
    "**Overall:** (rating out of 20) \n",
    "  A way of balancing up other features about the beer or anything else liked or disliked about it eg include price,           likelihood of buying again, etc\n",
    "\n",
    "\n",
    "\n"
   ]
  },
  {
   "cell_type": "markdown",
   "metadata": {},
   "source": [
    "## Data Extraction <a id=\"dataextract\"></a>\n"
   ]
  },
  {
   "cell_type": "code",
   "execution_count": 1,
   "metadata": {},
   "outputs": [],
   "source": [
    "# import dependencies\n",
    "import pandas as pd\n",
    "import numpy as np\n",
    "import matplotlib.pyplot as plt\n",
    "import seaborn as sns\n",
    "sns.set()\n",
    "import warnings\n",
    "warnings.filterwarnings(\"ignore\")\n",
    "%matplotlib inline\n"
   ]
  },
  {
   "cell_type": "code",
   "execution_count": null,
   "metadata": {},
   "outputs": [],
   "source": [
    "# create dataframe\n",
    "beer_df = pd.read_csv(\"https://query.data.world/s/nuub3qupegsd33g3nimifjpajqeq2o\")\n",
    "\n",
    "# for local drive use\n",
    "#beer_df = pd.read_csv(\"data/beer.gz\")\n"
   ]
  },
  {
   "cell_type": "code",
   "execution_count": null,
   "metadata": {},
   "outputs": [],
   "source": [
    "# drop all rows with any NaN values\n",
    "beer_df = beer_df.dropna()\n"
   ]
  },
  {
   "cell_type": "code",
   "execution_count": null,
   "metadata": {},
   "outputs": [],
   "source": [
    "# remove duplicate rows in place\n",
    "beer_df.drop_duplicates(keep=\"first\")\n",
    "beer_df = beer_df.reset_index(drop = True)\n",
    "\n",
    "# show first 10 rows\n",
    "beer_df.head(10)\n"
   ]
  },
  {
   "cell_type": "code",
   "execution_count": null,
   "metadata": {},
   "outputs": [],
   "source": [
    "# save to csv file for local use\n",
    "beer_data = beer_df.to_csv(\"data/beer.gz\", header = True, compression=\"gzip\", index = False)\n"
   ]
  },
  {
   "cell_type": "markdown",
   "metadata": {},
   "source": [
    "## Data Transformation <a id=\"datatransform\"></a>"
   ]
  },
  {
   "cell_type": "markdown",
   "metadata": {},
   "source": [
    "### Exploratory analysis  <a id=\"dataexplore\"></a>"
   ]
  },
  {
   "cell_type": "markdown",
   "metadata": {},
   "source": [
    "An initial inspection of dataset is done for information on number of rows and columns, the data types and for confirmation that no null values remain.  A basic statistical analysis is then be completed using the **dataframe.describe()** to show for each feature, the:\n",
    "- mean or average value\n",
    "- standard deviation, which shows the spread of the data\n",
    "- range of the data (min and max)\n",
    "- 25%, 50% and 75% quartiles, showing skewedness in the data and the existence of outliers\n",
    "\n",
    "Note as the default **DataFrame.describe()** method does not include categorical values in the summary, an additional check is done using the parameter _(include=[object])_ to examine the string columns.  This was chosen over the _(include=\"all\")_ parameter to increase the readability of both summary outputs."
   ]
  },
  {
   "cell_type": "code",
   "execution_count": null,
   "metadata": {},
   "outputs": [],
   "source": [
    "# inspect number of rows and columns \n",
    "beer_df.shape\n"
   ]
  },
  {
   "cell_type": "code",
   "execution_count": null,
   "metadata": {},
   "outputs": [],
   "source": [
    "# check additional information about dataframe ie spread of data types, null values, total number of records\n",
    "beer_df.info()\n"
   ]
  },
  {
   "cell_type": "code",
   "execution_count": null,
   "metadata": {},
   "outputs": [],
   "source": [
    "# convert epoch unix time as integer to timestamp for plotting\n",
    "beer_df[\"review_time\"] = pd.to_datetime(beer_df[\"review_time\"], unit = \"s\")\n"
   ]
  },
  {
   "cell_type": "code",
   "execution_count": null,
   "metadata": {},
   "outputs": [],
   "source": [
    "# check data type\n",
    "beer_df[\"review_time\"].dtypes\n"
   ]
  },
  {
   "cell_type": "code",
   "execution_count": null,
   "metadata": {},
   "outputs": [],
   "source": [
    "# check endianess\n",
    "np.dtype(\"datetime64[ns]\") == np.dtype(\"<M8[ns]\")\n"
   ]
  },
  {
   "cell_type": "code",
   "execution_count": null,
   "metadata": {},
   "outputs": [],
   "source": [
    "# inspect basic statistic summary details (all numberic fields)\n",
    "beer_df.describe().T\n"
   ]
  },
  {
   "cell_type": "markdown",
   "metadata": {},
   "source": [
    "Preliminary observations made, based on the above include :\n",
    "- **review_time** conversion to timestamp excludes the column from **DataFrame.describe()** method calculations.  This feature will need to be investigated independently\n",
    "- **brewery_id** and **beer_beerid** are ordinal in nature as such no statistical inference can be made from the related statisics \n",
    "- the min values of zero for **review_overall** and **review_appearance** indicate beers in the dataset with no ratings.  These will need to be removed from the dataset\n",
    "- with the exception of **review_overall** and **review_appearance** the remaining review ratings (review_aroma, review_appearance and review_taste) have ratings that fall within the range of 1-5 as expected and will not require additional cleaning\n",
    "- the 25%, 50%, and 75% percentiles for all review ratings are largely consistent.  Worthnoting however is the complete absence of a 3rd quartile (75%) for **review_aroma**, **review_appearance** and **review_palate**.  In addition, with each feature having a mean that is lower than the median, there is a distinct skewness of these features to the right.  Whilst not as extreme, this is also the case for the remaining review features, **review_overall** and **review_taste**.  This will be confirmed later with a number of visual checks\n",
    "- the max value for **beer_abv** is 57.7 which seems extremely high for an alcohol content and requires further investigation\n",
    "- conversion of the **review_time** from an integer to a datetime format \n"
   ]
  },
  {
   "cell_type": "code",
   "execution_count": null,
   "metadata": {},
   "outputs": [],
   "source": [
    "# filter for review_overall greater than zero and confirm results\n",
    "beer_df = beer_df[beer_df[\"review_overall\"] > 0]\n"
   ]
  },
  {
   "cell_type": "markdown",
   "metadata": {},
   "source": [
    "Filtering to exclude rows where the **review_overall** value is less than zero has also dealt with zero values for **review_appearance**."
   ]
  },
  {
   "cell_type": "code",
   "execution_count": null,
   "metadata": {},
   "outputs": [],
   "source": [
    "beer_df[\"review_time\"].dtypes\n"
   ]
  },
  {
   "cell_type": "code",
   "execution_count": null,
   "metadata": {},
   "outputs": [],
   "source": [
    " np.dtype('datetime64[ns]') == np.dtype('<M8[ns]')\n",
    "    "
   ]
  },
  {
   "cell_type": "markdown",
   "metadata": {},
   "source": [
    "### Visualising the data  <a id=\"dataviz\"></a>"
   ]
  },
  {
   "cell_type": "code",
   "execution_count": null,
   "metadata": {},
   "outputs": [],
   "source": [
    "# inspect distribution of dataframe numeric columns\n",
    "beer_df.hist(figsize = (20,20));\n"
   ]
  },
  {
   "cell_type": "code",
   "execution_count": null,
   "metadata": {},
   "outputs": [],
   "source": [
    "# inspect abv value skewness using a scatterplot\n",
    "abv_check = beer_df.groupby([\"beer_abv\", \"beer_name\"]).size().reset_index(name=\"counts\")\n",
    "\n",
    "plt.scatter(abv_check[\"beer_abv\"], abv_check[\"counts\"])\n",
    "plt.annotate(\"long tail of high abv beers\",(25,1000));\n",
    "plt.show()\n"
   ]
  },
  {
   "cell_type": "code",
   "execution_count": null,
   "metadata": {},
   "outputs": [],
   "source": [
    "# slice dataframe to list beers with values >=20% abv\n",
    "new_abv_check = abv_check.loc[abv_check[\"beer_abv\"] >= 20].sort_values(\n",
    "    \"beer_abv\", ascending = False)\n",
    "new_abv_check\n"
   ]
  },
  {
   "cell_type": "markdown",
   "metadata": {},
   "source": [
    "A validation of the abv for each individual beer (20 in total) confirmed that **beer_abv** values are correct and should remain in the dataset."
   ]
  },
  {
   "cell_type": "code",
   "execution_count": null,
   "metadata": {},
   "outputs": [],
   "source": [
    "# visualise check of review scores to identify outliers\n",
    "beer_df.boxplot(column=[\"review_overall\",\"review_aroma\", \"review_appearance\",\"review_palate\", \"review_taste\"],\n",
    "                figsize = (15,6), return_type=\"axes\", notch = True, \n",
    "                flierprops=dict(marker='s', markersize = 7, markerfacecolor=\"b\"));\n",
    "\n",
    "# add title and ticks\n",
    "plt.title(\"Boxplot of Ratings\", fontsize=20)\n",
    "plt.xticks(fontsize=12)\n",
    "plt.yticks(fontsize=12);\n"
   ]
  },
  {
   "cell_type": "markdown",
   "metadata": {},
   "source": [
    "Interestingly, there are 2 distinct groups within the 5 ratings features, which was not immediately evident from the initial histograms.  Also of note is that the proximity of the mean to the median in the group of **review_aroma**, **review_appearance** and **review_palate** is so small that there is no _'notching'_ at the median points in the plot.  This shows how heavily skewed the data is to the upper limit of the ratings, with the absence of the 75% quartile."
   ]
  },
  {
   "cell_type": "code",
   "execution_count": null,
   "metadata": {},
   "outputs": [],
   "source": [
    "# resize dataframe to analyse ratings\n",
    "columns = [\"beer_style\",\"review_overall\",\"review_aroma\",\"review_appearance\",\"review_palate\",\"review_taste\"]\n",
    "reviews_df = beer_df.loc[:,columns]\n",
    "#reviews_df = reviews_df.set_index(\"beer_style\")\n",
    "\n",
    "# plot heatmap to show correlations between the ratings features\n",
    "plt.figure(figsize=(6,5))\n",
    "sns.heatmap(reviews_df.corr(), xticklabels=reviews_df.corr().columns, \n",
    "            yticklabels=reviews_df.corr().columns, cmap=\"GnBu\", center=0, annot=True)\n",
    "\n",
    "# add title and ticks\n",
    "plt.title(\"Heatmap of Ratings\", fontsize=20)\n",
    "plt.xticks(fontsize=12)\n",
    "plt.yticks(fontsize=12)\n",
    "plt.show()\n"
   ]
  },
  {
   "cell_type": "code",
   "execution_count": null,
   "metadata": {},
   "outputs": [],
   "source": [
    "reviews_df"
   ]
  },
  {
   "cell_type": "code",
   "execution_count": null,
   "metadata": {},
   "outputs": [],
   "source": [
    "# Plot\n",
    "plt.figure(figsize=(10,8))\n",
    "sns.pairplot(reviews_df, kind=\"scatter\")\n",
    "plt.show()\n"
   ]
  },
  {
   "cell_type": "code",
   "execution_count": null,
   "metadata": {},
   "outputs": [],
   "source": []
  },
  {
   "cell_type": "code",
   "execution_count": null,
   "metadata": {},
   "outputs": [],
   "source": []
  },
  {
   "cell_type": "code",
   "execution_count": null,
   "metadata": {},
   "outputs": [],
   "source": []
  },
  {
   "cell_type": "code",
   "execution_count": null,
   "metadata": {},
   "outputs": [],
   "source": [
    "# check for large number of same reviewers ie reviewer bias\n",
    "total_reviews = beer_df[\"review_profilename\"].count()\n",
    "reviewers = beer_df.groupby(\"review_profilename\").size().reset_index(name=\"counts\")\n",
    "reviewers = reviewers.sort_values(by = \"counts\", ascending = False)\n",
    "\n",
    "weighting = round(reviewers[\"counts\"]/total_reviews * 100,2)\n",
    "weighted_reviewers = pd.concat([reviewers, weighting], axis = 1)\n",
    "weighted_reviewers.columns = [\"review_profilename\",\"ratings\",\"% total\"]\n",
    "weighted_reviewers.head(15)\n"
   ]
  },
  {
   "cell_type": "code",
   "execution_count": null,
   "metadata": {},
   "outputs": [],
   "source": []
  },
  {
   "cell_type": "code",
   "execution_count": null,
   "metadata": {},
   "outputs": [],
   "source": [
    "beer_df.describe(include=[object])"
   ]
  },
  {
   "cell_type": "code",
   "execution_count": null,
   "metadata": {},
   "outputs": [],
   "source": []
  },
  {
   "cell_type": "code",
   "execution_count": null,
   "metadata": {},
   "outputs": [],
   "source": [
    "# save to csv file for import\n",
    "beer_data = beer_df.to_csv(\"data/beer.gz\", header = True, compression=\"gzip\", index = False)\n"
   ]
  },
  {
   "cell_type": "code",
   "execution_count": null,
   "metadata": {},
   "outputs": [],
   "source": []
  },
  {
   "cell_type": "code",
   "execution_count": null,
   "metadata": {},
   "outputs": [],
   "source": []
  },
  {
   "cell_type": "code",
   "execution_count": null,
   "metadata": {},
   "outputs": [],
   "source": []
  },
  {
   "cell_type": "code",
   "execution_count": null,
   "metadata": {},
   "outputs": [],
   "source": []
  },
  {
   "cell_type": "code",
   "execution_count": null,
   "metadata": {},
   "outputs": [],
   "source": []
  },
  {
   "cell_type": "code",
   "execution_count": null,
   "metadata": {},
   "outputs": [],
   "source": []
  },
  {
   "cell_type": "code",
   "execution_count": null,
   "metadata": {},
   "outputs": [],
   "source": []
  },
  {
   "cell_type": "code",
   "execution_count": null,
   "metadata": {},
   "outputs": [],
   "source": []
  },
  {
   "cell_type": "code",
   "execution_count": null,
   "metadata": {},
   "outputs": [],
   "source": []
  },
  {
   "cell_type": "code",
   "execution_count": null,
   "metadata": {},
   "outputs": [],
   "source": []
  },
  {
   "cell_type": "code",
   "execution_count": null,
   "metadata": {},
   "outputs": [],
   "source": []
  },
  {
   "cell_type": "code",
   "execution_count": null,
   "metadata": {},
   "outputs": [],
   "source": []
  }
 ],
 "metadata": {
  "kernelspec": {
   "display_name": "Python [conda env:PythonAdv]",
   "language": "python",
   "name": "conda-env-PythonAdv-py"
  },
  "language_info": {
   "codemirror_mode": {
    "name": "ipython",
    "version": 3
   },
   "file_extension": ".py",
   "mimetype": "text/x-python",
   "name": "python",
   "nbconvert_exporter": "python",
   "pygments_lexer": "ipython3",
   "version": "3.6.10"
  }
 },
 "nbformat": 4,
 "nbformat_minor": 4
}
