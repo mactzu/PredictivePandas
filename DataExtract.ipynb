{
 "cells": [
  {
   "cell_type": "markdown",
   "metadata": {},
   "source": [
    "# Observations"
   ]
  },
  {
   "cell_type": "markdown",
   "metadata": {},
   "source": []
  },
  {
   "cell_type": "markdown",
   "metadata": {},
   "source": [
    "## Data Extraction\n"
   ]
  },
  {
   "cell_type": "code",
   "execution_count": 1,
   "metadata": {},
   "outputs": [],
   "source": [
    "# import dependencies\n",
    "import pandas as pd\n",
    "import numpy as np\n",
    "import matplotlib.pyplot as plt\n",
    "import seaborn as sns\n",
    "sns.set()\n",
    "import warnings\n",
    "warnings.filterwarnings(\"ignore\")\n",
    "%matplotlib inline\n"
   ]
  },
  {
   "cell_type": "code",
   "execution_count": 2,
   "metadata": {},
   "outputs": [],
   "source": [
    "# create dataframe\n",
    "beer_df = pd.read_csv(\"https://query.data.world/s/nuub3qupegsd33g3nimifjpajqeq2o\")\n",
    "\n",
    "# for local drive use\n",
    "#beer_df = pd.read_csv(\"data/beer.gz\")\n"
   ]
  },
  {
   "cell_type": "code",
   "execution_count": 3,
   "metadata": {},
   "outputs": [],
   "source": [
    "# drop all rows with any NaN values\n",
    "beer_df = beer_df.dropna()\n"
   ]
  },
  {
   "cell_type": "code",
   "execution_count": 4,
   "metadata": {},
   "outputs": [
    {
     "data": {
      "text/html": [
       "<div>\n",
       "<style scoped>\n",
       "    .dataframe tbody tr th:only-of-type {\n",
       "        vertical-align: middle;\n",
       "    }\n",
       "\n",
       "    .dataframe tbody tr th {\n",
       "        vertical-align: top;\n",
       "    }\n",
       "\n",
       "    .dataframe thead th {\n",
       "        text-align: right;\n",
       "    }\n",
       "</style>\n",
       "<table border=\"1\" class=\"dataframe\">\n",
       "  <thead>\n",
       "    <tr style=\"text-align: right;\">\n",
       "      <th></th>\n",
       "      <th>brewery_id</th>\n",
       "      <th>brewery_name</th>\n",
       "      <th>review_time</th>\n",
       "      <th>review_overall</th>\n",
       "      <th>review_aroma</th>\n",
       "      <th>review_appearance</th>\n",
       "      <th>review_profilename</th>\n",
       "      <th>beer_style</th>\n",
       "      <th>review_palate</th>\n",
       "      <th>review_taste</th>\n",
       "      <th>beer_name</th>\n",
       "      <th>beer_abv</th>\n",
       "      <th>beer_beerid</th>\n",
       "    </tr>\n",
       "  </thead>\n",
       "  <tbody>\n",
       "    <tr>\n",
       "      <th>0</th>\n",
       "      <td>10325</td>\n",
       "      <td>Vecchio Birraio</td>\n",
       "      <td>1234817823</td>\n",
       "      <td>1.5</td>\n",
       "      <td>2.0</td>\n",
       "      <td>2.5</td>\n",
       "      <td>stcules</td>\n",
       "      <td>Hefeweizen</td>\n",
       "      <td>1.5</td>\n",
       "      <td>1.5</td>\n",
       "      <td>Sausa Weizen</td>\n",
       "      <td>5.0</td>\n",
       "      <td>47986</td>\n",
       "    </tr>\n",
       "    <tr>\n",
       "      <th>1</th>\n",
       "      <td>10325</td>\n",
       "      <td>Vecchio Birraio</td>\n",
       "      <td>1235915097</td>\n",
       "      <td>3.0</td>\n",
       "      <td>2.5</td>\n",
       "      <td>3.0</td>\n",
       "      <td>stcules</td>\n",
       "      <td>English Strong Ale</td>\n",
       "      <td>3.0</td>\n",
       "      <td>3.0</td>\n",
       "      <td>Red Moon</td>\n",
       "      <td>6.2</td>\n",
       "      <td>48213</td>\n",
       "    </tr>\n",
       "    <tr>\n",
       "      <th>2</th>\n",
       "      <td>10325</td>\n",
       "      <td>Vecchio Birraio</td>\n",
       "      <td>1235916604</td>\n",
       "      <td>3.0</td>\n",
       "      <td>2.5</td>\n",
       "      <td>3.0</td>\n",
       "      <td>stcules</td>\n",
       "      <td>Foreign / Export Stout</td>\n",
       "      <td>3.0</td>\n",
       "      <td>3.0</td>\n",
       "      <td>Black Horse Black Beer</td>\n",
       "      <td>6.5</td>\n",
       "      <td>48215</td>\n",
       "    </tr>\n",
       "    <tr>\n",
       "      <th>3</th>\n",
       "      <td>10325</td>\n",
       "      <td>Vecchio Birraio</td>\n",
       "      <td>1234725145</td>\n",
       "      <td>3.0</td>\n",
       "      <td>3.0</td>\n",
       "      <td>3.5</td>\n",
       "      <td>stcules</td>\n",
       "      <td>German Pilsener</td>\n",
       "      <td>2.5</td>\n",
       "      <td>3.0</td>\n",
       "      <td>Sausa Pils</td>\n",
       "      <td>5.0</td>\n",
       "      <td>47969</td>\n",
       "    </tr>\n",
       "    <tr>\n",
       "      <th>4</th>\n",
       "      <td>1075</td>\n",
       "      <td>Caldera Brewing Company</td>\n",
       "      <td>1293735206</td>\n",
       "      <td>4.0</td>\n",
       "      <td>4.5</td>\n",
       "      <td>4.0</td>\n",
       "      <td>johnmichaelsen</td>\n",
       "      <td>American Double / Imperial IPA</td>\n",
       "      <td>4.0</td>\n",
       "      <td>4.5</td>\n",
       "      <td>Cauldron DIPA</td>\n",
       "      <td>7.7</td>\n",
       "      <td>64883</td>\n",
       "    </tr>\n",
       "    <tr>\n",
       "      <th>5</th>\n",
       "      <td>1075</td>\n",
       "      <td>Caldera Brewing Company</td>\n",
       "      <td>1325524659</td>\n",
       "      <td>3.0</td>\n",
       "      <td>3.5</td>\n",
       "      <td>3.5</td>\n",
       "      <td>oline73</td>\n",
       "      <td>Herbed / Spiced Beer</td>\n",
       "      <td>3.0</td>\n",
       "      <td>3.5</td>\n",
       "      <td>Caldera Ginger Beer</td>\n",
       "      <td>4.7</td>\n",
       "      <td>52159</td>\n",
       "    </tr>\n",
       "    <tr>\n",
       "      <th>6</th>\n",
       "      <td>1075</td>\n",
       "      <td>Caldera Brewing Company</td>\n",
       "      <td>1318991115</td>\n",
       "      <td>3.5</td>\n",
       "      <td>3.5</td>\n",
       "      <td>3.5</td>\n",
       "      <td>Reidrover</td>\n",
       "      <td>Herbed / Spiced Beer</td>\n",
       "      <td>4.0</td>\n",
       "      <td>4.0</td>\n",
       "      <td>Caldera Ginger Beer</td>\n",
       "      <td>4.7</td>\n",
       "      <td>52159</td>\n",
       "    </tr>\n",
       "    <tr>\n",
       "      <th>7</th>\n",
       "      <td>1075</td>\n",
       "      <td>Caldera Brewing Company</td>\n",
       "      <td>1306276018</td>\n",
       "      <td>3.0</td>\n",
       "      <td>2.5</td>\n",
       "      <td>3.5</td>\n",
       "      <td>alpinebryant</td>\n",
       "      <td>Herbed / Spiced Beer</td>\n",
       "      <td>2.0</td>\n",
       "      <td>3.5</td>\n",
       "      <td>Caldera Ginger Beer</td>\n",
       "      <td>4.7</td>\n",
       "      <td>52159</td>\n",
       "    </tr>\n",
       "    <tr>\n",
       "      <th>8</th>\n",
       "      <td>1075</td>\n",
       "      <td>Caldera Brewing Company</td>\n",
       "      <td>1290454503</td>\n",
       "      <td>4.0</td>\n",
       "      <td>3.0</td>\n",
       "      <td>3.5</td>\n",
       "      <td>LordAdmNelson</td>\n",
       "      <td>Herbed / Spiced Beer</td>\n",
       "      <td>3.5</td>\n",
       "      <td>4.0</td>\n",
       "      <td>Caldera Ginger Beer</td>\n",
       "      <td>4.7</td>\n",
       "      <td>52159</td>\n",
       "    </tr>\n",
       "    <tr>\n",
       "      <th>9</th>\n",
       "      <td>1075</td>\n",
       "      <td>Caldera Brewing Company</td>\n",
       "      <td>1285632924</td>\n",
       "      <td>4.5</td>\n",
       "      <td>3.5</td>\n",
       "      <td>5.0</td>\n",
       "      <td>augustgarage</td>\n",
       "      <td>Herbed / Spiced Beer</td>\n",
       "      <td>4.0</td>\n",
       "      <td>4.0</td>\n",
       "      <td>Caldera Ginger Beer</td>\n",
       "      <td>4.7</td>\n",
       "      <td>52159</td>\n",
       "    </tr>\n",
       "  </tbody>\n",
       "</table>\n",
       "</div>"
      ],
      "text/plain": [
       "   brewery_id             brewery_name  review_time  review_overall  \\\n",
       "0       10325          Vecchio Birraio   1234817823             1.5   \n",
       "1       10325          Vecchio Birraio   1235915097             3.0   \n",
       "2       10325          Vecchio Birraio   1235916604             3.0   \n",
       "3       10325          Vecchio Birraio   1234725145             3.0   \n",
       "4        1075  Caldera Brewing Company   1293735206             4.0   \n",
       "5        1075  Caldera Brewing Company   1325524659             3.0   \n",
       "6        1075  Caldera Brewing Company   1318991115             3.5   \n",
       "7        1075  Caldera Brewing Company   1306276018             3.0   \n",
       "8        1075  Caldera Brewing Company   1290454503             4.0   \n",
       "9        1075  Caldera Brewing Company   1285632924             4.5   \n",
       "\n",
       "   review_aroma  review_appearance review_profilename  \\\n",
       "0           2.0                2.5            stcules   \n",
       "1           2.5                3.0            stcules   \n",
       "2           2.5                3.0            stcules   \n",
       "3           3.0                3.5            stcules   \n",
       "4           4.5                4.0     johnmichaelsen   \n",
       "5           3.5                3.5            oline73   \n",
       "6           3.5                3.5          Reidrover   \n",
       "7           2.5                3.5       alpinebryant   \n",
       "8           3.0                3.5      LordAdmNelson   \n",
       "9           3.5                5.0       augustgarage   \n",
       "\n",
       "                       beer_style  review_palate  review_taste  \\\n",
       "0                      Hefeweizen            1.5           1.5   \n",
       "1              English Strong Ale            3.0           3.0   \n",
       "2          Foreign / Export Stout            3.0           3.0   \n",
       "3                 German Pilsener            2.5           3.0   \n",
       "4  American Double / Imperial IPA            4.0           4.5   \n",
       "5            Herbed / Spiced Beer            3.0           3.5   \n",
       "6            Herbed / Spiced Beer            4.0           4.0   \n",
       "7            Herbed / Spiced Beer            2.0           3.5   \n",
       "8            Herbed / Spiced Beer            3.5           4.0   \n",
       "9            Herbed / Spiced Beer            4.0           4.0   \n",
       "\n",
       "                beer_name  beer_abv  beer_beerid  \n",
       "0            Sausa Weizen       5.0        47986  \n",
       "1                Red Moon       6.2        48213  \n",
       "2  Black Horse Black Beer       6.5        48215  \n",
       "3              Sausa Pils       5.0        47969  \n",
       "4           Cauldron DIPA       7.7        64883  \n",
       "5     Caldera Ginger Beer       4.7        52159  \n",
       "6     Caldera Ginger Beer       4.7        52159  \n",
       "7     Caldera Ginger Beer       4.7        52159  \n",
       "8     Caldera Ginger Beer       4.7        52159  \n",
       "9     Caldera Ginger Beer       4.7        52159  "
      ]
     },
     "execution_count": 4,
     "metadata": {},
     "output_type": "execute_result"
    }
   ],
   "source": [
    "# remove duplicate rows in place\n",
    "beer_df.drop_duplicates(keep=\"first\")\n",
    "beer_df = beer_df.reset_index(drop = True)\n",
    "\n",
    "# show first 10 rows\n",
    "beer_df.head(10)\n"
   ]
  },
  {
   "cell_type": "code",
   "execution_count": 5,
   "metadata": {},
   "outputs": [],
   "source": [
    "# save to csv file for local use\n",
    "beer_data = beer_df.to_csv(\"data/beer.gz\", header = True, compression=\"gzip\", index = False)\n"
   ]
  },
  {
   "cell_type": "markdown",
   "metadata": {},
   "source": [
    "## Exploratory analysis"
   ]
  },
  {
   "cell_type": "markdown",
   "metadata": {},
   "source": [
    "An initial inspection of dataset is done for information on number of rows and columns, the data types and for confirmation that no null values remain.  A basic statistical analysis is then be completed using the **dataframe.describe()** to show for each feature, the:\n",
    "- mean or average value\n",
    "- standard deviation, which shows the spread of the data\n",
    "- range of the data (min and max)\n",
    "- 25%, 50% and 75% quartiles, showing skewedness in the data and the existence of outliers\n",
    "\n",
    "Note as the default **DataFrame.describe()** method does not include categorical values in the summary, an additional check is done using the parameter _(include=[object])_ to examine the string columns.  This was chosen over the _(include=\"all\")_ parameter to increase the readability of both summary outputs."
   ]
  },
  {
   "cell_type": "code",
   "execution_count": 6,
   "metadata": {},
   "outputs": [
    {
     "data": {
      "text/plain": [
       "(1518478, 13)"
      ]
     },
     "execution_count": 6,
     "metadata": {},
     "output_type": "execute_result"
    }
   ],
   "source": [
    "# inspect number of rows and columns \n",
    "beer_df.shape\n"
   ]
  },
  {
   "cell_type": "code",
   "execution_count": 7,
   "metadata": {},
   "outputs": [
    {
     "name": "stdout",
     "output_type": "stream",
     "text": [
      "<class 'pandas.core.frame.DataFrame'>\n",
      "RangeIndex: 1518478 entries, 0 to 1518477\n",
      "Data columns (total 13 columns):\n",
      " #   Column              Non-Null Count    Dtype  \n",
      "---  ------              --------------    -----  \n",
      " 0   brewery_id          1518478 non-null  int64  \n",
      " 1   brewery_name        1518478 non-null  object \n",
      " 2   review_time         1518478 non-null  int64  \n",
      " 3   review_overall      1518478 non-null  float64\n",
      " 4   review_aroma        1518478 non-null  float64\n",
      " 5   review_appearance   1518478 non-null  float64\n",
      " 6   review_profilename  1518478 non-null  object \n",
      " 7   beer_style          1518478 non-null  object \n",
      " 8   review_palate       1518478 non-null  float64\n",
      " 9   review_taste        1518478 non-null  float64\n",
      " 10  beer_name           1518478 non-null  object \n",
      " 11  beer_abv            1518478 non-null  float64\n",
      " 12  beer_beerid         1518478 non-null  int64  \n",
      "dtypes: float64(6), int64(3), object(4)\n",
      "memory usage: 150.6+ MB\n"
     ]
    }
   ],
   "source": [
    "# check additional information about dataframe ie spread of data types, null values, total number of records\n",
    "beer_df.info()\n"
   ]
  },
  {
   "cell_type": "code",
   "execution_count": 10,
   "metadata": {},
   "outputs": [],
   "source": [
    "# convert epoch unix time as integer to timestamp for plotting\n",
    "beer_df[\"review_time\"] = pd.to_datetime(beer_df[\"review_time\"], unit = \"s\")\n"
   ]
  },
  {
   "cell_type": "code",
   "execution_count": 21,
   "metadata": {},
   "outputs": [
    {
     "data": {
      "text/plain": [
       "dtype('<M8[ns]')"
      ]
     },
     "execution_count": 21,
     "metadata": {},
     "output_type": "execute_result"
    }
   ],
   "source": [
    "# check data type\n",
    "beer_df[\"review_time\"].dtypes\n"
   ]
  },
  {
   "cell_type": "code",
   "execution_count": 22,
   "metadata": {},
   "outputs": [
    {
     "data": {
      "text/plain": [
       "True"
      ]
     },
     "execution_count": 22,
     "metadata": {},
     "output_type": "execute_result"
    }
   ],
   "source": [
    "# check endianess\n",
    "np.dtype(\"datetime64[ns]\") == np.dtype(\"<M8[ns]\")\n"
   ]
  },
  {
   "cell_type": "code",
   "execution_count": 23,
   "metadata": {},
   "outputs": [
    {
     "data": {
      "text/html": [
       "<div>\n",
       "<style scoped>\n",
       "    .dataframe tbody tr th:only-of-type {\n",
       "        vertical-align: middle;\n",
       "    }\n",
       "\n",
       "    .dataframe tbody tr th {\n",
       "        vertical-align: top;\n",
       "    }\n",
       "\n",
       "    .dataframe thead th {\n",
       "        text-align: right;\n",
       "    }\n",
       "</style>\n",
       "<table border=\"1\" class=\"dataframe\">\n",
       "  <thead>\n",
       "    <tr style=\"text-align: right;\">\n",
       "      <th></th>\n",
       "      <th>count</th>\n",
       "      <th>mean</th>\n",
       "      <th>std</th>\n",
       "      <th>min</th>\n",
       "      <th>25%</th>\n",
       "      <th>50%</th>\n",
       "      <th>75%</th>\n",
       "      <th>max</th>\n",
       "    </tr>\n",
       "  </thead>\n",
       "  <tbody>\n",
       "    <tr>\n",
       "      <th>brewery_id</th>\n",
       "      <td>1518478.0</td>\n",
       "      <td>3074.306112</td>\n",
       "      <td>5544.338725</td>\n",
       "      <td>1.00</td>\n",
       "      <td>141.0</td>\n",
       "      <td>417.0</td>\n",
       "      <td>2298.0</td>\n",
       "      <td>28003.0</td>\n",
       "    </tr>\n",
       "    <tr>\n",
       "      <th>review_overall</th>\n",
       "      <td>1518478.0</td>\n",
       "      <td>3.823938</td>\n",
       "      <td>0.717266</td>\n",
       "      <td>0.00</td>\n",
       "      <td>3.5</td>\n",
       "      <td>4.0</td>\n",
       "      <td>4.5</td>\n",
       "      <td>5.0</td>\n",
       "    </tr>\n",
       "    <tr>\n",
       "      <th>review_aroma</th>\n",
       "      <td>1518478.0</td>\n",
       "      <td>3.746218</td>\n",
       "      <td>0.695344</td>\n",
       "      <td>1.00</td>\n",
       "      <td>3.5</td>\n",
       "      <td>4.0</td>\n",
       "      <td>4.0</td>\n",
       "      <td>5.0</td>\n",
       "    </tr>\n",
       "    <tr>\n",
       "      <th>review_appearance</th>\n",
       "      <td>1518478.0</td>\n",
       "      <td>3.850383</td>\n",
       "      <td>0.614311</td>\n",
       "      <td>0.00</td>\n",
       "      <td>3.5</td>\n",
       "      <td>4.0</td>\n",
       "      <td>4.0</td>\n",
       "      <td>5.0</td>\n",
       "    </tr>\n",
       "    <tr>\n",
       "      <th>review_palate</th>\n",
       "      <td>1518478.0</td>\n",
       "      <td>3.753735</td>\n",
       "      <td>0.679335</td>\n",
       "      <td>1.00</td>\n",
       "      <td>3.5</td>\n",
       "      <td>4.0</td>\n",
       "      <td>4.0</td>\n",
       "      <td>5.0</td>\n",
       "    </tr>\n",
       "    <tr>\n",
       "      <th>review_taste</th>\n",
       "      <td>1518478.0</td>\n",
       "      <td>3.804082</td>\n",
       "      <td>0.728608</td>\n",
       "      <td>1.00</td>\n",
       "      <td>3.5</td>\n",
       "      <td>4.0</td>\n",
       "      <td>4.5</td>\n",
       "      <td>5.0</td>\n",
       "    </tr>\n",
       "    <tr>\n",
       "      <th>beer_abv</th>\n",
       "      <td>1518478.0</td>\n",
       "      <td>7.042488</td>\n",
       "      <td>2.322568</td>\n",
       "      <td>0.01</td>\n",
       "      <td>5.2</td>\n",
       "      <td>6.5</td>\n",
       "      <td>8.5</td>\n",
       "      <td>57.7</td>\n",
       "    </tr>\n",
       "    <tr>\n",
       "      <th>beer_beerid</th>\n",
       "      <td>1518478.0</td>\n",
       "      <td>21405.754954</td>\n",
       "      <td>21780.329300</td>\n",
       "      <td>5.00</td>\n",
       "      <td>1654.0</td>\n",
       "      <td>12830.0</td>\n",
       "      <td>39236.0</td>\n",
       "      <td>77316.0</td>\n",
       "    </tr>\n",
       "  </tbody>\n",
       "</table>\n",
       "</div>"
      ],
      "text/plain": [
       "                       count          mean           std   min     25%  \\\n",
       "brewery_id         1518478.0   3074.306112   5544.338725  1.00   141.0   \n",
       "review_overall     1518478.0      3.823938      0.717266  0.00     3.5   \n",
       "review_aroma       1518478.0      3.746218      0.695344  1.00     3.5   \n",
       "review_appearance  1518478.0      3.850383      0.614311  0.00     3.5   \n",
       "review_palate      1518478.0      3.753735      0.679335  1.00     3.5   \n",
       "review_taste       1518478.0      3.804082      0.728608  1.00     3.5   \n",
       "beer_abv           1518478.0      7.042488      2.322568  0.01     5.2   \n",
       "beer_beerid        1518478.0  21405.754954  21780.329300  5.00  1654.0   \n",
       "\n",
       "                       50%      75%      max  \n",
       "brewery_id           417.0   2298.0  28003.0  \n",
       "review_overall         4.0      4.5      5.0  \n",
       "review_aroma           4.0      4.0      5.0  \n",
       "review_appearance      4.0      4.0      5.0  \n",
       "review_palate          4.0      4.0      5.0  \n",
       "review_taste           4.0      4.5      5.0  \n",
       "beer_abv               6.5      8.5     57.7  \n",
       "beer_beerid        12830.0  39236.0  77316.0  "
      ]
     },
     "execution_count": 23,
     "metadata": {},
     "output_type": "execute_result"
    }
   ],
   "source": [
    "# inspect basic statistic summary details (all numberic fields)\n",
    "beer_df.describe().T\n"
   ]
  },
  {
   "cell_type": "markdown",
   "metadata": {},
   "source": [
    "Preliminary observations made, based on the above include :\n",
    "- **review_time** conversion to timestamp excludes the column from **DataFrame.describe()** method calculations.  This feature will need to be investigated independently\n",
    "- **brewery_id** and **beer_beerid** are ordinal in nature as such no statistical inference can be made from the related statisics \n",
    "- the min values of zero for **review_overall** and **review_appearance** indicate beers in the dataset with no ratings.  These will need to be removed from the dataset\n",
    "- with the exception of **review_overall** and **review_appearance** the remaining review ratings (review_aroma, review_appearance and review_taste) have ratings that fall within the range of 1-5 as expected and will not require additional cleaning\n",
    "- the 25%, 50%, and 75% percentiles for all review ratings are largely consistent.  Worthnoting however is the complete absence of a 3rd quartile (75%) for **review_aroma**, **review_appearance** and **review_palate**.  In addition, with each feature having a mean that is lower than the median, there is a distinct skewness of these features to the right.  Whilst not as extreme, this is also the case for the remaining review features, **review_overall** and **review_taste**.  This will be confirmed later with a number of visual checks\n",
    "- the max value for **beer_abv** is 57.7 which seems extremely high for an alcohol content and requires further investigation\n",
    "- conversion of the **review_time** from an integer to a datetime format \n"
   ]
  },
  {
   "cell_type": "code",
   "execution_count": 26,
   "metadata": {},
   "outputs": [],
   "source": [
    "# filter for review_overall greater than zero and confirm results\n",
    "beer_df = beer_df[beer_df[\"review_overall\"] > 0]\n"
   ]
  },
  {
   "cell_type": "markdown",
   "metadata": {},
   "source": [
    "Filtering to exclude rows where the **review_overall** value is less than zero has also dealt with zero values for **review_appearance**."
   ]
  },
  {
   "cell_type": "code",
   "execution_count": 16,
   "metadata": {},
   "outputs": [
    {
     "data": {
      "text/plain": [
       "dtype('<M8[ns]')"
      ]
     },
     "execution_count": 16,
     "metadata": {},
     "output_type": "execute_result"
    }
   ],
   "source": [
    "beer_df[\"review_time\"].dtypes\n"
   ]
  },
  {
   "cell_type": "code",
   "execution_count": 17,
   "metadata": {},
   "outputs": [
    {
     "data": {
      "text/plain": [
       "True"
      ]
     },
     "execution_count": 17,
     "metadata": {},
     "output_type": "execute_result"
    }
   ],
   "source": [
    " np.dtype('datetime64[ns]') == np.dtype('<M8[ns]')\n",
    "    "
   ]
  },
  {
   "cell_type": "markdown",
   "metadata": {},
   "source": [
    "## Visualise the data"
   ]
  },
  {
   "cell_type": "code",
   "execution_count": 28,
   "metadata": {},
   "outputs": [
    {
     "data": {
      "image/png": "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\n",
      "text/plain": [
       "<Figure size 1440x1440 with 9 Axes>"
      ]
     },
     "metadata": {
      "needs_background": "light"
     },
     "output_type": "display_data"
    }
   ],
   "source": [
    "# inspect distribution of dataframe numeric columns\n",
    "beer_df.hist(figsize = (20,20));\n"
   ]
  },
  {
   "cell_type": "code",
   "execution_count": 29,
   "metadata": {},
   "outputs": [
    {
     "data": {
      "image/png": "iVBORw0KGgoAAAANSUhEUgAAAYIAAAD7CAYAAABnoJM0AAAAOXRFWHRTb2Z0d2FyZQBNYXRwbG90bGliIHZlcnNpb24zLjMuMiwgaHR0cHM6Ly9tYXRwbG90bGliLm9yZy8vihELAAAACXBIWXMAAAsTAAALEwEAmpwYAAAnxElEQVR4nO3df5Ac5X3n8ffMrrS7kbSWWBYvMj9MBPpKbAARAj5F2JJtnERXgG1sQiESQQjCDgmx62IS10UpB1flgkOVnMBZiU9GAaziRwyYCwKZMgiEEYI4lARYEo+xThCMpNx6BbdaebXaH3N/zMwyO9s90z3TOzPd83lVuazp7Z7tZ2Z5vv38+j6pTCaDiIg0r3S9b0BEROpLgUBEpMkpEIiINDkFAhGRJqdAICLS5FrrfQMBtAEXAgeBsTrfi4hIXLQAJwM/BoZLnRiHQHAh8KN634SISEx9FHi+1AlxCAQHAd599yjj4+HXPHR1zaa/fzDym6onlSkeklampJUHkl2mdDrFvHmzIFeHlhKHQDAGMD6eqSgQ5K9NGpUpHpJWpqSVB5qiTGW71DVYLCLS5BQIRESanAKBiEiTUyAQEWlycRgsbko7dh/ikW376B8YpquzjSuWL2Bpb0+9b0tEEkiBoAHt2H2Ie7a8zvHRcQD6B4a5Z8vrAAoGIhI5dQ01oEe27ZsIAnnHR8d5ZNu+Ot2RiCSZAkED6h/wXg3ud1xEpBoKBA2oq7Mt1HERkWooEDSgK5YvYGbr5K9mZmuaK5YvqNMdiUiSabC4AeUHhDVrSERqQYGgQS3t7VHFLyI1oa4hEZEmp0AgItLkFAhERJqcxggalFJMiEitKBA0IKWYEJFaUtdQA1KKCRGpJQWCBqQUEyJSSwoEDUgpJkSklgKNEZjZ14HPAxngLufcOjO7BFgHdAAPOufW5s5dAmwAPgA8B3zROTdqZqcBm4CTAAdc45wbjLg8iXDF8gWTxghAKSZEZPqUbRGY2XLgE8C5wG8AN5vZecBG4NPAYuBCM1uZu2QTcLNzbiGQAtbkjq8H1jvnFgH/DvxVlAVpdDt2H+KW9du5/rat3LJ+Ozt2H/I9d2lvD9euXDTRAujqbOPalYs0UCwi06Jsi8A5t83MPp57qv9Q7pq5wBvOuf0AZrYJuNLM9gAdzrkXc5ffDdxqZt8BPgZ8puD4NuAvoitK46pkFpBSTIhIrQQaI3DOjZjZrcAe4GlgPnCw4JSDwCkljp8IDDjnRouONwXNAhKRRhZ4HYFz7mtm9g3gMeAsj1PGyXYFhTkeWFfX7DCnT9LdPafia6Nw2Ge2z+GB4Yrvrd5lmg4qU+NLWnlAZYIAgcDMFgHtzrldzrlfmtkjZAeOxwpOOxk4ALwD9Hgc7wM6zazFOTdWcDyw/v5BxsczYS4Bsh9IX9+R0NdF6YTONs+pnyd0tlV0b41QpqipTI0vaeWBZJcpnU4FfoAO0jX0q8AGM2szs5lkB4i/DZiZnWlmLcAqYItz7i3gmJkty127Ond8BPgRcFXh8cAlizltNCMijaxsIHDOPQE8AewEXgZecM49AFwHPEx23OB14KHcJdcA3zSzvcAs4I7c8ZuAG3MDyh8F1kZXjMamWUAi0shSmUz47pYa+zCwP85dQ1FTmeIhaWVKWnkg2WUq6Bo6A3iz1DVaWSwi0uQUCEREmpwCgYhIk1MgEBFpcgoEIiJNToFARKTJKRCIiDQ5BQIRkSanQCAi0uQCZx+V6u3YfYhHtu2jf2CYrs42rli+QGkmRKTuFAhqxGtzmg2P7eHeHziGR8YUGESkbtQ1VCNem9MADI9ks3nndy0rtYWliMh0UCCoEa/9CIpp1zIRqQcFghrJp6AuJ0jAEBGJkgJBjQTdhCZowBARiYoCQY0s7e3h4+fPL3mOdi0TkXpQIKih3//tRay57OyJp/5Z7S3M7shO3NKuZSJSL5o+GrFyawWW9vaosheRhqJAECGvtQL3bHkdyAYALSgTkUakQBAhr7UChVNCSwUJEZF60RhBhPymfvYPDJcNEiIi9aIWQYS6Ots8g4HfccgGCXUZiUg9BQoEZvY14HdzLx93zv25mW0EPgoczR2/1Tn3fTO7BFgHdAAPOufW5t5jCbAB+ADwHPBF59xoZCVpAFcsXzCp+wfenxKar+iLzWpv8cxB9LOfv8fv//aimt27iDSvsoEgV7H/FnA+kAF+YGafBS4EPuacO1hwbgewEVgOvA08bmYrnXNbgE3ADc65F83sLmAN8I9RF6ie8k/xfk/3XkEilUpxfHRsyns9s/MAP379/zI4NMqs9hZSqRSDQ6N0dbZx3aW99J42tyZlEpHkCzJGcBD4M+fccefcCLAXOC33vw1m9qqZ3WpmaeAi4A3n3P7c0/4m4EozOx3ocM69mHvPu4Eroy5MI1ja28PtNy1jzWVnA7DhsT3csn47ANeuXDSxhiC/bmBwyL9RlP/Z0WNjE//uHxjmf37vFSWnE5HIlG0ROOd25/9tZmcBVwEXAyuALwCDwGbgD3P/Plhw+UHgFGC+z/HAurpmhzl9ku7uORVfW4lnX357Ir00ZCvve3/g+JMrz+Pur/3OpHMffX4/fe8OhXr/4ZEx7np8L51z2llxwamR3Xe91fp7qoWklSlp5QGVCUIMFptZL/A48BXnnAM+W/CzO4HVwPc8Lh0HUj7HA+vvH2R8PBPmEiD7gfT1HQl9XTXu3rx7IgjkDY+Mcffm3VO6dD5z8RlseGxP6N8xPp7hHx7cycCRY4kYWK7H9zTdklampJUHkl2mdDoV+AE66GDxMuBh4MvOuQfM7BxgoXPu4dwpKWAEeAcorJVOBg6UOB57XjN+Ss0QKra0t4ef/fw9ntkZ/uMYHctw/1M/TUQgEJH6KTtGYGanAo8Cq5xzD+QOp4C/N7N5ZjYDuBH4PvBS9hI708xagFXAFufcW8CxXECBbOthS7RFqb38SuJ8BZ9fJJbPH1TML7NoNbODSo0xiIgEEaRF8BWgHVhnZvlj/wT8LbAdmAE87Jy7H8DMriPbemgHngAeyl1zDdnB5TnATuCOaIpQP36LxGa0ppjZmvacRuqn1FoDEZHpFGSw+EvAl3x+vN7j/KeB8zyOv0J2VlFi+FXcR4+Nseays0MtEvNagxDErPaWUOeLiBTTyuIqlFpJHDbLaPEahOK1A+cu6OK5XQcYKxgvb0nBqk+ZzzuKiASjQFCFUiuJK1EueJx5ylwe2baPwwPDnKBUFCISEQWCKpRbSTwdv29pbw/d3XP412ff4JFt+9jw2B7lJxKRqigQVCloF1CUieWeffltpbQWkcgoDXUN+E0zrTRNxL1b9iqltYhERoGgBqLei+AXPikpNP1URCqhrqGIlOr6CbPSOIgT53V45ifyW7AmIlKKWgQRKNf1E3alcTmrVy5mZuvkr66a2Uoi0tzUIohAua6foWNT00C0tqRCV9z5VsfhgWF+pb2FmTNaJ9YZaNaQiFRKgaACxd1A5fYqHvNImto2Ix2q4s63OvIB5+ixMWa2pllz2dkKACJSFXUNheTVDeSnVJA4emzqrmSlRD3gLCKSpxZBSF4VspdyexWHHR8oN+Ac5ToFEWkuahGEVK4FkP//a1cuYmlvD1csXxDJwK5f4OjqbIt8nYKINBe1CEIqlWju9puWTTkeVRqKUnmNSnUbqVUgIuUoEIRUSaK5sJlI/d4D8Ew657fVpRaYiUgQCgQh1TrRXPHvziedK9xntVQrRUSkHAWCCkTxhB+lqNNhi0hzUSCokemc1VPPVoqIxJ8CQQ0ULwabjrTRjdZKEZH40PTRGvCb1XPX5j2a4ikidacWQQTKdfv4zd4Zz6ANZUSk7gIFAjP7GvC7uZePO+f+3MwuAdYBHcCDzrm1uXOXABuADwDPAV90zo2a2WnAJuAkwAHXOOcGoyxMPQTp9imVasJvvr9WCotIrZTtGspV+L8FnA8sAS4ws6uBjcCngcXAhWa2MnfJJuBm59xCIAWsyR1fD6x3zi0C/h34qwjLUTdBun28VhcXKg4SWiksIrUUZIzgIPBnzrnjzrkRYC+wEHjDObffOTdKtvK/0sxOBzqccy/mrr07d3wG8DHgocLj0RWjfsp1++zYfYilvT1cu3IRKZ/3KJ7vrwRzIlJLZbuGnHO78/82s7OAq4A7yAaIvIPAKcB8n+MnAgO5oFF4PLCurtlhTp+ku3tOxdeWfW+f3cIgW3k/+vx+Ll9xFp1z3iOdTjE2PjUn9fHRcXb/x3usuOBUAA77BJfDA8MTZZnOMtWLytT4klYeUJkgxGCxmfUCjwNfAUYAKzplHDwfeksdD6y/f5Bxj0q0nOJVuFH7zMVnTFnMVajv3SH6+o5w9+bdnkEA4MgvR7jzX3YxcOQYS3t7OMFnTOGEzjb6+o5MKVMSxhOm+3uqh6SVKWnlgWSXKZ1OBX6ADjR91MyWAU8DX3XO3QO8AxTWNCcDB0oc7wM6zayl6Hjs5bt90j79Pvlun3J5fwq7fsJkLNV4gohUK8hg8anAo8Aq59wDucMvZX9kZ+Yq91XAFufcW8CxXOAAWJ07PgL8iGy30sTx6IpRX0t7e/jDS88uWXn77VtcqH9gmOtv28r9T/2UZef0eKa1LqbxBBGpVpCuoa8A7cA6s4neoH8CrgMezv3sCd4fCL4G2GBmc4CdZMcTAG4C7jGztcB/AFdHcP8NZUZriuO5UZDZHa1cfcnCico7kwnerTU4NMqPXj3IH/zXxWW7eMptWCMiUk6QweIvAV/y+fF5Hue/AlzkcfwtYEXI+4uF4rUEAMdHJj+lh92acnQsE2g/AWUeFZFqKcVEBIJ0z1RSMZd6qt+x+xC3rN/ueY4yj4pIGAoEEQjSPXPugq7Q7+sXPJ59+e1JA8TF1/iNJ4iIeFGuoQikU9kFZF6uv20rXZ1tDI+E6xoC/+Bx75a9ntNV/bbLFBEpRS2CCJRb3tA/MMzg0Gjpkzxsf+2Q5zTQX/gsYNMAsYhUQoEgAtM1MOs3DfTEeR01vQ8RSTYFgghUOjDbkiq/vsDrKX/1ysWBF5yJiJSjMYIq5dM7BDGrvYX2ma2eqSD8ZgB5PeWvuOBUBo4ci31aCRFpDAoEVfBaP+BnZmuaVZ8y38raawN6yLYIblm/fUpF38hbUyYh95FIM1EgqILX+oG8We0tpFIpBodGJ1WGXpVk4Xt5zUDy2uymUSvbWuzPLCLRUiCoQqlZOnd+efmUY16V5MbNexgH8hko/GYgFe5kll9HEHVlG0VwKbW4ToFApDEpEFQhbHoHr0pyLERm7XxSunQ6NSUld7WVbVRP8sp9JBI/mjVUBb8tKAeHjvOn//Ac19+2lVvWb59YCxBVZei3L0M17x9VFlO/IKiprSKNSy2CKuSflO/7oZuUVG54JMPwSHYBWeGT9az2ltDJ58Io3BMhbDdPVE/yXoPemtoq0tgUCCIwNFy6cs8/WadSfrsWT9U2I8XsjpmhKuJ8Q6GSbp6ospjm378RB7JFxJsCQRXyFW6QHTTDVOitLSlW/87ismsMiuUr7UoGbKN8km/kqa0iMpXGCKpQavposXSJVcSz2lsm7UZWvCGN31hEocJKu5JunvyWm0F2RRORZFGLoAphu22Gjk1NPNfakpq00Czft7/hsT1TulXy3S3d8zr4tQ/P49V9/Z7dL5V28+hJXqQ5KRBUwa/C9ZJOeU8VbZuRnhQESvXt58/r7p5DX98R39+lAVsRCUNdQ1Xw6rJpSWWf8ov5jSMUziLy69vf8NieSdNQy1E3j4iEoRZBlbw2rAe4Z8tejo+WH0Xu6mybNNXTT2HroHPOe9y9eXfJWTnq5hGRoBQIKvTdJ1/nmZ0HJh0bHBplw2N7aJuRChQEZramOXdBV+DEdcdHx7lny15SqfTEjmfK5SMi1QocCMysE3gBuNQ596aZbQQ+ChzNnXKrc+77ZnYJsA7oAB50zq3NXb8E2AB8AHgO+KJzLvy2XQ1gx+5DU4JAoeGR8kEgnYJl5/Tw6r7+wDOPgFyAGSs6plw+IlK5QGMEZvYR4HlgYcHhC4GPOeeW5P73fTPrADYCnwYWAxea2crc+ZuAm51zC4EUsCaqQtRa2LQLXsYz8OzOA5GlnVAuHxGpVNDB4jXAHwMHAMxsFnAasMHMXjWzW80sDVwEvOGc25972t8EXGlmpwMdzrkXc+93N3BlhOWoqagq3RD55spSLh8RqVSgriHn3A0AZpY/9EFgK/AFYBDYDPxh7t8HCy49CJwCzPc5HlhX1+wwp0/S3T2n4ms9329eB30+G8hXom1Gy0Sff6XXX3dpb+TlrNSzL7/NvVv28ot3hzhxXgerVy5mxQWnlr2uUe4/SkkrU9LKAyoTVDhY7Jz7P8Bn86/N7E5gNfA9j9PHyXYFeR0PrL9/0DfrZinl5txX4jMXn8HGzXsCp5Bum5EqOW7wm7/2QbbtOjBpimm5BHX5DWzys4Z6T5sbeTkrUbwWou/dIe78l10MHDlWcgxjOr6nektamZJWHkh2mdLpVOAH6IrWEZjZOWb2uYJDKWAEeAco/K/9ZLLdSX7HY2lpbw8d7cFjaLnB4+2vHZqyzqBcltLxzPuLxBppkDiqdNYiUjuVTh9NAX9vZlvJdgfdCNwDvASYmZ0J7AdWARudc2+Z2TEzW+ac20629bCl+tuvn8GhaCY8VdMtdHx0nPt+6Boq06c2phGJn4paBM65V4G/BbYDe4Bdzrn7nXPHgOuAh3PHXwceyl12DfBNM9sLzALuqO7W6yuKwdlqxwYg23LIV7L5NQVBVyBPB21MIxI/oVoEzrkPF/x7PbDe45yngfM8jr9CdlZRInjl8wmr2iDgpd5rCpTnSCR+tLK4Qn67kzWCenbDaGMakfhRIKiCVzCY3dHKqSfNZu9b74V6ryi3sax3N4zyHInEi7KPViE/VbKwAh8cGuWNn/8/YPIewqV0dbZx55eX+25cE4a6YUQkLLUIKlAuW+hoboFBfopnuXGEfMVdyUykWe0ttM9sVTeMiFRMgSCk4gVT5ZQ7r7DREGajG8gGmcLdzUREKqGuoZDC7FMcRAYmpnyW2pu4q7ONj58/n1ntLRPHZs7Q1yci1VOLIKTpmJGTn/J5xfIFnhvdFG5luf2199cIDA6Nai8CEamaAkFIYbtvguofGGbDY3smHTs+MrnlUSp9Q2EgKBzD0LiBiJSjvoWQajkjpzhHT5D0DfkxjEZabSwijU0tgpCW9vZMeXKfToWVvF9rJJ2C62/bSldnG8MjY4FaDSIieWoRNLjCxWF+g8n5zKX9A8O+U1CV9E1E/KhFUIHZHa1VZR9NpSATcC+D/oFhbvjG1om9B5ad08NP3nyXvneHJvYkCKLeq41FpHGpRVCBCxedVNX1N1x6tu80US+FT/zbXzvE6pWL2fjVTwQOAlptLCKlKBCEVDyFsxKPbNvHsnN6Jq0JCOr46Dj3btkL+D/lz2pv0XoDEQlMNURIUSwoyz/Zr/qUseays0MHhF/k9kv2GjOY2ZrmosUfZGT0/eZCfr2BZg6JiBcFgpCiGnQtnMnTPjPcUM2J8zqA7Ayma1cummgZdHW2ce3KRby6r1/bRYpIYBosDqnageJC/QPD3LJ+e+j8QqtXLp547ZXy2W96q2YOiYgXBYIQduw+xNCxaIJAXpjKOZWCZef0sOKCU1m36cds23Vg0oBxfhWx33oDzRwSES8KBCE8sm0fYwFn6kyHTAa2v3aIw//4PK/8rH/Kz/sHhvnO5j0sOm2uZyA4d0FXLW5TRGJGYwQhNELXyvHRcc8gkJfJ4Ls72qv7/K8TkealQBBC3LtWGiGQiUjjCdQ1ZGadwAvApc65N83sEmAd0AE86JxbmztvCbAB+ADwHPBF59yomZ0GbAJOAhxwjXNuMOrCTLcrli8ItSlNowkTyJTBVKR5lG0RmNlHgOeBhbnXHcBG4NPAYuBCM1uZO30TcLNzbiHZzbfW5I6vB9Y75xYB/w78VZSFqJX8dM2gexHXk9f6gqCri5XBVKS5BOkaWgP8MXAg9/oi4A3n3H7n3CjZyv9KMzsd6HDOvZg77+7c8RnAx4CHCo9Hc/u1t7S3J3Bqh3qZ2ZryXF8Q9Im+1L4HIpI8ZbuGnHM3AJhZ/tB84GDBKQeBU0ocPxEYyAWNwuOhdHXNDnvJhO7uORVf6/l+8zroy63ubUQjoxkuX3EWl684q6LrD/uMJRweGI78syw0ne9dL0krU9LKAyoTVDZ91KtjZLyC46H09w8yXsGjeHf3HPr6joS+rpTPXHwGGzfvqetU0lJO6GzjX599I1Afv9dYwAk+6xBO6GyL/LPMm47vqd6SVqaklQeSXaZ0OhX4AbqSWUPvAIU1yslku438jvcBnWbWUnQ8tpb29tDR3rhLMM5d0BWoj99vLODcBV1VjTGISLxUEgheAszMzsxV7quALc65t4BjZrYsd97q3PER4EfAVYXHq7zvabNj9yFuWb+d62/byi3rt/sOkEaVZmI6PLPzQKA+fr+xgFf39Vc1xiAi8RL6sdY5d8zMrgMeBtqBJ3h/IPgaYIOZzQF2Anfkjt8E3GNma4H/AK6u8r6nRf4JOV855p+QIdsKKOxGiaPi+y61B7JXDiMRSabAgcA59+GCfz8NnOdxzitkZxUVH38LWFHRHdZQudkycV5DAFPXEZTKSaR1BCLNQyuLC5R6Qo5iH4J68urj99vPIOgYg4gkgwJBAb+Vt35PznHh18ev/QxEBJR9dBKvFBL5J+n7fug4emysjncX3szWdNlBXu1nICJqERTwe0Je2tvD6Fhjdwu1tqT4+PnzI5npU6plJCLJoxZBEb/ZMsMjDbp6LGd0LMMzOw/Q1dnGmsvOrmpgt1TLSESSR4EgYYqnvFYif51mDYk0BwWCgKLcq3i65Qd2q6m4tY5ApHlojCCgqy9ZSGtLDPJP5/QPDGu6p4gEohZBQMXdJbPaWxp+FlFxF5EWiYmIF7UIEqxw7r82mxERP2oRBFSch6jRWwN5+Yq/VPqMSlsFamGIJINaBAHFNcVEflvNUukzSmVZ9aMWhkhyKBAEFNdVtfm9fEotBqukEtd2liLJoUAQUFxX1ebv2yvBXKGwlXipFoaIxIsCQUDlKtJGVLgauDh9hpcwlbjSUIgkR7xqtjrKV6RxMnPG5K93aW8Pt9+0LJJK3CswtqRgeGSs7O5uItJYNGsowQaHRtm4eQ/3P/VTBodGJ2b2RJFLyGtdxfDI+MTq6yhSXYhIbahFEEIcB0LHMnhWzlHsSZxvYWz86idon9nK6NjkxHzHR8e5a/MetQxEGpxaBCEkYSA0Pyh8+03LIn1S9/tsxjNTVziLSGNRiyCEpAyETkdAK/XZaFqpSGNTIAjhiuULiFHeOV+z2lsif89ys6qS0JoSSaqquobMbCvwQWAkd+gLwAJgLTAT+KZz7lu5cy8B1gEdwIPOubXV/O56WNrbw70/cIyNxCO9hJ9UKppoVpxiYtk5PWzbdWBiEVuhpLSmRJKo4kBgZilgEXCac240d+xDwAPABcAw8IKZPQPsBzYCy4G3gcfNbKVzbkuV919zwzEPAkDV+yrs2H1oyh7O/QPDbH/tEMuXzGf7a4e0u5lIjFTTIjAgA2wxs5OADcARYKtz7jCAmT0EfB7YBrzhnNufO74JuBKIVSBIyuyX2R2Vf+3FyfcKHR8d59V9/ZNaBukULDtHm9yINLJqAsE84Gngj8h29zwLPAgcLDjnIHARMN/j+ClhfllX1+yKb7S7e07F1wI8+/Lb/K9HX+PIL0fKnxwDg0Oj/MW3d7B65WJWXHBqqGsffX5HyeR7/QPDvPCT/5zoHhrPwAs/+U9+fXFP2d9V7ffUiJJWpqSVB1QmqCIQOOd2ADtyL4+a2V1kxwD+pujUccCrUzpUKs/+/kHGvTqfy+junkNf35HQ1+WVegKOs753h7jzX3YxcORYqKf1vneHSv48nZrafTY8Msbdm3fTe9pc3+uq/Z4aUdLKlLTyQLLLlE6nAj9AVzxryMwuNrNPFhxKAW8ChbXKycAB4B2f4w0vrumng6hkWmepQd+ZrWnPgWLQrCGRRlbN9NG5wO1m1m5mc4Brgd8DPmlm3Wb2K8DngB8ALwFmZmeaWQuwipiMDyS9AgtbPr9porM7WksmtdOsIZHGVU3X0GYz+wiwE2gBvuWc225mfwk8Q3b66Hecc/8GYGbXAQ8D7cATwENV3ntNdHW2JToYhK2gi3MMee1MVm0eIxGprVQmE77fvcY+DOzXGMH0iXqbyeLppbM7Wrn6koUl3z/JfbVJkbTyQLLLVDBGcAbZbntfyjVUxtLeHn728/d4ZmcshjQq0j8wzD8/sReILh/QyOj7QXtwaDRW+Ya0F7M0G6WYKGPH7kNsfy0Z6wdKGR3LcP9TP43kveK8jaX2YpZmpEBQRpJnDRWrdsVxXpy3sYxzEBOplAJBGXGovBpNnGcOxTmIiVRKgaCE7z75er1voaaiykrqNcU0LjOH4hzERCqlQOBjx+5DiR4gLtaSglWfskjeK7+/c7U7oNVDnIOYSKU0a8hHM/UJp1PwsSXzI62ol/bGM9FckHUSIkmjQOCjmfqExzPw3K4DnHnKXFV4xDeIiVRKXUM+mq1PeCwD9/3Q1fs2RKQOFAg87Nh9iGPHo5lKGSeFG82ISPNQ11CRZkgpUcqO3Yci6RbR6lyR+FAgKNJMC8i85FNBQPgB08LKv1B+dS7EI8WESLNRICjSTIPEXo6PjnPfDx0jo5mJgBikIi/XksqvzlUgEGk8TREIwnRTJD3tdBBeYwXlKvIgLalm/1xFGlXiB4ufffntUEnEtHDIX6mKPEgl32wzsUTiIvEtgnu37PVNIlb8dJtvOYi/P/2H5xgcGp3SsgrSkhoeGYtsMFpEopP4QOC32XpxpdXss4WCymcoLR43OHdBV9mUHHHbl2C6aWaVNIrEB4J0OuW5s1k6Nfn1/U/9VEEgpMKW1av7+kNf0wjqVRkXP3jEcWaVAllyJH6MwG97y8LD333y9chy8Teb/oFhbvjG1lADwY0yaFzPTWjivu+BNvBJlsS3CMpptiyj0yHsVtKVDBpPx9Nnqcp4up9s477vQT0/O4leogNBuf0Err9ta43uRAq1zUhzwze2Mp7JdtEtXzKf//Z7F078vLjSP3dBF9tfOxS4G8UraMDUBXL1rIz9BtfjMrMq7oFMJqtpIDCzVcBaYCbwTefct6brd333ydf1pN+gDvS/P4A/noFndh7gmZ3/m3QK7LS57HtnYFKl7/U9lpr5Vdz3vnHzHjKkGM9kJo798xN7md3R6tkl6FUZBw0uQQPTFcsXTJmc0Aj7HhTeazqV/X7y93z5ijkT54UJZBpLqEwtP7eajRGY2YeAvwEuBs4DbjSzs6fjdykIxNN4Bva+9V7gQXuvisiry2Isw0QQyBsdyzAyOhZoExqv/vCNm/fwz0/sLdtH7teXDjTc5j3F95rv8svf87Mvvz1xbtANfDSWUJlaf261HCy+BNjqnDvsnDsKPAR8fjp+0bZdCgLNKkzXxPBIJlBl7BdcRscmBxevwd5yfem337SMjV/9BLfftKzuT8mlVocfHx3n3i17J14H3YUu7oPi9VLrz62WXUPzgYMFrw8CFwW9uKtrduBfFHbwUuKru3vO5NfzOnzXjni5fMVZXL7irJLnHA4RXA4PDE+6J79ri89rBOXK+Yt3hybd8+Ur5lT82TVS+RvlPgpV+7mFLVMtA0HK41jgifv9/YO+U0GL5fs2JdnSKejrOzLp2GcuPiPwwsBZ7S1TrvdyQoj8Uyd0tk28Z3f3HN9rC89rFOXKeeK8jtD33Ojl7+6e0xD3Uayazy1fpnQ6FfgBupZdQ+8Ahe3Gk4Fp6cNZvmT+dLyt1Mji0+dO6nJYfPpcz/O8vmevLouPnz+flqLHkJYUrPqUBbofr/7wlhS0Fr2pVx950L70RuB1r3kzW9OsXrk4kvds1PI3klp/brVsETwF/LWZdQNHgc8BN07HL/r9314EoAHjBjR31gzeOzri+bP8VNL891fou0++zrZdByZNOfU6D7z3HD7zlLkVz8Dw29De61jxe/pdW+/xAC/F91o8a2jFBaeGfnqOU/kbSa0/t1QmU7s+lNz00f9Odvrod5xzfxfgsg8D+8N0DRVq1KZfNVSmeEhamZJWHkh2mQq6hs4A3ix1TU3XETjn7gPuq+XvFBGR0hKfa0hEREpTIBARaXIKBCIiTS4OSedaILuvQKWqubZRqUzxkLQyJa08kNwyFZSrpdz5NZ01VKGLgR/V+yZERGLqo8DzpU6IQyBoAy4km5JirM73IiISFy1kF+7+GCi5ND4OgUBERKaRBotFRJqcAoGISJNTIBARaXIKBCIiTU6BQESkySkQiIg0OQUCEZEmF4cUExXL7X+wluz+B990zn2rzrdUETPrBF4ALnXOvWlmlwDrgA7gQefc2rreYEhm9jXgd3MvH3fO/XkCyvR14PNABrjLObcu7mUCMLPbgW7n3HVmtgTYAHwAeA74onNutJ73F5aZbQU+COR3R/oCsICY1hNmdhnw18As4Enn3Jcq+btLbIvAzD4E/A3ZFBXnATea2dn1vavwzOwjZJeHL8y97gA2Ap8GFgMXmtnK+t1hOLk/0t8CzgeWABeY2dXEu0zLgU8A5wK/AdxsZucR4zIBmNkngesKDm0CbnbOLSS7B/maetxXpcwsBSwCznPOLXHOLQF+TkzrCTP7VeCfyP6NnQP8eu5vLPTfXWIDAXAJsNU5d9g5dxR4iOwTW9ysAf6Y9/d3vgh4wzm3P/c0tgm4sl43V4GDwJ85544750aAvWSDXGzL5JzbBnw8d+8nkW1pzyXGZTKzE8hWkP8j9/p0oMM592LulLuJUXlyjGyLbYuZvWJmf0K864nPkn3i/3nuv6WrgF9Swd9dkruG5pOtdPIOkq1EY8U5dwOA2cRG617lOqXGt1Ux59zu/L/N7Cyyf7x3EOMyATjnRszsVuArwPeI+fcEfBv4S+DU3Ou4lwdgHvA08Edku02eBR4kvvXEmcBxM3sS6AEeA3ZTwfeU5BaBV27Z8ZrfRfQSUS4z6wV+SLbi3OdxSuzK5Jz7GtBNtvI8y+OUWJTJzG4A3nbOPV1wOPZ/d865Hc651c65o865XwB3AV/3ODUu5Wol26L5PeC/kA1gZ3icV7Y8SW4RvEM2/WreybzfvRJn75CN/nmxK5eZLQMeBr7snHsg18ce2zKZ2SKg3Tm3yzn3SzN7hGz3QmG23DiV6SrgZDPbBZwAzCbbpRLb7wjAzC4G2goCXIrspu5xLdch4CnnXB+AmT1Kthso9N9dkgPBU8Bfm1k3cBT4HHBjfW8pEi8BZmZnAvuBVWQHh2LBzE4FHgWucs5tzR2OdZmAXwVuzVU0GbIDdd8Gbo9jmZxzn8r/28yuA1Y45/7AzH5iZsucc9uB1cCWet1jheYCXzez3wRmANeSfZreFNN6YjNwj5nNBY4AK8mOcXw17N9dYruGnHPvkO3jfAbYBdznnPu3ut5UBJxzx8jO5HgY2AO8TvbLj4uvAO3AOjPblXvqvI4Yl8k59wTwBLATeBl4wTn3ADEuk49rgG+a2V6y0xXvqPP9hOKc2ww8zvvf08ZcUItlPeGcewn4O7KzCvcAbwH/SAV/d9qPQESkySW2RSAiIsEoEIiINDkFAhGRJqdAICLS5BQIRESanAKBiEiTUyAQEWlyCgQiIk3u/wORqB1Q/ibIEgAAAABJRU5ErkJggg==\n",
      "text/plain": [
       "<Figure size 432x288 with 1 Axes>"
      ]
     },
     "metadata": {
      "needs_background": "light"
     },
     "output_type": "display_data"
    }
   ],
   "source": [
    "# inspect abv value skewness using a scatterplot\n",
    "abv_check = beer_df.groupby([\"beer_abv\", \"beer_name\"]).size().reset_index(name=\"counts\")\n",
    "plt.scatter(abv_check[\"beer_abv\"], abv_check[\"counts\"]);\n",
    "plt.show()\n"
   ]
  },
  {
   "cell_type": "code",
   "execution_count": 30,
   "metadata": {},
   "outputs": [
    {
     "data": {
      "text/html": [
       "<div>\n",
       "<style scoped>\n",
       "    .dataframe tbody tr th:only-of-type {\n",
       "        vertical-align: middle;\n",
       "    }\n",
       "\n",
       "    .dataframe tbody tr th {\n",
       "        vertical-align: top;\n",
       "    }\n",
       "\n",
       "    .dataframe thead th {\n",
       "        text-align: right;\n",
       "    }\n",
       "</style>\n",
       "<table border=\"1\" class=\"dataframe\">\n",
       "  <thead>\n",
       "    <tr style=\"text-align: right;\">\n",
       "      <th></th>\n",
       "      <th>beer_abv</th>\n",
       "      <th>beer_name</th>\n",
       "      <th>counts</th>\n",
       "    </tr>\n",
       "  </thead>\n",
       "  <tbody>\n",
       "    <tr>\n",
       "      <th>47368</th>\n",
       "      <td>57.70</td>\n",
       "      <td>Schorschbräu Schorschbock 57%</td>\n",
       "      <td>1</td>\n",
       "    </tr>\n",
       "    <tr>\n",
       "      <th>47367</th>\n",
       "      <td>43.00</td>\n",
       "      <td>Schorschbräu Schorschbock 43%</td>\n",
       "      <td>2</td>\n",
       "    </tr>\n",
       "    <tr>\n",
       "      <th>47366</th>\n",
       "      <td>41.00</td>\n",
       "      <td>Sink The Bismarck!</td>\n",
       "      <td>76</td>\n",
       "    </tr>\n",
       "    <tr>\n",
       "      <th>47365</th>\n",
       "      <td>39.44</td>\n",
       "      <td>Schorschbräu Schorschbock 40%</td>\n",
       "      <td>3</td>\n",
       "    </tr>\n",
       "    <tr>\n",
       "      <th>47364</th>\n",
       "      <td>39.00</td>\n",
       "      <td>Black Damnation VI - Messy</td>\n",
       "      <td>7</td>\n",
       "    </tr>\n",
       "    <tr>\n",
       "      <th>47363</th>\n",
       "      <td>32.00</td>\n",
       "      <td>Tactical Nuclear Penguin</td>\n",
       "      <td>88</td>\n",
       "    </tr>\n",
       "    <tr>\n",
       "      <th>47362</th>\n",
       "      <td>30.86</td>\n",
       "      <td>Schorschbräu Schorschbock 31%</td>\n",
       "      <td>1</td>\n",
       "    </tr>\n",
       "    <tr>\n",
       "      <th>47361</th>\n",
       "      <td>29.00</td>\n",
       "      <td>Dave</td>\n",
       "      <td>16</td>\n",
       "    </tr>\n",
       "    <tr>\n",
       "      <th>47360</th>\n",
       "      <td>28.00</td>\n",
       "      <td>Ghost Deer</td>\n",
       "      <td>3</td>\n",
       "    </tr>\n",
       "    <tr>\n",
       "      <th>47359</th>\n",
       "      <td>27.00</td>\n",
       "      <td>Samuel Adams Utopias</td>\n",
       "      <td>355</td>\n",
       "    </tr>\n",
       "    <tr>\n",
       "      <th>47358</th>\n",
       "      <td>26.00</td>\n",
       "      <td>Black Damnation V - Double Black</td>\n",
       "      <td>74</td>\n",
       "    </tr>\n",
       "    <tr>\n",
       "      <th>47357</th>\n",
       "      <td>25.00</td>\n",
       "      <td>Samuel Adams Utopias MMIII</td>\n",
       "      <td>27</td>\n",
       "    </tr>\n",
       "    <tr>\n",
       "      <th>47356</th>\n",
       "      <td>25.00</td>\n",
       "      <td>Samuel Adams Utopias (Aged On Cocoa Nibs)</td>\n",
       "      <td>4</td>\n",
       "    </tr>\n",
       "    <tr>\n",
       "      <th>47355</th>\n",
       "      <td>24.00</td>\n",
       "      <td>Samuel Adams Utopias MMII</td>\n",
       "      <td>20</td>\n",
       "    </tr>\n",
       "    <tr>\n",
       "      <th>47354</th>\n",
       "      <td>22.00</td>\n",
       "      <td>Black Damnation XI - Special Kay</td>\n",
       "      <td>4</td>\n",
       "    </tr>\n",
       "    <tr>\n",
       "      <th>47353</th>\n",
       "      <td>22.00</td>\n",
       "      <td>44 Magnum</td>\n",
       "      <td>2</td>\n",
       "    </tr>\n",
       "    <tr>\n",
       "      <th>47352</th>\n",
       "      <td>21.92</td>\n",
       "      <td>Colossus</td>\n",
       "      <td>39</td>\n",
       "    </tr>\n",
       "    <tr>\n",
       "      <th>47351</th>\n",
       "      <td>21.00</td>\n",
       "      <td>Samuel Adams Millennium</td>\n",
       "      <td>22</td>\n",
       "    </tr>\n",
       "    <tr>\n",
       "      <th>47350</th>\n",
       "      <td>20.00</td>\n",
       "      <td>Short's Anniversary Ale 2006</td>\n",
       "      <td>8</td>\n",
       "    </tr>\n",
       "    <tr>\n",
       "      <th>47349</th>\n",
       "      <td>20.00</td>\n",
       "      <td>Holy Grail</td>\n",
       "      <td>4</td>\n",
       "    </tr>\n",
       "  </tbody>\n",
       "</table>\n",
       "</div>"
      ],
      "text/plain": [
       "       beer_abv                                  beer_name  counts\n",
       "47368     57.70              Schorschbräu Schorschbock 57%       1\n",
       "47367     43.00              Schorschbräu Schorschbock 43%       2\n",
       "47366     41.00                         Sink The Bismarck!      76\n",
       "47365     39.44              Schorschbräu Schorschbock 40%       3\n",
       "47364     39.00                 Black Damnation VI - Messy       7\n",
       "47363     32.00                   Tactical Nuclear Penguin      88\n",
       "47362     30.86              Schorschbräu Schorschbock 31%       1\n",
       "47361     29.00                                       Dave      16\n",
       "47360     28.00                                 Ghost Deer       3\n",
       "47359     27.00                       Samuel Adams Utopias     355\n",
       "47358     26.00           Black Damnation V - Double Black      74\n",
       "47357     25.00                 Samuel Adams Utopias MMIII      27\n",
       "47356     25.00  Samuel Adams Utopias (Aged On Cocoa Nibs)       4\n",
       "47355     24.00                  Samuel Adams Utopias MMII      20\n",
       "47354     22.00           Black Damnation XI - Special Kay       4\n",
       "47353     22.00                                  44 Magnum       2\n",
       "47352     21.92                                   Colossus      39\n",
       "47351     21.00                    Samuel Adams Millennium      22\n",
       "47350     20.00               Short's Anniversary Ale 2006       8\n",
       "47349     20.00                                 Holy Grail       4"
      ]
     },
     "execution_count": 30,
     "metadata": {},
     "output_type": "execute_result"
    }
   ],
   "source": [
    "# slice dataframe to list beers with values >=20% abv\n",
    "new_abv_check = abv_check.loc[abv_check[\"beer_abv\"] >= 20].sort_values(\n",
    "    \"beer_abv\", ascending = False)\n",
    "new_abv_check\n"
   ]
  },
  {
   "cell_type": "markdown",
   "metadata": {},
   "source": [
    "A validation of the abv for each individual beer (20 in total) confirmed that **beer_abv** values are correct and should remain in the dataset."
   ]
  },
  {
   "cell_type": "code",
   "execution_count": 75,
   "metadata": {},
   "outputs": [
    {
     "data": {
      "image/png": "iVBORw0KGgoAAAANSUhEUgAAAlYAAAF9CAYAAADGJiZ3AAAAOXRFWHRTb2Z0d2FyZQBNYXRwbG90bGliIHZlcnNpb24zLjMuMiwgaHR0cHM6Ly9tYXRwbG90bGliLm9yZy8vihELAAAACXBIWXMAAAsTAAALEwEAmpwYAAAvk0lEQVR4nO3deZwdVZ3//1cnbEISlpAoIAgKfmRciLJH3FAUER2WERQYBxBFEPTnOjrKuDMyoqKC6DgsX8EFFQQRFJcgyKKCCgyKH2SJypoYgSSAkKV/f5xquXS607c7J52uzuv5ePSj+1adqjr3fm5XvftU3eqe3t5eJEmStOImrOoOSJIkjRcGK0mSpEoMVpIkSZUYrCRJkioxWEmSJFVisJIkSapkjVXdAUmDi4gPAx8aYNYC4FbgG8BnM3PRaPZrKBHRC1yfmTNGuPz6wL9m5smV+zUd+DKwO2X/99XMPGqQtj8DXjTArF5gIXAH8APg45l53wr0aRNgz8w8o2PabGCDzNxgpOuVtGoYrKR2uAC4rvl5IrA+8ALgBGBXYN9V062V5mbgbqBqsAI+B+wD/BT4FfDLLpe5v+NxD7A58ErgncDuEbFrZv59uJ1pgl4Cs4AzOmadBKwz3PVJWvUMVlI7nJ+ZZ3ZOiIge4HvAPhGxe2bOWiU9WzmmU4JVbc8DlgCvysxHulzmpMyc3X9iM6p2BTADeAPwPyPoz7rA5P4TM/OkEaxL0hjgNVZSS2VmL4+Ncgx0ykrLWhtYOIxQNajMfAD4TPPwpSu6PknjgyNWUrstbr4vExQi4kDgbZQRlV7gBuDzmfnNjjZfAY6gjMq8o2P6bsBlwO+BHTLzkea6qa8Bp1FOQT4buKeZ9vGhToVFxNrAu4BDgKdRrlO6AvhYZl7btHkxcGmzyHbNNj+SmR9eznonAEcCbwaeATxKOc3335n546bNoXScamvWS2b2LK/PXZjTfF+7X5+eArwPeDmwGaVOCXwlM780QJ/+uenTYZl5Zv9rrDravgx4bvN8t6Bc53U68MnMXNKx/TWA9wCHUU5b3g6cCGwKfAzYqm8ULiJ2AD5MGc3bCPgzcB5wfGbOX6FXR1oNOWIltVRzKvBQyqmt8/vNOxH4JvBU4OuUi9y3Ar4RESd0NH0X5eB8bETMaJZdDziTEgYO6Te6sx3wQ+Ah4BTgPuADwEVNwBmsr+sAPwE+0fT3VODHwCuAqyLin5ums4GPND/f2/z8s+Wsd0LzPL8ITKGEjPOBHYFLIuLopul1zboeoITQj3RsZ0Xs2Xy/vqNPWwLXAv8GXA18lhJUtgVOjYhjOvr0uebnbPpz3RDbO4ESgn5Oef3XBT4OfLRfu28BxwMPU16bmymB+LDORhHxdEpdZgIXUq7tugf4d+C7Q/RF0gAcsZLaYZ/mgA3l4unJwIuBZwHHZObv+xpGxAsogem3wCsyc24zfRrlIun3RsRFmXl5Zs6PiDdRPt32pYjYFfgkZUTp/Zn5j8DQeBZwSmYe06xzDcpBfF/KdUZnDtL/9wC7NfPflJmLm+WfRxm1OjMintKMonw4Ij4E3LO8karGwcBrgUuA/TPzwWa9T23W+7mI+GFmXgdc14z8bNDFegfVPOdNgYOAoynh8gsdTd4HbAzskZk/6VjuZMrF8gcBJ2fmdRFxEvB24A9d9mlrYEZm3tKs8/OU0PRGSsAlIvan1ON84IC+T4xGxFtZ9sMAb6Z8EGL3zOwbKSQivg+8KiKemZm/66JfkhqOWEnt8M+U2y58CPhP4B2UU0ILgQ0jYmJH20Ob7+/uC1UAzc/vax4e3jH9h5TAszNlJOmtwJXAfw/Qj4XAcR3LLqaEJighZzCHUka53tYXqprlf0MZedkA2G85yy9vvQBH94WqZr23UUbH1qAEvhVxe0T09n0Bi4A/Af9FOb26R2b+taP92cDhnaGq6dOvKCNI01egL+f2hapmnbMpp2uf2IwKQhkpg1L/zttwnEoZGevUdwzYsd/0Q4Fphipp+ByxktrhsM5PBTan655BOQV0PPB0HjvNMwNYShmx6a9v2nb9pr+Dcj3QkZTw9IbMXDrA8jf0v2dTZt4aEX8bYJ19fZ1MOSV5ZWYuGKRP7x5s+SHMAO5sgtRA62WE6+3Ud7uFHmAbYH9KuHpjZp7Tv3FmXgFcEREbNf3bGghgF8otFCb2X2YYbh5g2gPN97WBv1NC0rzMvLVfv5ZGxNVNX/r8P+Ao4ISIOJYycvkD4EedQVVS9xyxklooMx/MzF9TTvncCRwaEX0HzCnA3zPz0QGWe4AycrRuv+n3U+7tBPCX5msgdw4y/R7KKaWBTGm+PzDI/Lua7+sOMn95pqyk9XY6KTM/nJkfysyDgBdSQtYZEfHC/o0jYsOIOJPymvwU+BKlTjdRru9akQvmB/o0Y2/zvW+9GzfbHshdnQ+aU727UE7nbgi8iXI92L0R8YnmOj5Jw2CwklqsCU9XNQ+f03xfAKwbERv0b9+cLnoCMK/f9JdQPq33N8pF1h8YZJNPGGT6BsBfB5nXN0q12SDzN2y+zxtk/vIsWEnrHVRm/pJyuvQJwHkR0X/7Z1NOx50GPB9YPzOfmplH1OzHcsznsTDb3zLTM/P6zDyQ8onAl1BOAT8E/AfwlpXVSWm8MlhJ7dcXIPpGbq5rvu82QNvdKCMb/7h2pjmteBrlNNJMysjKf0TEQKfQtu//6b/m1gKbMshdzJuP7N8OPL25gL6/vlGfkVzPcx2wfkQ8q/J6l6s5Lfs9YCrwlb7pTZjdC7g2M4/KzKv6Tn82Hz5Yh8ePWPVS36+BJzf/Kqe/nTsfRMQbIuILEdGTmY9m5s8y898ppzuh3N1f0jAYrKQWi4idKZ8OvI/yEXx47JN5/9UZZJqfP9U8PKtjNSdQbsXw0cxMyijFGpRTXf2vw9yExy5WJyLW5LGbZJ6+nK6eSRnh+WznOptPBR5LuYbpwo72i4C1lrO+zvVC+fTfeh3r3Ypykf8iyu0YVoajKaNDr2zuGQblHlpLKR8o+Ef/I+IJPPaJvDU71tF3cXk3z7VbZ1DC26c6P9QQEYew7EXquwDHUD5Z2WnL5vufKvZLWi148brUDp23W4ByAfQzgb2bn9+emQ8DZOblEfEZyv+xuyEi+gLL3pRgdEJmXg4QES+iBIQbgU93LH8G5ZOD76fcULLPQuD4iNid8mm0l1JuFHpWZn5/Of3/b8o9qw4GnhMRs4AnUv5vXw9wYL+bUd4JPCMiTgUuzswLGdhZwGsoIyw3RMQPgEmUT1FOAY7tfxF3LZl5Z0R8EPg8cFJEXJKZ90fEecC/AL+KiB81/Xk18CRKAN4gIiY0Hw74K+W6qZc0NTuvufh9RXwT+FfKa/3MiLiUcgH93s32NqbcSwxKXQ4Avh4RBwB/pISq/SnXaX0BScPiiJXUDp23W/gQ5QaOO1FGeV6SmZ0jUGRm3x3OZ1MOsAdQPlG2f2a+DyAi1qWcAgR4c7+P5r8HmAt8MCKe3TH91qYvT+Kxka3/j8c+4j+g5q7sL6OMIq1F+STa7k3/d83MC/otcgzl9OHhzfYGW29v89zeRrne6o2UEHM18LLM/OLy+lXBKcA1lNejbzTwjZQbbW5AGY3bs2kzk/IpvCdQrmXqu0burZRr246mwr/GaV6T/SmfFt2oWf/TKGGr7/9JPtS0nU25DuybwA6UMP5CSmDdOTMfd7G7pKH19PaujFP8ksab5h5O12fmjFXdFw0uIjYHHhjo39FExGWUADWpCWCSKnPESpLGl38HHmhO8/5Dc1f93YCfGaqklcdrrCRpfDmdcj+qiyLiXMr1altRrmdbQLkZq6SVxBErSRpHmn8TtAtwMeU6tndRbptwDrB9Zt60CrsnjXteYyVJklTJWDkVuDbl/ip389jHgCVJksaiiZTb11xDv381NVaC1Y48dnNDSZKkNngB/f7h/VgJVncD3HffgyxdOv5OTU6dOol58xau6m5ohKxfu1m/9rJ27Tae6zdhQg8bbrgeNPml01gJVksAli7tHZfBChi3z2t1Yf3azfq1l7Vrt9WgfstcvuSnAiVJkioxWEmSJFVisJIkSarEYCVJklSJwUqSJKkSg5UkSVIlBitJkqRKDFaSJEmVdHWD0Ij4NPBa4G/NpMzMA/u12Rk4BVgPuAs4JDOXuSOpJEnSeNXtnddnAq/LzKsGmhkRawHfadpcGRFHAacBe9XppjT6pk+fssy0OXPmr4KeaCSsX3tZO7XZkKcCI2Jt4LnAuyPi+og4NyK26NdsR2B+Zl7ZPD4NeGlETK3bXWl0DLRjX950jS3Wr72sndqum2usNgVmAe8HZgC/AC6IiJ6ONpsDf+l7kJmPAnOBzar1VFoF5syZT29vr38tt5T1ay9rp7Ya8lRgZt5Oxym9iDgROA7YEri9mTxYQFvmnxMuz9Spk4bTfNTtvvvuZOaobS8imDVr1qhtT8uaNm3y4773/1ljm/VrL2s3dnjsG54hg1VEPAfYLjPP6pjcAyzqePxnYJOOZdYENgbuHE5n5s1bOKb/E/Y551wwouUOP/wgTj/96yNadu7cBSNaTnXMnbuAadMmP64O1qQ9rF97Wbuxw2PfsiZM6Bl0MKibU4FLgc9HxFbN46OAGzLzjo42vwSmRsTM5vHhwNWZef/IuiyNDdOnT6Gnp8frO1rK+rWXtVNbDRmsMvNG4Fjgwoi4CdgXeH1EbBoR10XEppm5CNgPOCkifgccDBy2MjsurUyDXdfh9R7tYP3ay9qp7bq63UJmng2cPcCsGR1tfgXsVKdb0qrXtyPvfzpC7WD92svaqc2887okSVIlBitJkqRKDFaSJEmVGKwkSZIqMVhJkiRVYrCSJEmqxGAlSZJUicFKkiSpEoOVJElSJQYrSZKkSgxWkiRJlRisJEmSKjFYSZIkVWKwkiRJqsRgJUmSVInBSpIkqRKDlSRJUiUGK0mSpEoMVpIkSZUYrCRJkioxWEmSJFVisJIkSarEYCVJklSJwUqSJKkSg5UkSVIlBitJkqRKDFaSJEmVGKwkSZIqWaPbhhGxD/DVzJwywLxjgQ8A9zSTFmTmC6r0UJIkqSW6ClYRsQ1wIoOPcM0E3pmZX6/VMUmSpLYZ8lRgRKwLnA28cznNZgIHRcRvI+KSiHh2rQ5KkiS1RTcjVl9uvm4YaGZErAf8ATg+M6+KiAOAH0TEMzJzYb2u1tHb28sPf/h9HnrooVHd7rnnnjNq29pii6ew4467jNr2JElj2003/Y7f//7GUd/uaB37Jk6cyCtfuTdrr73OqGxveZYbrCLiaGBxZp4eEVsO1CYzHwRe0fH4WxFxHLAjcOlwOjN16qThNB+RRYsWce6553DQQQet9G31WX/99dlww8mjsq25c+dy6aU/Yq+99hiV7bXJ7rvvTmaO2vYiglmzZo3a9sY769de1m7VO/vsq3n44Yd52tOeNmrbHM1j3/e//3322OMlPPnJ00Zle8sz1IjVocC6EXEdsBbwhObnvTLzLoCIeArwmsz8QsdyPcCi4XZm3ryFLF3aO9zFhmXx4sX09PSw++57rdTtdDrwwAOZO3fBqGzrlltu5pZbbhu17bXJOedcMKLlDj/8IE4/fWSXD1qHeqxfe1m7Ve+RRxaz7bbPYbfdXjRq2xzNY9+ll17Gffc9yHrrjc72JkzoGXQwaLnBKjN36vu5GbG6MTNn9Gv2IPDxiPhlZv4qIvYC1gV+tSKdliRJapuub7fQKSI2BS6mGblqrqv6ckSsBcwH9s3MRyv2U5IkaczrOlhl5mxgUvPzXcCMjnmXAJdU7pskSVKreOd1SZKkSgxWkiRJlRisJEmSKjFYSZIkVWKwkiRJqsRgJUmSVInBSpIkqRKDlSRJUiUGK0mSpEoMVpIkSZUYrCRJkioxWEmSJFVisJIkSarEYCVJklSJwUqSJKkSg5UkSVIlBitJkqRKDFaSJEmVGKwkSZIqMVhJkiRVYrCSJEmqxGAlSZJUicFKkiSpEoOVJElSJQYrSZKkSgxWkiRJlRisJEmSKjFYSZIkVbJGtw0jYh/gq5k5ZYB5OwOnAOsBdwGHZObdtTopSZLUBl2NWEXENsCJA7WPiLWA7wBvz8xtm59Pq9lJSZKkNhgyWEXEusDZwDsHabIjMD8zr2wenwa8NCKm1umiJElSO3RzKvDLzdcNg8zfHPhL34PMfDQi5gKbAfNWuIcrwZIlS3j7298y6PyenvK9t/fxj5///Bfx2te+fiX3rli0aBGf+9ynuOOOPz9uemef+n7utGDBfCZMGL+XzmXexAknfGxEy+6224vYdNPNRrTsD3/4/WG1v+22W7n22l+OaFvHHfdxttrqqSNadqw79dTPc801vxjRsvvv/zomThzZe3u49fvWt74+ou1Mn/5EPvnJz45o2bHugQfu5x3vOHpEyz7lKVuy884zR7TscGv3wAMPcMklF41oW4cd9mZe8IIXj2jZse7uu+/iyisv59vf/sbjpnceSwY69k2Zsj7vfe8HmTRp8qj087LLZvHd735ruX0a7Ni3ZMnSUenjUJYbrCLiaGBxZp4eEVsO0mywPd2S4XZm6tRJw11k2BYtWgSUIgzXxhtvwFVXzardpUE961n/xO9/f+Owl1u6dCnTpo3OL8Fo+/a3rx3xsltssRnrrrvusJc74ogjhr3MjBnPZostNuO8884b9rI33/x/7LTTdsNerg1GGqoAJk9ehzXW6Pqy0H8YSf2OOOII/va3vw27fnPm3Dtuf/dmz/7DiJfdYYftmTJldH73pkxZl/32229Ev3uXXvoj9tvv1cNerg0WLXoEGP6xb+HChdxyy+946KGHVka3lrHmmvCyl71sRPVbf/11xsTv31B7qUOBdSPiOmAt4AnNz3tl5l1Nmz8Dm/QtEBFrAhsDdw63M/PmLWTp0gGiaEWLFy9m4sSJfOUrZ63U7XSaNm0yc+cuGNGye+65z7Da33LLzZxzztdGvL2xbsMNp/PSl76cgw8+dNS2uSL123vvfxlW+9NO+xLrrbfBuK3fZpttzpFHvpUnP3mLUdvmaNVv8eLFHHXUYeO2dosXT+BpT9uGD3zgI6O2zdH83fvJTy7h3nvvHrf122KLrdhjj73YbbcXjdo2R7N+xx337yxc+Oio1W/ChJ5BB4OWG6wyc6e+n5sRqxszc0a/Zr8EpkbEzMy8CjgcuDoz71+BPkuSJLXO8MfVgYjYFLiYZuQqIvYDTo6I9SjXVb2hYh8lSZJaoetglZmzgUnNz3cBMzrm/QrYacAFJUmSVhPj9+NjkiRJo8xgJUmSVInBSpIkqRKDlSRJUiUGK0mSpEoMVpIkSZUYrCRJkioxWEmSJFVisJIkSarEYCVJklSJwUqSJKkSg5UkSVIlBitJkqRKDFaSJEmVGKwkSZIqMVhJkiRVYrCSJEmqxGAlSZJUicFKkiSpEoOVJElSJQYrSZKkSgxWkiRJlRisJEmSKjFYSZIkVWKwkiRJqsRgJUmSVInBSpIkqRKDlSRJUiVrdNMoIo4BjgJ6gVuBN2XmnH5tPg28FvhbMykz88CKfZUkSRrThgxWEbE98G5gu8x8ICJOBD4GHNmv6UzgdZl5Vf1uSpIkjX1DngrMzF8D2zShah1gM2BeZ5uIWBt4LvDuiLg+Is6NiC1WSo8lSZLGqK5OBWbmoojYB/hf4BHgP/s12RSYBbwfuJkywnVBRDwvM3vrdbeOJUuWcPnll47a9iZNWpuFCx8ZlW3de+89o7KdVWX+/Ae4/PJL2Xzzp4zaNkezfvfcczcR247KtlaFO+/8C5dffilPfvLo/d01WvVbsmTJSt/GqrRo0SJuvfWP43bfecstNzN58uRR2daqcNddd3DvvfewdOnSUdvmaNbvwQcXjsp2utFVsALIzPOB8yPiTcAlEbF1Zi5t5t0O7NXXtjldeBywJXB7t9uYOnVSt01HrLe3l7XWWos775y90rfV56qrrmLmzJmjtr1XvGIPpk0bnzuIbbfdhmuu2Wjc1u+pT92SHXbYbtzWb+utt+aRRx4at/Xbb7/9xm3tlizZknXWWWfc1m799Sfx/OfPHLf1e+Yz/4nbbrtt3NZv11134elP35L11ltvVLa3PD29vcsfUIqIrYEnZeYVzeOJwKPA9Myc10x7DuUarLOaxz3AfGDbzLyji35sCdw+b95Cli4dcwNcK+zwww/i9NO/vqq7oRGyfu1m/drL2rXbeK7fhAk9fYNBWwGzHzevi+U3Ab4ZERs3jw8GbuwLVY2lwOcjYqvm8VHADV2GKkmSpHGhm4vXfw58AvhZRFwHvA7YJyJ2aB6TmTcCxwIXRsRNwL7A61dWpyVJksaibi9ePxU4td/k24EZHW3OBs6u1jNJkqSW8c7rkiRJlRisJEmSKjFYSZIkVWKwkiRJqsRgJUmSVInBSpIkqRKDlSRJUiUGK0mSpEoMVpIkSZUYrCRJkioxWEmSJFVisJIkSarEYCVJklSJwUqSJKkSg5UkSVIlBitJkqRKDFaSJEmVGKwkSZIqMVhJkiRVYrCSJEmqxGAlSZJUicFKkiSpEoOVJElSJQYrSZKkSgxWkiRJlRisJEmSKjFYSZIkVWKwkiRJqmSNbhpFxDHAUUAvcCvwpsyc06/Nq4D/AtYGbgDemJnz63ZXkiRp7BpyxCoitgfeDczMzGcBfwQ+1q/NNOAMYP/MDOA24JP1uytJkjR2DRmsMvPXwDaZ+UBErANsBszr1+zlwDWZ+cfm8anAwRHRU7W3kiRJY1hX11hl5qKI2Ae4A3ghZXSq0+bAXzoe3wFMASZX6KMkSVIrdHWNFUBmng+cHxFvAi6JiK0zc2kze7CAtmQ4nZk6ddJwmrfKtGlmzFVt9913JzNHtOyMGc8Y9jIRwaxZs0a0PS3L+rWXtVt9rY7HviGDVURsDTwpM69oJp0OfAnYkMdOCf4Z2Lljsc2A+zLzweF0Zt68hSxd2jucRVpj7twFq7oLq71zzrlgRMtNmzZ5xPWz7vVYv/aydquv8VqHCRN6Bh0M6uZU4CbANyNi4+bxwcCNmdl5ndWPgF0iYpvm8VuAkf0mSZIktVQ3F6//HPgE8LOIuA54HbBPROzQPKa59cJhwHci4ibg2cC7VlanJUmSxqKurrHKzFMpn/TrdDswo6PNxcDF1XomSZLUMt55XZIkqRKDlSRJUiUGK0mSpEoMVpIkSZUYrCRJkioxWEmSJFVisJIkSarEYCVJklSJwUqSJKkSg5UkSVIlBitJkqRKDFaSJEmVGKwkSZIqMVhJkiRVYrCSJEmqxGAlSZJUicFKkiSpEoOVJElSJQYrSZKkSgxWkiRJlRisJEmSKjFYSZIkVWKwkiRJqsRgJUmSVInBSpIkqRKDlSRJUiUGK0mSpEoMVpIkSZWs0U2jiDgEeA/QCzwEvC0zr+3X5ljgA8A9zaQFmfmCin2VJEka04YMVhERwKeA52Xm3RGxF3AesEW/pjOBd2bm1+t3Uxp906dPWWbanDnzV0FPNBLWr72sndqsm1OBjwBHZObdzeNrgSdFxFr92s0EDoqI30bEJRHx7JodlUbTQDv25U3X2GL92svaqe2GDFaZOTszLwKIiB7gM8D3MvPRvjYRsR7wB+D4zHwucBrwg4iYtHK6LY2OOXPm09vb61/LLWX92svaqa26usYK/hGezgQ2B/bsnJeZDwKv6Hj8rYg4DtgRuLTbbUydOn5z2LRpk1d1FzQCfXXrrJ+1bA/r117WbnxYHWvW7cXrWwAXAjcBL8nMh/vNfwrwmsz8QsfkHmDRcDozb95Cli7tHc4irTF37oJV3QWNwNy5C5g2bfLj6mct28P6tZe1Gx/Ga80mTOgZdDCom4vXNwIuA87MzI8M0uxB4OMR8cvM/FVzgfu6wK9G2GdpTPC6jnazfu1l7dRW3YxYHUX5BOC+EbFvx/RXARcBe2XmXRFxAPDl5qL2+cC+nddhSW0yZ858P5nUYtavvayd2m7IYJWZnwA+McjsGR3tLgEuqdMtadXr25H3Px2hdrB+7WXt1GbeeV2SJKkSg5UkSVIlBitJkqRKDFaSJEmVGKwkSZIqMVhJkiRVYrCSJEmqxGAlSZJUicFKkiSpEoOVJElSJQYrSZKkSgxWkiRJlRisJEmSKjFYSZIkVWKwkiRJqsRgJUmSVInBSpIkqRKDlSRJUiUGK0mSpEoMVpIkSZUYrCRJkioxWEmSJFVisJIkSarEYCVJklSJwUqSJKkSg5UkSVIlBitJkqRKDFaSJEmVrNFNo4g4BHgP0As8BLwtM6/t12Zn4BRgPeAu4JDMvLtudyVJksauIYNVRATwKeB5mXl3ROwFnAds0dFmLeA7wOsy88qIOAo4Ddhr5XRbWvmmT5+yzLQ5c+avgp5oJKxfe1k7tVk3pwIfAY7oGH26FnhSE6b67AjMz8wrm8enAS+NiKn1uiqNnoF27MubrrHF+rWXtVPbDRmsMnN2Zl4EEBE9wGeA72Xmox3NNgf+0rHMo8BcYLO63ZVG15w58+nt7fWv5Zayfu1l7dRWXV1jBRAR6wFnUkLUnv1mDxbQlgynM1OnThpO81G3++67k5kjWnbGjGcMe5mIYNasWSPanuqYNm3y4773/1ljm/VrL2s3dnjsG55uL17fArgQuAl4SWY+3K/Jn4FNOtqvCWwM3Dmczsybt5ClS3uHs8ioOuecC0a03LRpk5k7d8GIlh3pcqpj7twFy9TPmrSH9Wsvazd2eOxb1oQJPYMOBnVz8fpGwGXAmZn5kUGa/RKYGhEzM/Mq4HDg6sy8f2RdlsYGr+toN+vXXtZObdXNiNVRlE8A7hsR+3ZMfxVwEbBXZt4VEfsBJzenDOcBb6jeW2mUzJkz308mtZj1ay9rp7br6e0dE6fetgRuH+unAkdqRYZDtepZv3azfu1l7dptPNev41TgVsDsx81bFR2SJEkajwxWkiRJlRisJEmSKjFYSZIkVWKwkiRJqsRgJUmSVInBSpIkqRKDlSRJUiUGK0mSpEoMVpIkSZUYrCRJkioxWEmSJFVisJIkSarEYCVJklSJwUqSJKkSg5UkSVIlBitJkqRKDFaSJEmVGKwkSZIqMVhJkiRVYrCSJEmqxGAlSZJUicFKkiSpEoOVJElSJQYrSZKkSgxWkiRJlRisJEmSKjFYSZIkVbJGtw0jogc4A7gxM08cYP6ngdcCf2smZWYeWKWXkiRJLdBVsIqIbYFTgF2AGwdpNhN4XWZeValvrTd9+pRlps2ZM38V9EQjYf3azfq1l7Vrt9W9ft2eCnwrZbTqWwPNjIi1gecC746I6yPi3IjYolIfW2mgN9bypmtssX7tZv3ay9q1m/XrMlhl5jGZedZymmwKzALeD8wAfgFc0Jw+XK3NmTOf3t7e1SqtjyfWr92sX3tZu3ZbnevX09vb23XjiDiTQa6x6teuB3gA2C4zb+9i1VsC3bRrjZ6ekik7X9+Bpmlssn7tZv3ay9q122pYv62A2Z0Tur54fXki4jmUENU5qtUDLBrOeubNW8jSpePrhZ87dwHTpk1m7twFj5umdrB+7Wb92svatdt4r9+ECT1MnTppwHlVghWwFPh8RFzRjFAdBdyQmXdUWn9rrU7nlccj69du1q+9rF27rc71G/F9rCJih4i4DiAzbwSOBS6MiJuAfYHXV+lhSw12Xnl1PN/cRtav3axfe1m7drN+w7zGaiXaErh9PJ4KBJYZDlW7WL92s37tZe3abTzXr+NU4DLXWHnndUmSpEoMVpIkSZUYrCRJkioxWEmSJFVisJIkSarEYCVJklSJwUqSJKkSg5UkSVIlBitJkqRKDFaSJEmVGKwkSZIqMVhJkiRVYrCSJEmqxGAlSZJUicFKkiSpEoOVJElSJQYrSZKkSgxWkiRJlRisJEmSKjFYSZIkVWKwkiRJqsRgJUmSVInBSpIkqRKDlSRJUiUGK0mSpEoMVpIkSZUYrCRJkioxWEmSJFVisJIkSapkjW4bRkQPcAZwY2aeOMD8VwH/BawN3AC8MTPn1+poG02fPmWZaXPmrNYvSatYv3azfu1l7dptda9fVyNWEbEt8FPggEHmT6OErv0zM4DbgE/W6mQbDfTGWt50jS3Wr92sX3tZu3azft2fCnwrJTh9a5D5Lweuycw/No9PBQ5uRrlWa3PmzKe3t3e1SuvjifVrN+vXXtau3Vbn+nV1KjAzjwGIiJcO0mRz4C8dj+8ApgCTga5f1alTJ3XbtDWmTZv8uO/9f9bYZv3azfq1l7Vrt9W5fl1fYzWEwUa+lgxnJfPmLWTp0t4K3Rk75s5dwLRpk5k7d8HjpqkdrF+7Wb/2snbtNt7rN2FCz6CDQbWC1Z+BnTsebwbcl5kPVlp/a61O55XHI+vXbtavvaxdu63O9at1u4UfAbtExDbN47cAF1RadysNdl55dTzf3EbWr92sX3tZu3azfiswYhUROwD/m5kzMnNORBwGfCci1gJuBd5Qq5Nt1fdG6j8cqnawfu1m/drL2rXb6l6/YQWrzDy04+drgRkdjy8GLq7VMUmSpLbxzuuSJEmVGKwkSZIqMVhJkiRVYrCSJEmqxGAlSZJUicFKkiSpEoOVJElSJQYrSZKkSmr9r8AVNRHKPzUcr8bzc1sdWL92s37tZe3abbzWr+N5Tew/r6e3t3d0ezOw3YCfr+pOSJIkDcMLgCs6J4yVYLU2sCNwN7BkFfdFkiRpeSYCmwDXAI90zhgrwUqSJKn1vHhdkiSpEoOVJElSJQYrSZKkSgxWkiRJlRisJEmSKjFYSZIkVWKwkiRJqsRgJamqiHhLRLxvVfdDo2+s1j4izoyIdw/RZv2ImDVafdL4NVb+V+CYERFvATbIzE+u6r7UFhGzgX8BJgEnZ+azVm2P6hvP9WuLzPzSqu6DVo2W135DYKdV3YmxYjT2pRFxBLBWZn5xVSy/shis+mn5jmG1Z/1WXES8GPgc8CCwHvCfwH8AawEPAe8Gfgn8Cdg3M69tlvsmcBnwRGDjzDwmIjYDTga2ANYEvpmZx0fEd4GLMvN/I2IX4GrgaZl5W0R8AFg/M9+7nD7u3dGn6cD/y8zjmr5/CrgTeCrwMHBoZt4UEWcCvcC2wDTgR8DbMnNRRGzbPOeplH9V8fnMPD0iJgCfBXYBJgM9wBGZeWWzvo2ApwHfB04DTqH84bIpcB1wYGb+PSL+DnwS2KOZ97nMPKl5Lu8H/g1YDPyx6e8DEfFG4GjKmYV5wDGZ+Yeh6rciWlL72cB3Kf+jbQPg05l56vJq1W/5w4Ejm+e0EfDJzDwVOAN4QkRcB2wPPJ0B3hPDflFbapT2pbsBN67C5VeKcResWrJjeGaz3qmUHf2nM/OrEfF14DeZeWLT7i3ASzLzwIh4NfDBzueRmVdHxIeBXSn/s+gG4F3Al5vn8aTmeR6QmXNW6IUdJS2p3/IO6p1934lywHwb5X9g3ks5ON7cHJQfpvyPzCcB3wLmAq9uHh+RmbMi4ukMcrAe2SvctWdRgslawHnAizNzXvPe/QmwNXA6cChwbURsSAkNRwLv6FjPWcBnM/PCiFgHuDgibqEcGF8D/C+wJ3AP8DLgf4B/Bo4ZrGMR0UN5n/9bZv4xIjYF/hwRn2uaPA94Z2b+vPkdOgvYoZm3HfBCYBElWB0ZEV8CvgP8a2b+JiLWB66OiN9TDs6bArtm5tLmNNf7KHUCWDczn9n061OU98LZEbEm8GvgVcC5lP+H+tfMfH5EbA9c2Wz35c1ruEtm3hcRnwGOiYgrKO+dF2TmQxHx8qYO/zTY61LRmK19h3UpvzubAb9tXq++35HBakVETALeBOzVPKddgB8DpwKHATdm5oyIWINB3hOZ+YuuX8lVaKzvSyNiX8r7YI+IeJjyeg947IqIo4C3AI8Cf6e816Jz+cw8pdnm/pQ/RmYDR2fmXRVezmEZr9dYPQt4PeW018cpv0TPBd5M2VE8gcd2DHTsGL7ebz1nAadn5vaUg+TLIuIAyo5hz6ZN544Byo7hO4N1rPmF/R7whcx8DvBK4PiI2BX4CmVn2ucw4CsRsQ1wfP/nERHrNe2eAjwvMw8BXgdcnZm7UnaODwH/OtQLNsaM5fp1HtR3oPx1/P6I2Liz75m5HfB84L2UcLxd07/zm3UAPJcSinegHJAWZuZMys6w7zqVN1EO1rtSDmhbUQ7WK9tfMvNPlNd1E+CnzV/yXwOW8tjB9YCIWItSrwsz84G+FTTvzxcBH2uW/QVlxzwDuBB4cfP78ApKnfdoQtITKf/YdECZ2Us5WG4fER8CPkMJQH2/D9dn5s+bn08HnhsRU5vHZ2bmwsx8BPhqs+2nU0adTm/6eRnlPfbczLya8gfNkRFxIo+dSu/T+V/t/x2YGxHvpRyoN+3X9oLm+28oQWs9yvvu25l5X/Pc3pmZn6DUeGvgqqZP/w1sFBEbDfa6VDRma9/hlMzszcw7gB8CL++iVmTmQmBv4FUR8THgA/3bNAZ9T3TRt7FkzO5LM/O7lGPhZzPzFAY5dkXEROAkYM/M3JESwHfrv3xEvAF4NrBTZs4ALqaE91E3XoPVWN4xPB1YJzPPA2jS9LmUN+XPgHUiYoeI+CfK6YqfDvE8AH6RmYub9X2OsjN+J/BFyi/WQDuOsWzM1q+Lg3pf36HU9JzMnNsseyblL+wtm/kXZuaizLyH8lflD5vpt1JOUcDQB+uVZWHzfSLw08yc0fdFCZM3Ns/zN5QD1WGUPww6TaS8NjP7LXt8EyR+S3kt16eEnBcC+wDfbV7nATW1/S1lZOo3wHsoI1B9gXVxR/Oe5mvJAPMmNNMnAvcP8BzPiIhXARc17S8AvtSxnc7XCeAblAPWnyinpH7Tr+3D8I/3UF/fFlNGrfue2wYRsWXTp7M6+vM8SgC/b7DXpaIxW/sOy9Sxi1oREU+mjPo+hRKKPzjI+gd9T3TRt7FkzO5L+xvs2JWZS4BvN/NOBh6gnHbvb29Kja5t+nksZVRr1I3XYDWWdwwDveYTgDWb5U4D3tD06bRm2qDPo9/zJSJOAD5KOa30P5TTHY/bubTAmK1fFwf1zgPtQLXuoQylAzzSb96iAdoPdbBe2WYBL4+IZwBExF6UU87rNPO/Qgl/62a/a1kycz5lJ/zOZtkNgCspf8lC+Wv3eEqNFwBJGakb9K/cxjbAFOCDmXkhZae/NqXmADMi4jnNz28GrszM+5vHB0bE2s2pqX+jHBgS+HtEHNL0c3PK79b2lAPShVmuwbmG8h7p205/rwA+mpnnUMLSzstp2+cnwH4RMaV5/GHK6/Uj4PURsUkz/S2UP7JG01isfZ83NOvdgnI69Qd0V6sdKPvGj2fmJZT9B82oyGJgYjOivLz3RJuM2X1pf8s7djVnY14N3EJ5z503wComAid09HEHylmDUTdeg1WfsbhjSODRiNivWe+mlHPCP27mn0k5b/xaHvvraKjn0ekVwEmZeRYwh7KzGWrnPlaNxfoNdVDvdAnlQD6t6cNhlIuQb+niufcZycG6msz8HSWcfDMirgc+BrwmMx9smnyPMgI30F+QAAcBu0TE/1Gu5/hGZn6tmXc+5S/Kvvf+JZTQedUQ3bqBcrH4HyLiN5Tfl9/z2AjuPcAnmm3uw+NPhT8E/Bz4v+b7GZn5KOV9cURE3EDZoR/XvKe+BLyomX41ZTRxqygXSvf3H8B3I+LaZrnLOvo0oMy8mPJ7fmXT3ycBH2gO+icAP262fRCw33AOVCtqjNa+z1YR8WvKKO/bMjPprlY/Au4AMiJ+Sxl5mUup092UgHET5eL3wd4TbTQW96VQwmzfH5oDHrsiYuOI+AswL8sHPj5IuVay//KXUOrV90fKRymnMEfduLt4vVNm/i4i+nYMfcPu/XcMX6TswAZyEHBys2NYi2V3DCdT3oxQinoMQ+wYsnwCaR/g81EuPF+DcuC8tJl/T3OwWKM5Tbjc5xGxzEjnR4ETI+I/m3ZXMMTOfawai/Xj8Qf1+ykhqe+g/rgRqMz8cUR8FpjV7NznAntnubB2qKffp+9g/TdKKBjyYL2iMvNnlGH4vsffpgzFD9R2EWXIv3Pahzt+nk0zKjDAsnfR8cddlmuLPtFF/5YCbxxoXpQLdudn5qsHmk/Z+Z84wDqvB148wPQ/UEYnO729+X5ov7ZfpLwfB+pzz2CPm/4M1KdTKB9cGDVjvfYdPpXNxdYd6+i2Vq/p1+bIjp87RzjmMcB7oo3G6L4Uykjjyc3+cMBjV2b+NSI+TjmN+XAz74gBlj+BcqnFLyKiF/gz/X5HR0tPb++o/QEkSV2JiIMpp1kH8rXM/NQgy72YQe7RFuWTmDcOFKw0dgxVe+CtwL/0D1bSWGGwWglGelDQ2GD9JGnFra77UoOVJElSJeP94nVJkqRRY7CSJEmqxGAlSZJUicFKkiSpEoOVJElSJf8/pB3pQD7nT3kAAAAASUVORK5CYII=\n",
      "text/plain": [
       "<Figure size 720x432 with 1 Axes>"
      ]
     },
     "metadata": {
      "needs_background": "light"
     },
     "output_type": "display_data"
    }
   ],
   "source": [
    "# visualise check of review scores to identify outliers\n",
    "beer_df.boxplot(column=[\"review_overall\",\"review_aroma\", \"review_appearance\",\"review_palate\", \"review_taste\"],\n",
    "                figsize = (10,6), return_type=\"axes\", notch = True);\n",
    "\n",
    "# add title and ticks\n",
    "plt.title(\"Boxplot of Ratings\", fontsize=20)\n",
    "plt.xticks(fontsize=12)\n",
    "plt.yticks(fontsize=12);\n"
   ]
  },
  {
   "cell_type": "markdown",
   "metadata": {},
   "source": [
    "Interestingly, there are 2 distinct groups within the 5 ratings features, which was not immediately evident from the initial histograms.  Also of note is that the proximity of the mean to the median in the group of **review_aroma**, **review_appearance** and **review_palate** is so small that there is no _'notching'_ at the median points in the plot.  This shows how heavily skewed the data is to the upper limit of the ratings, with the absence of the 75% quartile."
   ]
  },
  {
   "cell_type": "code",
   "execution_count": 62,
   "metadata": {},
   "outputs": [
    {
     "data": {
      "image/png": "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\n",
      "text/plain": [
       "<Figure size 480x400 with 2 Axes>"
      ]
     },
     "metadata": {
      "needs_background": "light"
     },
     "output_type": "display_data"
    }
   ],
   "source": [
    "# resize dataframe to analyse ratings\n",
    "columns = [\"review_overall\",\"review_aroma\",\"review_appearance\",\"review_palate\",\"review_taste\"]\n",
    "reviews_df = beer_df.loc[:,columns]\n",
    "\n",
    "# plot heatmap to show correlations between the ratings features\n",
    "plt.figure(figsize=(6,5))\n",
    "sns.heatmap(reviews_df.corr(), xticklabels=reviews_df.corr().columns, \n",
    "            yticklabels=reviews_df.corr().columns, cmap=\"BrBG\", center=0, annot=True)\n",
    "\n",
    "# add title and ticks\n",
    "plt.title(\"Heatmap of Ratings\", fontsize=10)\n",
    "plt.xticks(fontsize=8)\n",
    "plt.yticks(fontsize=8)\n",
    "plt.show()\n"
   ]
  },
  {
   "cell_type": "code",
   "execution_count": null,
   "metadata": {},
   "outputs": [],
   "source": []
  },
  {
   "cell_type": "code",
   "execution_count": null,
   "metadata": {},
   "outputs": [],
   "source": [
    "# check for large number of same reviewers ie reviewer bias\n",
    "total_reviews = beer_df[\"review_profilename\"].count()\n",
    "reviewers = beer_df.groupby(\"review_profilename\").size().reset_index(name=\"counts\")\n",
    "reviewers = reviewers.sort_values(by = \"counts\", ascending = False)\n",
    "\n",
    "weighting = round(reviewers[\"counts\"]/total_reviews * 100,2)\n",
    "weighted_reviewers = pd.concat([reviewers, weighting], axis = 1)\n",
    "weighted_reviewers.columns = [\"review_profilename\",\"ratings\",\"% total\"]\n",
    "weighted_reviewers.head(15)\n"
   ]
  },
  {
   "cell_type": "code",
   "execution_count": null,
   "metadata": {},
   "outputs": [],
   "source": []
  },
  {
   "cell_type": "code",
   "execution_count": 27,
   "metadata": {},
   "outputs": [
    {
     "data": {
      "text/html": [
       "<div>\n",
       "<style scoped>\n",
       "    .dataframe tbody tr th:only-of-type {\n",
       "        vertical-align: middle;\n",
       "    }\n",
       "\n",
       "    .dataframe tbody tr th {\n",
       "        vertical-align: top;\n",
       "    }\n",
       "\n",
       "    .dataframe thead th {\n",
       "        text-align: right;\n",
       "    }\n",
       "</style>\n",
       "<table border=\"1\" class=\"dataframe\">\n",
       "  <thead>\n",
       "    <tr style=\"text-align: right;\">\n",
       "      <th></th>\n",
       "      <th>brewery_name</th>\n",
       "      <th>review_profilename</th>\n",
       "      <th>beer_style</th>\n",
       "      <th>beer_name</th>\n",
       "    </tr>\n",
       "  </thead>\n",
       "  <tbody>\n",
       "    <tr>\n",
       "      <th>count</th>\n",
       "      <td>1518471</td>\n",
       "      <td>1518471</td>\n",
       "      <td>1518471</td>\n",
       "      <td>1518471</td>\n",
       "    </tr>\n",
       "    <tr>\n",
       "      <th>unique</th>\n",
       "      <td>5155</td>\n",
       "      <td>32908</td>\n",
       "      <td>104</td>\n",
       "      <td>44075</td>\n",
       "    </tr>\n",
       "    <tr>\n",
       "      <th>top</th>\n",
       "      <td>Boston Beer Company (Samuel Adams)</td>\n",
       "      <td>northyorksammy</td>\n",
       "      <td>American IPA</td>\n",
       "      <td>90 Minute IPA</td>\n",
       "    </tr>\n",
       "    <tr>\n",
       "      <th>freq</th>\n",
       "      <td>38806</td>\n",
       "      <td>5346</td>\n",
       "      <td>113144</td>\n",
       "      <td>3289</td>\n",
       "    </tr>\n",
       "  </tbody>\n",
       "</table>\n",
       "</div>"
      ],
      "text/plain": [
       "                              brewery_name review_profilename    beer_style  \\\n",
       "count                              1518471            1518471       1518471   \n",
       "unique                                5155              32908           104   \n",
       "top     Boston Beer Company (Samuel Adams)     northyorksammy  American IPA   \n",
       "freq                                 38806               5346        113144   \n",
       "\n",
       "            beer_name  \n",
       "count         1518471  \n",
       "unique          44075  \n",
       "top     90 Minute IPA  \n",
       "freq             3289  "
      ]
     },
     "execution_count": 27,
     "metadata": {},
     "output_type": "execute_result"
    }
   ],
   "source": [
    "beer_df.describe(include=[object])"
   ]
  },
  {
   "cell_type": "code",
   "execution_count": null,
   "metadata": {},
   "outputs": [],
   "source": []
  },
  {
   "cell_type": "code",
   "execution_count": null,
   "metadata": {},
   "outputs": [],
   "source": [
    "# save to csv file for import\n",
    "beer_data = beer_df.to_csv(\"data/beer.gz\", header = True, compression=\"gzip\", index = False)\n"
   ]
  },
  {
   "cell_type": "code",
   "execution_count": null,
   "metadata": {},
   "outputs": [],
   "source": []
  },
  {
   "cell_type": "code",
   "execution_count": null,
   "metadata": {},
   "outputs": [],
   "source": []
  },
  {
   "cell_type": "code",
   "execution_count": null,
   "metadata": {},
   "outputs": [],
   "source": []
  },
  {
   "cell_type": "code",
   "execution_count": null,
   "metadata": {},
   "outputs": [],
   "source": []
  },
  {
   "cell_type": "code",
   "execution_count": null,
   "metadata": {},
   "outputs": [],
   "source": []
  },
  {
   "cell_type": "code",
   "execution_count": null,
   "metadata": {},
   "outputs": [],
   "source": []
  },
  {
   "cell_type": "code",
   "execution_count": null,
   "metadata": {},
   "outputs": [],
   "source": []
  },
  {
   "cell_type": "code",
   "execution_count": null,
   "metadata": {},
   "outputs": [],
   "source": []
  },
  {
   "cell_type": "code",
   "execution_count": null,
   "metadata": {},
   "outputs": [],
   "source": []
  },
  {
   "cell_type": "code",
   "execution_count": null,
   "metadata": {},
   "outputs": [],
   "source": []
  },
  {
   "cell_type": "code",
   "execution_count": null,
   "metadata": {},
   "outputs": [],
   "source": []
  },
  {
   "cell_type": "code",
   "execution_count": null,
   "metadata": {},
   "outputs": [],
   "source": []
  }
 ],
 "metadata": {
  "kernelspec": {
<<<<<<< Updated upstream
   "display_name": "Python 3.7.6 64-bit ('PythonData': conda)",
   "language": "python",
   "name": "python37664bitpythondataconda732d323569964bd9be2661eee657a7aa"
=======
   "display_name": "Python [conda env:PythonAdv]",
   "language": "python",
   "name": "conda-env-PythonAdv-py"
>>>>>>> Stashed changes
  },
  "language_info": {
   "codemirror_mode": {
    "name": "ipython",
    "version": 3
   },
   "file_extension": ".py",
   "mimetype": "text/x-python",
   "name": "python",
   "nbconvert_exporter": "python",
   "pygments_lexer": "ipython3",
   "version": "3.6.10"
  }
 },
 "nbformat": 4,
 "nbformat_minor": 4
}
