{
 "cells": [
  {
   "cell_type": "markdown",
   "metadata": {},
   "source": [
    "# Explore the OpenBreweryDB API "
   ]
  },
  {
   "cell_type": "code",
   "execution_count": null,
   "metadata": {},
   "outputs": [],
   "source": [
    "https://sandbox-api.brewerydb.com/v2/\n",
    "Sandbox Key:c13c821fb670e2fb8cf9a31b4d335d96"
   ]
  },
  {
   "cell_type": "code",
   "execution_count": null,
   "metadata": {},
   "outputs": [],
   "source": [
    "brewery_url = \"https://sandbox-api.brewerydb.com/v2/\"\n",
    "brewery_data = requests.get(brewery_url).json()\n",
    "pprint(brewery_data)"
   ]
  },
  {
   "cell_type": "code",
   "execution_count": null,
   "metadata": {},
   "outputs": [],
   "source": [
    "# brewery_url = \"https://api.openbrewerydb.org/breweries?per_page=25\"\n",
    "# brewery_data = requests.get(brewery_url).json()\n",
    "# pprint(brewery_data)"
   ]
  },
  {
   "cell_type": "code",
   "execution_count": null,
   "metadata": {},
   "outputs": [],
   "source": [
    "# brewery_df = pd.DataFrame(brewery_data)\n",
    "# brewery_df"
   ]
  },
  {
   "cell_type": "markdown",
   "metadata": {},
   "source": [
    "# Exploring the CSV format "
   ]
  },
  {
   "cell_type": "code",
   "execution_count": null,
   "metadata": {},
   "outputs": [],
   "source": [
    "# Read in the CSV using pandas and save into dataframe \n",
    "brewery_df = pd.read_csv(\"https://raw.githubusercontent.com/openbrewerydb/openbrewerydb/master/breweries.csv\")\n",
    "brewery_df"
   ]
  },
  {
   "cell_type": "code",
   "execution_count": null,
   "metadata": {},
   "outputs": [],
   "source": [
    "# Overview of brewery dataframe \n",
    "brewery_df.info()"
   ]
  },
  {
   "cell_type": "code",
   "execution_count": null,
   "metadata": {
    "scrolled": true
   },
   "outputs": [],
   "source": [
    "# Identify and count null values in each column in df \n",
    "nan_count = brewery_df.isnull().sum()\n",
    "nan_count[nan_count > 0].sort_values(ascending = False)"
   ]
  },
  {
   "cell_type": "code",
   "execution_count": null,
   "metadata": {},
   "outputs": [],
   "source": [
    "# Drop the columns that contain only null values (notes and tags)\n",
    "brewery_df = brewery_df.drop(['notes', 'tags'], axis = 1)"
   ]
  },
  {
   "cell_type": "markdown",
   "metadata": {},
   "source": [
    "### Dropping unecessary columns \n",
    "created_at, updated_at"
   ]
  },
  {
   "cell_type": "code",
   "execution_count": null,
   "metadata": {},
   "outputs": [],
   "source": [
    "brewery_df.info()"
   ]
  },
  {
   "cell_type": "code",
   "execution_count": null,
   "metadata": {},
   "outputs": [],
   "source": [
    "brewery_df = brewery_df.drop(['created_at', 'updated_at'], axis = 1)"
   ]
  },
  {
   "cell_type": "code",
   "execution_count": null,
   "metadata": {},
   "outputs": [],
   "source": [
    "brewery_df[\"name\"].value_counts()"
   ]
  },
  {
   "cell_type": "markdown",
   "metadata": {},
   "source": [
    "### Standardising the zip code column \n"
   ]
  },
  {
   "cell_type": "code",
   "execution_count": null,
   "metadata": {},
   "outputs": [],
   "source": [
    "# Check the min and mac length of values in the postal Code column \n",
    "postal_check = brewery_df['postal_code'].apply(len)\n",
    "print(f\"Max zip_code length is {postal_check.max()}.\")\n",
    "print(f\"Min zip_code length is {postal_check.min()}.\")"
   ]
  },
  {
   "cell_type": "code",
   "execution_count": null,
   "metadata": {
    "scrolled": true
   },
   "outputs": [],
   "source": [
    "# Check the rows where the postal code length is 3 and drop it \n",
    "brewery_df[brewery_df.postal_code.str.len() == postal_check.min()]\n",
    "brewery_df = brewery_df.loc[~(brewery_df['postal_code'] == \"TBD\")]\n",
    "brewery_df.head()"
   ]
  },
  {
   "cell_type": "code",
   "execution_count": null,
   "metadata": {},
   "outputs": [],
   "source": [
    "# Get rid of the rows that have 4 digit postal codes and null lat and long values\n",
    "brewery_df = brewery_df.loc[~((brewery_df['postal_code'].str.len() == 4) &\n",
    "                             (brewery_df['longitude'].isnull())),:]"
   ]
  },
  {
   "cell_type": "code",
   "execution_count": null,
   "metadata": {
    "scrolled": true
   },
   "outputs": [],
   "source": [
    "brewery_df.info()"
   ]
  },
  {
   "cell_type": "code",
   "execution_count": null,
   "metadata": {},
   "outputs": [],
   "source": [
    "brewery_df[brewery_df.postal_code.str.len() == 5]"
   ]
  },
  {
   "cell_type": "code",
   "execution_count": null,
   "metadata": {
    "scrolled": true
   },
   "outputs": [],
   "source": [
    "# Clean the postal codes and retain only the first 5 characters \n",
    "brewery_df['postal_code'] = brewery_df['postal_code'].apply(lambda x: x.split(\"-\")[0].strip())"
   ]
  },
  {
   "cell_type": "code",
   "execution_count": null,
   "metadata": {},
   "outputs": [],
   "source": [
    "brewery_df[brewery_df.postal_code.str.len() == 5]"
   ]
  },
  {
   "cell_type": "code",
   "execution_count": null,
   "metadata": {},
   "outputs": [],
   "source": [
    "# Verify that all postal codes have 5 characters only \n",
    "postal_check = brewery_df['postal_code'].apply(len)\n",
    "print(f\"Max zip_code length is {postal_check.max()}.\")\n",
    "print(f\"Min zip_code length is {postal_check.min()}.\")"
   ]
  },
  {
   "cell_type": "markdown",
   "metadata": {},
   "source": [
    "# Google Maps API to obtain lat and lon lists "
   ]
  },
  {
   "cell_type": "code",
   "execution_count": 1,
   "metadata": {},
   "outputs": [],
   "source": [
    "# Import dependencies \n",
    "import pandas as pd \n",
    "import numpy as np\n",
    "import requests \n",
    "import json\n",
    "from pprint import pprint"
   ]
  },
  {
   "cell_type": "code",
   "execution_count": 5,
   "metadata": {
    "scrolled": false
   },
   "outputs": [],
   "source": [
    "df = pd.read_csv(\"../../Data/beer.gz\", encoding=\"ISO-8859-1\")\n",
    "\n",
    "df.drop_duplicates(subset = \"brewery_id\", keep = \"first\", inplace = True)\n"
   ]
  },
  {
   "cell_type": "code",
   "execution_count": 7,
   "metadata": {},
   "outputs": [
    {
     "data": {
      "text/html": [
       "<div>\n",
       "<style scoped>\n",
       "    .dataframe tbody tr th:only-of-type {\n",
       "        vertical-align: middle;\n",
       "    }\n",
       "\n",
       "    .dataframe tbody tr th {\n",
       "        vertical-align: top;\n",
       "    }\n",
       "\n",
       "    .dataframe thead th {\n",
       "        text-align: right;\n",
       "    }\n",
       "</style>\n",
       "<table border=\"1\" class=\"dataframe\">\n",
       "  <thead>\n",
       "    <tr style=\"text-align: right;\">\n",
       "      <th></th>\n",
       "      <th>Unnamed: 0</th>\n",
       "      <th>brewery_id</th>\n",
       "      <th>brewery_name</th>\n",
       "      <th>review_time</th>\n",
       "      <th>review_overall</th>\n",
       "      <th>review_aroma</th>\n",
       "      <th>review_appearance</th>\n",
       "      <th>review_profilename</th>\n",
       "      <th>beer_style</th>\n",
       "      <th>review_palate</th>\n",
       "      <th>review_taste</th>\n",
       "      <th>beer_name</th>\n",
       "      <th>beer_abv</th>\n",
       "      <th>beer_beerid</th>\n",
       "    </tr>\n",
       "  </thead>\n",
       "  <tbody>\n",
       "    <tr>\n",
       "      <th>0</th>\n",
       "      <td>0</td>\n",
       "      <td>10325</td>\n",
       "      <td>Vecchio Birraio</td>\n",
       "      <td>2009-02-16 20:57:03</td>\n",
       "      <td>1.5</td>\n",
       "      <td>2.0</td>\n",
       "      <td>2.5</td>\n",
       "      <td>stcules</td>\n",
       "      <td>Hefeweizen</td>\n",
       "      <td>1.5</td>\n",
       "      <td>1.5</td>\n",
       "      <td>Sausa Weizen</td>\n",
       "      <td>5.0</td>\n",
       "      <td>47986</td>\n",
       "    </tr>\n",
       "    <tr>\n",
       "      <th>4</th>\n",
       "      <td>4</td>\n",
       "      <td>1075</td>\n",
       "      <td>Caldera Brewing Company</td>\n",
       "      <td>2010-12-30 18:53:26</td>\n",
       "      <td>4.0</td>\n",
       "      <td>4.5</td>\n",
       "      <td>4.0</td>\n",
       "      <td>johnmichaelsen</td>\n",
       "      <td>American Double / Imperial IPA</td>\n",
       "      <td>4.0</td>\n",
       "      <td>4.5</td>\n",
       "      <td>Cauldron DIPA</td>\n",
       "      <td>7.7</td>\n",
       "      <td>64883</td>\n",
       "    </tr>\n",
       "    <tr>\n",
       "      <th>10</th>\n",
       "      <td>10</td>\n",
       "      <td>163</td>\n",
       "      <td>Amstel Brouwerij B. V.</td>\n",
       "      <td>2002-01-13 23:09:52</td>\n",
       "      <td>3.0</td>\n",
       "      <td>2.0</td>\n",
       "      <td>3.0</td>\n",
       "      <td>fodeeoz</td>\n",
       "      <td>Light Lager</td>\n",
       "      <td>2.5</td>\n",
       "      <td>2.5</td>\n",
       "      <td>Amstel Light</td>\n",
       "      <td>3.5</td>\n",
       "      <td>436</td>\n",
       "    </tr>\n",
       "    <tr>\n",
       "      <th>392</th>\n",
       "      <td>393</td>\n",
       "      <td>1454</td>\n",
       "      <td>Broad Ripple Brew Pub</td>\n",
       "      <td>2009-12-30 21:36:37</td>\n",
       "      <td>4.0</td>\n",
       "      <td>3.5</td>\n",
       "      <td>4.0</td>\n",
       "      <td>JamesS</td>\n",
       "      <td>English Brown Ale</td>\n",
       "      <td>3.5</td>\n",
       "      <td>3.5</td>\n",
       "      <td>Nut Brown</td>\n",
       "      <td>4.7</td>\n",
       "      <td>55097</td>\n",
       "    </tr>\n",
       "    <tr>\n",
       "      <th>402</th>\n",
       "      <td>403</td>\n",
       "      <td>850</td>\n",
       "      <td>Moon River Brewing Company</td>\n",
       "      <td>2006-03-07 17:19:13</td>\n",
       "      <td>3.5</td>\n",
       "      <td>3.5</td>\n",
       "      <td>3.0</td>\n",
       "      <td>Jredner</td>\n",
       "      <td>American Porter</td>\n",
       "      <td>3.5</td>\n",
       "      <td>3.5</td>\n",
       "      <td>The Captain's Porter</td>\n",
       "      <td>6.0</td>\n",
       "      <td>2780</td>\n",
       "    </tr>\n",
       "    <tr>\n",
       "      <th>...</th>\n",
       "      <td>...</td>\n",
       "      <td>...</td>\n",
       "      <td>...</td>\n",
       "      <td>...</td>\n",
       "      <td>...</td>\n",
       "      <td>...</td>\n",
       "      <td>...</td>\n",
       "      <td>...</td>\n",
       "      <td>...</td>\n",
       "      <td>...</td>\n",
       "      <td>...</td>\n",
       "      <td>...</td>\n",
       "      <td>...</td>\n",
       "      <td>...</td>\n",
       "    </tr>\n",
       "    <tr>\n",
       "      <th>1518208</th>\n",
       "      <td>1586294</td>\n",
       "      <td>21727</td>\n",
       "      <td>Gattopardo Cervejaria</td>\n",
       "      <td>2009-12-17 02:50:44</td>\n",
       "      <td>4.0</td>\n",
       "      <td>3.5</td>\n",
       "      <td>4.0</td>\n",
       "      <td>DoubleJ</td>\n",
       "      <td>German Pilsener</td>\n",
       "      <td>4.0</td>\n",
       "      <td>3.5</td>\n",
       "      <td>Lager Bossa</td>\n",
       "      <td>4.8</td>\n",
       "      <td>54807</td>\n",
       "    </tr>\n",
       "    <tr>\n",
       "      <th>1518211</th>\n",
       "      <td>1586301</td>\n",
       "      <td>6785</td>\n",
       "      <td>Brauerei Lasser GmbH</td>\n",
       "      <td>2004-08-04 20:46:43</td>\n",
       "      <td>3.0</td>\n",
       "      <td>3.5</td>\n",
       "      <td>4.0</td>\n",
       "      <td>Bourre</td>\n",
       "      <td>Dortmunder / Export Lager</td>\n",
       "      <td>4.0</td>\n",
       "      <td>2.5</td>\n",
       "      <td>Lasser Export</td>\n",
       "      <td>5.2</td>\n",
       "      <td>19125</td>\n",
       "    </tr>\n",
       "    <tr>\n",
       "      <th>1518212</th>\n",
       "      <td>1586302</td>\n",
       "      <td>12566</td>\n",
       "      <td>Wissey Valley Brewery</td>\n",
       "      <td>2008-06-01 18:54:54</td>\n",
       "      <td>4.0</td>\n",
       "      <td>4.5</td>\n",
       "      <td>4.5</td>\n",
       "      <td>wl0307</td>\n",
       "      <td>English Porter</td>\n",
       "      <td>4.5</td>\n",
       "      <td>4.0</td>\n",
       "      <td>Cherry Porter</td>\n",
       "      <td>4.7</td>\n",
       "      <td>42998</td>\n",
       "    </tr>\n",
       "    <tr>\n",
       "      <th>1518213</th>\n",
       "      <td>1586303</td>\n",
       "      <td>7337</td>\n",
       "      <td>Outback Brewery Pty Ltd</td>\n",
       "      <td>2009-02-23 09:38:08</td>\n",
       "      <td>2.5</td>\n",
       "      <td>2.5</td>\n",
       "      <td>3.0</td>\n",
       "      <td>LittleCreature</td>\n",
       "      <td>English Dark Mild Ale</td>\n",
       "      <td>3.0</td>\n",
       "      <td>2.5</td>\n",
       "      <td>Outback Black Opal</td>\n",
       "      <td>4.4</td>\n",
       "      <td>13576</td>\n",
       "    </tr>\n",
       "    <tr>\n",
       "      <th>1518249</th>\n",
       "      <td>1586339</td>\n",
       "      <td>6102</td>\n",
       "      <td>Georg Meinel Bierbrauerei KG</td>\n",
       "      <td>2011-02-10 21:30:26</td>\n",
       "      <td>3.5</td>\n",
       "      <td>4.0</td>\n",
       "      <td>3.5</td>\n",
       "      <td>rtepiak</td>\n",
       "      <td>Weizenbock</td>\n",
       "      <td>3.5</td>\n",
       "      <td>4.0</td>\n",
       "      <td>Meinel Weizenbock</td>\n",
       "      <td>6.5</td>\n",
       "      <td>66101</td>\n",
       "    </tr>\n",
       "  </tbody>\n",
       "</table>\n",
       "<p>5230 rows × 14 columns</p>\n",
       "</div>"
      ],
      "text/plain": [
       "         Unnamed: 0  brewery_id                  brewery_name  \\\n",
       "0                 0       10325               Vecchio Birraio   \n",
       "4                 4        1075       Caldera Brewing Company   \n",
       "10               10         163        Amstel Brouwerij B. V.   \n",
       "392             393        1454         Broad Ripple Brew Pub   \n",
       "402             403         850    Moon River Brewing Company   \n",
       "...             ...         ...                           ...   \n",
       "1518208     1586294       21727         Gattopardo Cervejaria   \n",
       "1518211     1586301        6785          Brauerei Lasser GmbH   \n",
       "1518212     1586302       12566         Wissey Valley Brewery   \n",
       "1518213     1586303        7337       Outback Brewery Pty Ltd   \n",
       "1518249     1586339        6102  Georg Meinel Bierbrauerei KG   \n",
       "\n",
       "                 review_time  review_overall  review_aroma  review_appearance  \\\n",
       "0        2009-02-16 20:57:03             1.5           2.0                2.5   \n",
       "4        2010-12-30 18:53:26             4.0           4.5                4.0   \n",
       "10       2002-01-13 23:09:52             3.0           2.0                3.0   \n",
       "392      2009-12-30 21:36:37             4.0           3.5                4.0   \n",
       "402      2006-03-07 17:19:13             3.5           3.5                3.0   \n",
       "...                      ...             ...           ...                ...   \n",
       "1518208  2009-12-17 02:50:44             4.0           3.5                4.0   \n",
       "1518211  2004-08-04 20:46:43             3.0           3.5                4.0   \n",
       "1518212  2008-06-01 18:54:54             4.0           4.5                4.5   \n",
       "1518213  2009-02-23 09:38:08             2.5           2.5                3.0   \n",
       "1518249  2011-02-10 21:30:26             3.5           4.0                3.5   \n",
       "\n",
       "        review_profilename                      beer_style  review_palate  \\\n",
       "0                  stcules                      Hefeweizen            1.5   \n",
       "4           johnmichaelsen  American Double / Imperial IPA            4.0   \n",
       "10                 fodeeoz                     Light Lager            2.5   \n",
       "392                 JamesS               English Brown Ale            3.5   \n",
       "402                Jredner                 American Porter            3.5   \n",
       "...                    ...                             ...            ...   \n",
       "1518208            DoubleJ                 German Pilsener            4.0   \n",
       "1518211             Bourre       Dortmunder / Export Lager            4.0   \n",
       "1518212             wl0307                  English Porter            4.5   \n",
       "1518213     LittleCreature           English Dark Mild Ale            3.0   \n",
       "1518249            rtepiak                      Weizenbock            3.5   \n",
       "\n",
       "         review_taste             beer_name  beer_abv  beer_beerid  \n",
       "0                 1.5          Sausa Weizen       5.0        47986  \n",
       "4                 4.5         Cauldron DIPA       7.7        64883  \n",
       "10                2.5          Amstel Light       3.5          436  \n",
       "392               3.5             Nut Brown       4.7        55097  \n",
       "402               3.5  The Captain's Porter       6.0         2780  \n",
       "...               ...                   ...       ...          ...  \n",
       "1518208           3.5           Lager Bossa       4.8        54807  \n",
       "1518211           2.5         Lasser Export       5.2        19125  \n",
       "1518212           4.0         Cherry Porter       4.7        42998  \n",
       "1518213           2.5    Outback Black Opal       4.4        13576  \n",
       "1518249           4.0     Meinel Weizenbock       6.5        66101  \n",
       "\n",
       "[5230 rows x 14 columns]"
      ]
     },
     "execution_count": 7,
     "metadata": {},
     "output_type": "execute_result"
    }
   ],
   "source": [
    "df"
   ]
  },
  {
   "cell_type": "code",
   "execution_count": null,
   "metadata": {},
   "outputs": [],
   "source": [
    "brewery = df['brewery_name']\n",
    "brewery.drop_duplicates(keep = 'first', inplace = True) \n",
    "brewery_names = brewery.to_numpy()"
   ]
  },
  {
   "cell_type": "code",
   "execution_count": null,
   "metadata": {},
   "outputs": [],
   "source": [
    "brewery_names"
   ]
  },
  {
   "cell_type": "code",
   "execution_count": null,
   "metadata": {},
   "outputs": [],
   "source": [
    "https://maps.googleapis.com/maps/api/place/autocomplete/json?input=Vict&types=(cities)&language=pt_BR&key=YOUR_API_KEY"
   ]
  },
  {
   "cell_type": "code",
   "execution_count": null,
   "metadata": {},
   "outputs": [],
   "source": []
  },
  {
   "cell_type": "code",
   "execution_count": null,
   "metadata": {},
   "outputs": [],
   "source": [
    "# obtaining the location of each developer's office using google maps\n",
    "lat = []\n",
    "lng = []\n",
    "\n",
    "params={\n",
    "    \"inputtype\": \"textquery\",\n",
    "    \"types\": \"establishment\",\n",
    "    \"key\": g_key,\n",
    "}\n",
    "\n",
    "for name in brewery_names:\n",
    "    params[\"inputtype\"] = name\n",
    "    url = \"https://maps.googleapis.com/maps/api/place/autocomplete/json?parameters\"\n",
    "    response = requests.get(url, params = params).json()\n",
    "    \n",
    "    try:\n",
    "        place_id = response[\"predictions\"][0][\"place_id\"]\n",
    "        url2 = \"https://maps.googleapis.com/maps/api/geocode/json?place_id=\"+place_id+\"&key=\"+g_key\n",
    "        response2 = requests.get(url2).json()\n",
    "        lat.append(response2[\"results\"][0][\"geometry\"][\"location\"][\"lat\"])\n",
    "        lng.append(response2[\"results\"][0][\"geometry\"][\"location\"][\"lng\"])\n",
    "        \n",
    "    except:\n",
    "        lat.append(\"missing\")\n",
    "        lng.append(\"missing\")"
   ]
  },
  {
   "cell_type": "code",
   "execution_count": null,
   "metadata": {},
   "outputs": [],
   "source": [
    "lng"
   ]
  },
  {
   "cell_type": "code",
   "execution_count": null,
   "metadata": {},
   "outputs": [],
   "source": []
  },
  {
   "cell_type": "code",
   "execution_count": null,
   "metadata": {},
   "outputs": [],
   "source": []
  },
  {
   "cell_type": "code",
   "execution_count": null,
   "metadata": {},
   "outputs": [],
   "source": []
  },
  {
   "cell_type": "code",
   "execution_count": null,
   "metadata": {},
   "outputs": [],
   "source": []
  },
  {
   "cell_type": "code",
   "execution_count": null,
   "metadata": {},
   "outputs": [],
   "source": []
  },
  {
   "cell_type": "code",
   "execution_count": null,
   "metadata": {},
   "outputs": [],
   "source": []
  },
  {
   "cell_type": "code",
   "execution_count": null,
   "metadata": {},
   "outputs": [],
   "source": [
    "# obtaining the location of each developer's office using google maps\n",
    "lat = []\n",
    "lng = []\n",
    "\n",
    "params={\n",
    "    \"inputtype\":\"textquery\",\n",
    "    \"key\":g_key,\n",
    "}\n",
    "\n",
    "for i in dev_gamecount.index:\n",
    "    params[\"input\"]=i\n",
    "    url=\"https://maps.googleapis.com/maps/api/place/autocomplete/json?parameters\"\n",
    "    response=requests.get(url, params=params).json()\n",
    "    try:\n",
    "        place_id=response[\"predictions\"][0][\"place_id\"]\n",
    "        url2=\"https://maps.googleapis.com/maps/api/geocode/json?place_id=\"+place_id+\"&key=\"+g_key\n",
    "        response2=requests.get(url2).json()\n",
    "        lat.append(response2[\"results\"][0][\"geometry\"][\"location\"][\"lat\"])\n",
    "        lng.append(response2[\"results\"][0][\"geometry\"][\"location\"][\"lng\"])\n",
    "    except:\n",
    "        lat.append(\"missing\")\n",
    "        lng.append(\"missing\")"
   ]
  },
  {
   "cell_type": "code",
   "execution_count": null,
   "metadata": {},
   "outputs": [],
   "source": []
  },
  {
   "cell_type": "code",
   "execution_count": null,
   "metadata": {},
   "outputs": [],
   "source": []
  },
  {
   "cell_type": "code",
   "execution_count": null,
   "metadata": {},
   "outputs": [],
   "source": []
  },
  {
   "cell_type": "code",
   "execution_count": null,
   "metadata": {},
   "outputs": [],
   "source": []
  }
 ],
 "metadata": {
  "kernelspec": {
   "display_name": "Python 3",
   "language": "python",
   "name": "python3"
  },
  "language_info": {
   "codemirror_mode": {
    "name": "ipython",
    "version": 3
   },
   "file_extension": ".py",
   "mimetype": "text/x-python",
   "name": "python",
   "nbconvert_exporter": "python",
   "pygments_lexer": "ipython3",
   "version": "3.7.7"
  }
 },
 "nbformat": 4,
 "nbformat_minor": 4
}
