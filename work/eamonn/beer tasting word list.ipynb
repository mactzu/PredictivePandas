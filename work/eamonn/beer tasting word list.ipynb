{
 "cells": [
  {
   "cell_type": "code",
   "execution_count": 1,
   "metadata": {},
   "outputs": [],
   "source": [
    "import pandas as pd"
   ]
  },
  {
   "cell_type": "code",
   "execution_count": 2,
   "metadata": {},
   "outputs": [],
   "source": [
    "beer_tasting_word = pd.DataFrame()"
   ]
  },
  {
   "cell_type": "code",
   "execution_count": 3,
   "metadata": {},
   "outputs": [],
   "source": [
    "beer_tasting_word[\"word\"] = [\"malty\", \"grainy\", \"sweet\", \"corn-like\", \"hay\", \"straw\", \"cracker\", \"bicuity\", \"caramel\", \"toast\", \"roast\", \"coffee\", \"espresso\",\n",
    "                            \"burnt\", \"alcohol\", \"tobacco\", \"gunpowder\", \"leather\", \"pine\", \"grass\",\"raisins\", \"currant\", \"plum\", \"dates\", \"prunes\", \"figs\", \"blackberry\", \"blueberry\",\n",
    "                            \"banana\", \"pineapple\", \"apricot\", \"pear\", \"apple\", \"nectarine\", \"peach\", \"mango\", \"lemon\", \"lime\", \"orange\", \"tangerine\", \"clementine\", \"grapefruit\", \"zest\",\n",
    "                            \"metallic\", \"vinegar\", \"copper\", \"cidery\", \"astringent\", \"chlorine\",\"phenolic\", \"pepper\", \"clove\", \"anise\", \"licorice\", \"bacon\", \"fatty\", \"nutty\",\"butterscotch\", \"vanilla\", \"earthy\", \"woody\", \"bread\", \"saddle\", \"musty\", \"barnyard\",\n",
    "                            \"honey\", \"caramel\", \"chestnut\",\"apricot\", \"orange\", \"black\", \"burnt\", \"garnet\", \"ruby\", \"copper\",\"brilliant\", \"hazy\", \"cloudy\", \"turbid\", \"opaque\", \"clear\", \"crystal\", \"bright\", \"dull\", \"persistent\", \"rocky\", \"large\", \"fluffy\", \"dissipating\", \"lingering\", \"white\", \"tan\", \"frothy\", \"delicate\",\n",
    "                            \"roasted\", \"bready\", \"bitter\", \"sweet\", \"spicy\", \"fruity\", \"chocolate\", \"caramel\", \"toffee\", \"coffee\", \"malty\", \"tart\", \"subtle\", \"woodsy\", \"earthy\", \"sulfuric\", \"assertive\", \"mild\", \"bold\", \"balanced\", \"robust\", \"intense\", \"metallic\", \"harsh\", \"complex\", \"delicate\", \"refined\", \"hearty\",\n",
    "                            \"smooth\", \"silky\", \"velvety\", \"prickly\", \"tingly\", \"creamy\", \"warming\", \"viscous\", \"astringent\", \"oily\",\"Malty\", \"biscuity\", \"breadlike\", \"grainy\", \"rich\", \"deep\", \"roasty\", \"cereal\", \"cookie\", \"coffeeish\", \"caramelly\", \"toffee\", \"molasses\", \"complexity\", \"smoky\", \"sweet\", \"autumnal\", \"cream\", \"milk\", \"oatmeal\", \"rustic\", \"layered\",\n",
    "                            \"piney\", \"citrusy\", \"grapefruity\", \"earthy\", \"musty\", \"spicy\", \"sharp\", \"bright\", \"fresh\", \"herbal\", \"zippy\", \"lemony\", \"aromatic\", \"floral\", \"springlike\", \"brilliant\", \"sprucelike\", \"juniper\", \"minty\", \"pungent\", \"elegant\", \"grassy\",\n",
    "                            \"baked\", \"bubblegum\", \"yeasty\", \"belgian\", \"aromatic\", \"tropical\", \"subtle\", \"fruity\", \"clean\", \"banana\", \"earthy\", \"musty\", \"soft\", \"effervescent\", \"spritzy\", \"sparkling\", \"zippy\", \"pinpoint\", \"bubbly\", \"gentle\", \"carbonation\", \"rich\", \"full\", \"light\", \"slick\", \"creamy\", \"oily\", \"heavy\", \"velvety\", \"sweet\", \"dry\", \"thick\", \"thin\"]"
   ]
  },
  {
   "cell_type": "code",
   "execution_count": 4,
   "metadata": {},
   "outputs": [
    {
     "data": {
      "text/html": [
       "<div>\n",
       "<style scoped>\n",
       "    .dataframe tbody tr th:only-of-type {\n",
       "        vertical-align: middle;\n",
       "    }\n",
       "\n",
       "    .dataframe tbody tr th {\n",
       "        vertical-align: top;\n",
       "    }\n",
       "\n",
       "    .dataframe thead th {\n",
       "        text-align: right;\n",
       "    }\n",
       "</style>\n",
       "<table border=\"1\" class=\"dataframe\">\n",
       "  <thead>\n",
       "    <tr style=\"text-align: right;\">\n",
       "      <th></th>\n",
       "      <th>word</th>\n",
       "    </tr>\n",
       "  </thead>\n",
       "  <tbody>\n",
       "    <tr>\n",
       "      <th>0</th>\n",
       "      <td>malty</td>\n",
       "    </tr>\n",
       "    <tr>\n",
       "      <th>1</th>\n",
       "      <td>grainy</td>\n",
       "    </tr>\n",
       "    <tr>\n",
       "      <th>2</th>\n",
       "      <td>sweet</td>\n",
       "    </tr>\n",
       "    <tr>\n",
       "      <th>3</th>\n",
       "      <td>corn-like</td>\n",
       "    </tr>\n",
       "    <tr>\n",
       "      <th>4</th>\n",
       "      <td>hay</td>\n",
       "    </tr>\n",
       "    <tr>\n",
       "      <th>...</th>\n",
       "      <td>...</td>\n",
       "    </tr>\n",
       "    <tr>\n",
       "      <th>200</th>\n",
       "      <td>slick</td>\n",
       "    </tr>\n",
       "    <tr>\n",
       "      <th>203</th>\n",
       "      <td>heavy</td>\n",
       "    </tr>\n",
       "    <tr>\n",
       "      <th>206</th>\n",
       "      <td>dry</td>\n",
       "    </tr>\n",
       "    <tr>\n",
       "      <th>207</th>\n",
       "      <td>thick</td>\n",
       "    </tr>\n",
       "    <tr>\n",
       "      <th>208</th>\n",
       "      <td>thin</td>\n",
       "    </tr>\n",
       "  </tbody>\n",
       "</table>\n",
       "<p>176 rows × 1 columns</p>\n",
       "</div>"
      ],
      "text/plain": [
       "          word\n",
       "0        malty\n",
       "1       grainy\n",
       "2        sweet\n",
       "3    corn-like\n",
       "4          hay\n",
       "..         ...\n",
       "200      slick\n",
       "203      heavy\n",
       "206        dry\n",
       "207      thick\n",
       "208       thin\n",
       "\n",
       "[176 rows x 1 columns]"
      ]
     },
     "execution_count": 4,
     "metadata": {},
     "output_type": "execute_result"
    }
   ],
   "source": [
    "beer_tasting_word.drop_duplicates(keep=\"first\")"
   ]
  },
  {
   "cell_type": "code",
   "execution_count": 5,
   "metadata": {},
   "outputs": [],
   "source": [
    "beer_tasting_word.to_csv(r'include_tasting_words.csv', index = False)"
   ]
  },
  {
   "cell_type": "code",
   "execution_count": null,
   "metadata": {},
   "outputs": [],
   "source": []
  }
 ],
 "metadata": {
  "kernelspec": {
   "display_name": "Python [conda env:PythonAdvanced]",
   "language": "python",
   "name": "conda-env-PythonAdvanced-py"
  },
  "language_info": {
   "codemirror_mode": {
    "name": "ipython",
    "version": 3
   },
   "file_extension": ".py",
   "mimetype": "text/x-python",
   "name": "python",
   "nbconvert_exporter": "python",
   "pygments_lexer": "ipython3",
   "version": "3.6.10"
  }
 },
 "nbformat": 4,
 "nbformat_minor": 4
}
