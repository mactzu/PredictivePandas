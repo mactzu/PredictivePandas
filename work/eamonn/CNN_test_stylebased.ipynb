{
 "cells": [
  {
   "cell_type": "code",
   "execution_count": 1,
   "metadata": {},
   "outputs": [],
   "source": [
    "import pandas as pd \n",
    "import numpy as np\n",
    "from sklearn.model_selection import train_test_split\n",
    "from sklearn.preprocessing import StandardScaler\n",
    "from tensorflow.keras.utils import to_categorical\n",
    "from tensorflow.keras.models import Sequential\n",
    "from tensorflow.keras.layers import Dense"
   ]
  },
  {
   "cell_type": "code",
   "execution_count": 2,
   "metadata": {},
   "outputs": [],
   "source": [
    "#Data import and feature additions\n",
    "beer_df = pd.read_csv('https://query.data.world/s/nuub3qupegsd33g3nimifjpajqeq2o')\n",
    "beer_df.dropna(inplace=True)\n",
    "beer_df.drop_duplicates(inplace=True)\n",
    "beer_df[\"beer_strength\"] = pd.cut(beer_df[\"beer_abv\"], [0,1.9,3.9,6,9,58], \n",
    "                                labels=[\"Light\", \"Mid\", \"Full\", \"Heavy\", \"Very Strong\"])\n",
    "mod_beer_df =beer_df\n",
    "conditions =[\n",
    "    (mod_beer_df.beer_style.str.contains('ale', case=False)),\n",
    "    (mod_beer_df.beer_style.str.contains('dark ale', case=False)),\n",
    "    (mod_beer_df.beer_style.str.contains('ipa', case=False)),\n",
    "    (mod_beer_df.beer_style.str.contains(\"pilsener\", case=False)),\n",
    "    (mod_beer_df.beer_style.str.contains(\"pilsner\", case=False)),\n",
    "    (mod_beer_df.beer_style.str.contains(\"barleywine\", case=False)),\n",
    "    (mod_beer_df.beer_style.str.contains(\"bitter\", case=False)),\n",
    "    (mod_beer_df.beer_style.str.contains(\"porter\", case=False)),\n",
    "    (mod_beer_df.beer_style.str.contains(\"kölsch\", case=False)),\n",
    "    (mod_beer_df.beer_style.str.contains('pel', case=False)),\n",
    "    (mod_beer_df.beer_style.str.contains('lager', case=False)),\n",
    "    (mod_beer_df.beer_style.str.contains('stout', case=False)),\n",
    "]\n",
    "\n",
    "styles = ['ale','dark ale','ipa',\"pilsener\",\"pilsener\",\"barleywine\",\"bitter\",\"porter\",\"kölsch\",\"trappist\",'lager','stout']\n",
    "mod_beer_df[\"meta_style\"] = np.select(conditions, styles, default='exotic')\n",
    "beer_sub_grp = mod_beer_df[[\"beer_name\", \"review_overall\", \"review_aroma\", \"review_appearance\", \"review_palate\", \"review_taste\"]]\n",
    "grp_beers_mean= pd.DataFrame(beer_sub_grp.groupby([\"beer_name\"]).mean())\n",
    "mod_beer_df = pd.merge(mod_beer_df, grp_beers_mean, on='beer_name',how='outer',suffixes=('_OG','_MEAN'))\n",
    "val_info = pd.DataFrame(mod_beer_df[[\"review_overall_OG\", \"review_aroma_OG\", \"review_appearance_OG\", \"review_palate_OG\", \"review_taste_OG\"]])\n",
    "mod_beer_df[\"sub_review_score\"] = val_info.mean(axis=1)"
   ]
  },
  {
   "cell_type": "code",
   "execution_count": null,
   "metadata": {},
   "outputs": [],
   "source": []
  }
 ],
 "metadata": {
  "kernelspec": {
   "display_name": "Python [conda env:PythonAdvanced]",
   "language": "python",
   "name": "conda-env-PythonAdvanced-py"
  },
  "language_info": {
   "codemirror_mode": {
    "name": "ipython",
    "version": 3
   },
   "file_extension": ".py",
   "mimetype": "text/x-python",
   "name": "python",
   "nbconvert_exporter": "python",
   "pygments_lexer": "ipython3",
   "version": "3.6.10"
  }
 },
 "nbformat": 4,
 "nbformat_minor": 4
}
