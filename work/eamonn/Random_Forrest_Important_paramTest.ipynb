{
 "cells": [
  {
   "cell_type": "code",
   "execution_count": 1,
   "metadata": {},
   "outputs": [],
   "source": [
    "from sklearn import tree\n",
    "import pandas as pd\n",
    "import numpy as np\n",
    "import os\n",
    "from sklearn.model_selection import train_test_split, GridSearchCV\n",
    "from sklearn.ensemble import RandomForestClassifier"
   ]
  },
  {
   "cell_type": "code",
   "execution_count": 2,
   "metadata": {},
   "outputs": [],
   "source": [
    "beer_csv = pd.read_csv(\"beerlist_w_Kmean.csv\")"
   ]
  },
  {
   "cell_type": "code",
   "execution_count": 3,
   "metadata": {},
   "outputs": [],
   "source": [
    "beer_csv_short = beer_csv.loc[(beer_csv[\"review_overall\"] > 3.5)& (beer_csv[\"review_aroma\"] > 3.5) &\\\n",
    "                             (beer_csv[\"review_appearance\"] > 3.5)& (beer_csv[\"review_palate\"] > 3.5)&\\\n",
    "                             (beer_csv[\"review_taste\"] > 3.5)]\n",
    "\n"
   ]
  },
  {
   "cell_type": "code",
   "execution_count": 4,
   "metadata": {},
   "outputs": [
    {
     "name": "stdout",
     "output_type": "stream",
     "text": [
      "<class 'pandas.core.frame.DataFrame'>\n",
      "Int64Index: 7297 entries, 5 to 13245\n",
      "Columns: 282 entries, brewery_id to Kmeans Cluster\n",
      "dtypes: float64(8), int64(271), object(3)\n",
      "memory usage: 15.8+ MB\n"
     ]
    }
   ],
   "source": [
    "beer_csv_short.info()"
   ]
  },
  {
   "cell_type": "code",
   "execution_count": 5,
   "metadata": {},
   "outputs": [],
   "source": [
    "y = beer_csv[\"Kmeans Cluster\"]"
   ]
  },
  {
   "cell_type": "code",
   "execution_count": 6,
   "metadata": {},
   "outputs": [],
   "source": [
    "X = beer_csv[[\n",
    "'grainy',\n",
    " 'sweet',\n",
    " 'hay',\n",
    " 'straw',\n",
    " 'cracker',\n",
    " 'bicuity',\n",
    " 'caramel',\n",
    " 'toast',\n",
    " 'roast',\n",
    " 'coffee',\n",
    " 'espresso',\n",
    " 'burnt',\n",
    " 'alcohol',\n",
    " 'tobacco',\n",
    " 'gunpowder',\n",
    " 'leather',\n",
    " 'pine',\n",
    " 'grass',\n",
    " 'raisins',\n",
    " 'currant',\n",
    " 'plum',\n",
    " 'dates',\n",
    " 'prunes',\n",
    " 'figs',\n",
    " 'blackberry',\n",
    " 'blueberry',\n",
    " 'banana',\n",
    " 'pineapple',\n",
    " 'apricot',\n",
    " 'pear',\n",
    " 'apple',\n",
    " 'nectarine',\n",
    " 'peach',\n",
    " 'mango',\n",
    " 'lemon',\n",
    " 'lime',\n",
    " 'orange',\n",
    " 'tangerine',\n",
    " 'clementine',\n",
    " 'grapefruit',\n",
    " 'zest',\n",
    " 'metallic',\n",
    " 'vinegar',\n",
    " 'copper',\n",
    " 'cidery',\n",
    " 'astringent',\n",
    " 'chlorine',\n",
    " 'phenolic',\n",
    " 'pepper',\n",
    " 'clove',\n",
    " 'anise',\n",
    " 'licorice',\n",
    " 'bacon',\n",
    " 'fatty',\n",
    " 'nutty',\n",
    " 'butterscotch',\n",
    " 'vanilla',\n",
    " 'earthy',\n",
    " 'woody',\n",
    " 'bread',\n",
    " 'saddle',\n",
    " 'musty',\n",
    " 'barnyard',\n",
    " 'honey',\n",
    " 'chestnut',\n",
    " 'black',\n",
    " 'garnet',\n",
    " 'ruby',\n",
    " 'brilliant',\n",
    " 'hazy',\n",
    " 'cloudy',\n",
    " 'turbid',\n",
    " 'opaque',\n",
    " 'clear',\n",
    " 'crystal',\n",
    " 'bright',\n",
    " 'dull',\n",
    " 'persistent',\n",
    " 'rocky',\n",
    " 'large',\n",
    " 'fluffy',\n",
    " 'dissipating',\n",
    " 'lingering',\n",
    " 'white',\n",
    " 'tan',\n",
    " 'frothy',\n",
    " 'delicate',\n",
    " 'roasted',\n",
    " 'bready',\n",
    " 'bitter',\n",
    " 'spicy',\n",
    " 'fruity',\n",
    " 'chocolate',\n",
    " 'toffee',\n",
    " 'tart',\n",
    " 'subtle',\n",
    " 'woodsy',\n",
    " 'sulfuric',\n",
    " 'assertive',\n",
    " 'mild',\n",
    " 'bold',\n",
    " 'balanced',\n",
    " 'robust',\n",
    " 'intense',\n",
    " 'harsh',\n",
    " 'complex',\n",
    " 'refined',\n",
    " 'hearty',\n",
    " 'smooth',\n",
    " 'silky',\n",
    " 'velvety',\n",
    " 'prickly',\n",
    " 'tingly',\n",
    " 'creamy',\n",
    " 'warming',\n",
    " 'viscous',\n",
    " 'oily',\n",
    " 'Malty',\n",
    " 'biscuity',\n",
    " 'breadlike',\n",
    " 'rich',\n",
    " 'deep',\n",
    " 'roasty',\n",
    " 'cereal',\n",
    " 'cookie',\n",
    " 'coffeeish',\n",
    " 'caramelly',\n",
    " 'molasses',\n",
    " 'complexity',\n",
    " 'smoky',\n",
    " 'autumnal',\n",
    " 'cream',\n",
    " 'milk',\n",
    " 'oatmeal',\n",
    " 'rustic',\n",
    " 'layered',\n",
    " 'piney',\n",
    " 'citrusy',\n",
    " 'grapefruity',\n",
    " 'sharp',\n",
    " 'fresh',\n",
    " 'herbal',\n",
    " 'zippy',\n",
    " 'lemony',\n",
    " 'aromatic',\n",
    " 'floral',\n",
    " 'springlike',\n",
    " 'sprucelike',\n",
    " 'juniper',\n",
    " 'minty',\n",
    " 'pungent',\n",
    " 'elegant',\n",
    " 'grassy',\n",
    " 'baked',\n",
    " 'bubblegum',\n",
    " 'yeasty',\n",
    " 'belgian',\n",
    " 'tropical',\n",
    " 'clean',\n",
    " 'soft',\n",
    " 'effervescent',\n",
    " 'spritzy',\n",
    " 'sparkling',\n",
    " 'pinpoint',\n",
    " 'bubbly',\n",
    " 'gentle',\n",
    " 'carbonation',\n",
    " 'full',\n",
    " 'light',\n",
    " 'slick',\n",
    " 'heavy',\n",
    " 'dry',\n",
    " 'thick',\n",
    " 'thin',\n",
    " 'country_Argentina',\n",
    " 'country_Armenia',\n",
    " 'country_Australia',\n",
    " 'country_Austria',\n",
    " 'country_Belgium',\n",
    " 'country_Bosnia and Herzegovina',\n",
    " 'country_Brazil',\n",
    " 'country_Bulgaria',\n",
    " 'country_Canada',\n",
    " 'country_Cayman Islands',\n",
    " 'country_China',\n",
    " 'country_Colombia',\n",
    " 'country_Costa Rica',\n",
    " 'country_Czechia',\n",
    " 'country_Denmark',\n",
    " 'country_Ethiopia',\n",
    " 'country_Finland',\n",
    " 'country_France',\n",
    " 'country_Funatsu',\n",
    " 'country_Georgia',\n",
    " 'country_Germany',\n",
    " 'country_Greece',\n",
    " 'country_Hong Kong',\n",
    " 'country_India',\n",
    " 'country_Indian Ocean',\n",
    " 'country_Indonesia',\n",
    " 'country_Ireland',\n",
    " 'country_Israel',\n",
    " 'country_Italy',\n",
    " 'country_Jammu and Kashmir',\n",
    " 'country_Japan',\n",
    " 'country_Kenya',\n",
    " 'country_Latvia',\n",
    " 'country_Lebanon',\n",
    " 'country_Liechtenstein',\n",
    " 'country_Lithuania',\n",
    " 'country_Luxembourg',\n",
    " 'country_Madagascar',\n",
    " 'country_Maihama',\n",
    " 'country_Malaysia',\n",
    " 'country_Mexico',\n",
    " 'country_Monaco',\n",
    " 'country_Myanmar',\n",
    " 'country_Netherlands',\n",
    " 'country_New Zealand',\n",
    " 'country_Nigeria',\n",
    " 'country_North Macedonia',\n",
    " 'country_Norway',\n",
    " 'country_Palestine',\n",
    " 'country_Poland',\n",
    " 'country_Portugal',\n",
    " 'country_Puerto Rico',\n",
    " 'country_Romania',\n",
    " 'country_Russia',\n",
    " 'country_Singapore',\n",
    " 'country_Slovakia',\n",
    " 'country_South Africa',\n",
    " 'country_Spain',\n",
    " 'country_Sri Lanka',\n",
    " 'country_St Lucia',\n",
    " 'country_Suriname',\n",
    " 'country_Sweden',\n",
    " 'country_Switzerland',\n",
    " 'country_Tagus',\n",
    " 'country_Tanzania',\n",
    " 'country_The Bahamas',\n",
    " 'country_Trinidad and Tobago',\n",
    " 'country_Turks and Caicos Islands',\n",
    " 'country_UK',\n",
    " 'country_USA',\n",
    " 'country_USVI',\n",
    " 'country_Ukraine',\n",
    " 'country_United States']]"
   ]
  },
  {
   "cell_type": "code",
   "execution_count": 7,
   "metadata": {},
   "outputs": [],
   "source": [
    "X_train, X_test, y_train, y_test = train_test_split(X, y, random_state=11)"
   ]
  },
  {
   "cell_type": "code",
   "execution_count": 8,
   "metadata": {},
   "outputs": [],
   "source": [
    "model_1st = RandomForestClassifier(n_estimators = 100, n_jobs=17)"
   ]
  },
  {
   "cell_type": "code",
   "execution_count": 9,
   "metadata": {},
   "outputs": [],
   "source": [
    "model_1st = model_1st.fit(X_train, y_train)"
   ]
  },
  {
   "cell_type": "code",
   "execution_count": 10,
   "metadata": {},
   "outputs": [
    {
     "name": "stdout",
     "output_type": "stream",
     "text": [
      "F1 Score Train: 1.0000\n",
      "F1 Score Test: 0.6504\n"
     ]
    }
   ],
   "source": [
    "print(f\"F1 Score Train: {model_1st.score(X_train, y_train):.4f}\")\n",
    "print(f\"F1 Score Test: {model_1st.score(X_test, y_test):.4f}\")"
   ]
  },
  {
   "cell_type": "code",
   "execution_count": 11,
   "metadata": {},
   "outputs": [],
   "source": [
    "ft_names = X.columns"
   ]
  },
  {
   "cell_type": "code",
   "execution_count": 12,
   "metadata": {},
   "outputs": [],
   "source": [
    "import_features = pd.Series(model_1st.feature_importances_, index = ft_names).sort_values(ascending=False)"
   ]
  },
  {
   "cell_type": "code",
   "execution_count": 13,
   "metadata": {},
   "outputs": [
    {
     "data": {
      "text/plain": [
       "carbonation    0.044942\n",
       "sweet          0.034408\n",
       "light          0.030199\n",
       "thin           0.026689\n",
       "white          0.025462\n",
       "smooth         0.024864\n",
       "thick          0.021623\n",
       "balanced       0.019267\n",
       "dry            0.018303\n",
       "clear          0.018158\n",
       "earthy         0.016141\n",
       "mild           0.015901\n",
       "caramel        0.015774\n",
       "creamy         0.015716\n",
       "bitter         0.014521\n",
       "orange         0.013666\n",
       "bread          0.012980\n",
       "alcohol        0.011734\n",
       "heavy          0.011587\n",
       "hazy           0.011382\n",
       "fruity         0.011374\n",
       "deep           0.010812\n",
       "full           0.010763\n",
       "tan            0.010173\n",
       "rich           0.009774\n",
       "floral         0.009414\n",
       "complex        0.009310\n",
       "clean          0.009176\n",
       "bready         0.009091\n",
       "subtle         0.008731\n",
       "chocolate      0.008700\n",
       "lingering      0.008683\n",
       "herbal         0.008677\n",
       "copper         0.008559\n",
       "spicy          0.008310\n",
       "apple          0.008073\n",
       "fresh          0.007705\n",
       "roasted        0.007674\n",
       "toffee         0.007539\n",
       "black          0.007472\n",
       "cloudy         0.007118\n",
       "pine           0.007016\n",
       "tart           0.006930\n",
       "vanilla        0.006904\n",
       "honey          0.006817\n",
       "soft           0.006795\n",
       "lemon          0.006499\n",
       "grassy         0.006433\n",
       "fluffy         0.006358\n",
       "burnt          0.006135\n",
       "dtype: float64"
      ]
     },
     "execution_count": 13,
     "metadata": {},
     "output_type": "execute_result"
    }
   ],
   "source": [
    "import_features.head(50)"
   ]
  },
  {
   "cell_type": "code",
   "execution_count": 30,
   "metadata": {},
   "outputs": [],
   "source": [
    "n_features = []\n",
    "\n",
    "for i in range(25,60,5):\n",
    "    n_features.append(i)\n",
    "\n",
    "# define grid search\n",
    "param_grid = {'max_features': n_features, \n",
    "              'n_estimators': [200, 250, 300],\n",
    "              'max_depth': [20, 25, 30]\n",
    "             }\n"
   ]
  },
  {
   "cell_type": "code",
   "execution_count": 31,
   "metadata": {},
   "outputs": [],
   "source": []
  },
  {
   "cell_type": "code",
   "execution_count": 32,
   "metadata": {},
   "outputs": [],
   "source": [
    "model = RandomForestClassifier()"
   ]
  },
  {
   "cell_type": "code",
   "execution_count": 33,
   "metadata": {},
   "outputs": [],
   "source": [
    "grid = GridSearchCV(model, param_grid, n_jobs = -1, verbose = 3)"
   ]
  },
  {
   "cell_type": "code",
   "execution_count": 34,
   "metadata": {},
   "outputs": [
    {
     "data": {
      "text/plain": [
       "{'cv': None,\n",
       " 'error_score': nan,\n",
       " 'estimator__bootstrap': True,\n",
       " 'estimator__ccp_alpha': 0.0,\n",
       " 'estimator__class_weight': None,\n",
       " 'estimator__criterion': 'gini',\n",
       " 'estimator__max_depth': None,\n",
       " 'estimator__max_features': 'auto',\n",
       " 'estimator__max_leaf_nodes': None,\n",
       " 'estimator__max_samples': None,\n",
       " 'estimator__min_impurity_decrease': 0.0,\n",
       " 'estimator__min_impurity_split': None,\n",
       " 'estimator__min_samples_leaf': 1,\n",
       " 'estimator__min_samples_split': 2,\n",
       " 'estimator__min_weight_fraction_leaf': 0.0,\n",
       " 'estimator__n_estimators': 100,\n",
       " 'estimator__n_jobs': None,\n",
       " 'estimator__oob_score': False,\n",
       " 'estimator__random_state': None,\n",
       " 'estimator__verbose': 0,\n",
       " 'estimator__warm_start': False,\n",
       " 'estimator': RandomForestClassifier(),\n",
       " 'iid': 'deprecated',\n",
       " 'n_jobs': -1,\n",
       " 'param_grid': {'max_features': [25, 30, 35, 40, 45, 50, 55],\n",
       "  'n_estimators': [200, 250, 300],\n",
       "  'max_depth': [20, 25, 30]},\n",
       " 'pre_dispatch': '2*n_jobs',\n",
       " 'refit': True,\n",
       " 'return_train_score': False,\n",
       " 'scoring': None,\n",
       " 'verbose': 3}"
      ]
     },
     "execution_count": 34,
     "metadata": {},
     "output_type": "execute_result"
    }
   ],
   "source": [
    "grid.get_params(deep=True)"
   ]
  },
  {
   "cell_type": "code",
   "execution_count": 35,
   "metadata": {},
   "outputs": [
    {
     "name": "stdout",
     "output_type": "stream",
     "text": [
      "Fitting 5 folds for each of 63 candidates, totalling 315 fits\n"
     ]
    },
    {
     "name": "stderr",
     "output_type": "stream",
     "text": [
      "/opt/anaconda3/envs/PythonAdvanced/lib/python3.6/site-packages/sklearn/model_selection/_split.py:672: UserWarning: The least populated class in y has only 1 members, which is less than n_splits=5.\n",
      "  % (min_groups, self.n_splits)), UserWarning)\n",
      "[Parallel(n_jobs=-1)]: Using backend LokyBackend with 16 concurrent workers.\n",
      "[Parallel(n_jobs=-1)]: Done  96 tasks      | elapsed:  2.0min\n",
      "[Parallel(n_jobs=-1)]: Done 256 tasks      | elapsed:  5.4min\n",
      "[Parallel(n_jobs=-1)]: Done 315 out of 315 | elapsed:  6.9min finished\n"
     ]
    },
    {
     "data": {
      "text/plain": [
       "GridSearchCV(estimator=RandomForestClassifier(), n_jobs=-1,\n",
       "             param_grid={'max_depth': [20, 25, 30],\n",
       "                         'max_features': [25, 30, 35, 40, 45, 50, 55],\n",
       "                         'n_estimators': [200, 250, 300]},\n",
       "             verbose=3)"
      ]
     },
     "execution_count": 35,
     "metadata": {},
     "output_type": "execute_result"
    }
   ],
   "source": [
    "grid.fit(X_train, y_train)"
   ]
  },
  {
   "cell_type": "code",
   "execution_count": 36,
   "metadata": {},
   "outputs": [
    {
     "name": "stdout",
     "output_type": "stream",
     "text": [
      "{'max_depth': 30, 'max_features': 45, 'n_estimators': 300}\n",
      "0.6632775680391833\n",
      "RandomForestClassifier(max_depth=30, max_features=45, n_estimators=300)\n"
     ]
    }
   ],
   "source": [
    "print(grid.best_params_)\n",
    "print(grid.best_score_)\n",
    "print(grid.best_estimator_)"
   ]
  },
  {
   "cell_type": "code",
   "execution_count": 37,
   "metadata": {},
   "outputs": [],
   "source": [
    "model = RandomForestClassifier(max_depth=30, max_features=45, n_estimators=300)"
   ]
  },
  {
   "cell_type": "code",
   "execution_count": 38,
   "metadata": {},
   "outputs": [],
   "source": [
    "model = model.fit(X_train, y_train)"
   ]
  },
  {
   "cell_type": "code",
   "execution_count": 39,
   "metadata": {},
   "outputs": [
    {
     "data": {
      "text/plain": [
       "carbonation    0.081385\n",
       "light          0.048877\n",
       "sweet          0.044254\n",
       "smooth         0.032106\n",
       "white          0.031617\n",
       "thin           0.028573\n",
       "thick          0.023822\n",
       "dry            0.019828\n",
       "mild           0.016040\n",
       "caramel        0.015033\n",
       "bitter         0.014039\n",
       "clear          0.012850\n",
       "creamy         0.012814\n",
       "bread          0.012058\n",
       "balanced       0.011982\n",
       "orange         0.011481\n",
       "full           0.011049\n",
       "tan            0.010666\n",
       "deep           0.009652\n",
       "earthy         0.009428\n",
       "alcohol        0.009154\n",
       "hazy           0.009149\n",
       "floral         0.008812\n",
       "bready         0.008681\n",
       "fruity         0.008599\n",
       "rich           0.008587\n",
       "heavy          0.008343\n",
       "clean          0.008115\n",
       "copper         0.007784\n",
       "pine           0.007525\n",
       "spicy          0.007455\n",
       "black          0.007359\n",
       "herbal         0.007296\n",
       "complex        0.007247\n",
       "subtle         0.007151\n",
       "roasted        0.007106\n",
       "chocolate      0.007043\n",
       "fresh          0.007003\n",
       "toffee         0.006969\n",
       "lingering      0.006944\n",
       "cloudy         0.006776\n",
       "tart           0.006640\n",
       "lemon          0.006593\n",
       "honey          0.006474\n",
       "grassy         0.006161\n",
       "soft           0.006062\n",
       "vanilla        0.006008\n",
       "apple          0.005972\n",
       "molasses       0.005769\n",
       "frothy         0.005648\n",
       "dtype: float64"
      ]
     },
     "execution_count": 39,
     "metadata": {},
     "output_type": "execute_result"
    }
   ],
   "source": [
    "import_features = pd.Series(model.feature_importances_, index = ft_names).sort_values(ascending=False)\n",
    "import_features.head(50)"
   ]
  },
  {
   "cell_type": "code",
   "execution_count": null,
   "metadata": {},
   "outputs": [],
   "source": []
  }
 ],
 "metadata": {
  "kernelspec": {
   "display_name": "Python [conda env:PythonAdvanced]",
   "language": "python",
   "name": "conda-env-PythonAdvanced-py"
  },
  "language_info": {
   "codemirror_mode": {
    "name": "ipython",
    "version": 3
   },
   "file_extension": ".py",
   "mimetype": "text/x-python",
   "name": "python",
   "nbconvert_exporter": "python",
   "pygments_lexer": "ipython3",
   "version": "3.6.10"
  }
 },
 "nbformat": 4,
 "nbformat_minor": 4
}
