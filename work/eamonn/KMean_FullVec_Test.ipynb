{
 "cells": [
  {
   "cell_type": "code",
   "execution_count": 1,
   "metadata": {},
   "outputs": [],
   "source": [
    "import pandas as pd\n",
    "import numpy as np\n",
    "from sklearn.cluster import KMeans\n",
    "from sklearn.preprocessing import StandardScaler\n",
    "from sklearn.model_selection import train_test_split\n",
    "from sklearn.metrics import silhouette_score\n",
    "from sklearn_pandas import DataFrameMapper\n",
    "from sklearn import metrics \n",
    "from scipy.spatial.distance import cdist \n",
    "import joblib\n",
    "from collections import Counter\n",
    "from yellowbrick.cluster import SilhouetteVisualizer\n",
    "\n",
    "%matplotlib inline\n",
    "import matplotlib.pyplot as plt"
   ]
  },
  {
   "cell_type": "code",
   "execution_count": 2,
   "metadata": {},
   "outputs": [],
   "source": [
    "# import main csv \n",
    "beer_csv = pd.read_csv(\"/Users/eamonnmccallum/Monash-DS/groupwork/pp/PredictivePandas/PredictivePandas/data/final_beerdata_binary.gz\", compression=\"gzip\")"
   ]
  },
  {
   "cell_type": "code",
   "execution_count": 3,
   "metadata": {},
   "outputs": [],
   "source": [
    "# import alternaive csv to all for Dense Vector analysis \n",
    "taste = pd.read_csv(\"taste_vector.csv\")\n",
    "taste.rename(columns = {'beer_beerid': 'beer_id'}, inplace=True)"
   ]
  },
  {
   "cell_type": "code",
   "execution_count": 4,
   "metadata": {},
   "outputs": [],
   "source": [
    "beer_new = pd.merge(beer_csv, taste, on=\"beer_id\", how=\"left\")"
   ]
  },
  {
   "cell_type": "code",
   "execution_count": 5,
   "metadata": {},
   "outputs": [],
   "source": [
    "# Columns needed for Flavor Vector\n",
    "cols2 = [\n",
    "'grainy',\n",
    " 'sweet',\n",
    " 'hay',\n",
    " 'straw',\n",
    " 'cracker',\n",
    " 'bicuity',\n",
    " 'caramel',\n",
    " 'toast',\n",
    " 'roast',\n",
    " 'coffee',\n",
    " 'espresso',\n",
    " 'burnt',\n",
    " 'alcohol',\n",
    " 'tobacco',\n",
    " 'gunpowder',\n",
    " 'leather',\n",
    " 'pine',\n",
    " 'grass',\n",
    " 'raisins',\n",
    " 'currant',\n",
    " 'plum',\n",
    " 'dates',\n",
    " 'prunes',\n",
    " 'figs',\n",
    " 'blackberry',\n",
    " 'blueberry',\n",
    " 'banana',\n",
    " 'pineapple',\n",
    " 'apricot',\n",
    " 'pear',\n",
    " 'apple',\n",
    " 'nectarine',\n",
    " 'peach',\n",
    " 'mango',\n",
    " 'lemon',\n",
    " 'lime',\n",
    " 'orange',\n",
    " 'tangerine',\n",
    " 'clementine',\n",
    " 'grapefruit',\n",
    " 'zest',\n",
    " 'metallic',\n",
    " 'vinegar',\n",
    " 'copper',\n",
    " 'cidery',\n",
    " 'astringent',\n",
    " 'chlorine',\n",
    " 'phenolic',\n",
    " 'pepper',\n",
    " 'clove',\n",
    " 'anise',\n",
    " 'licorice',\n",
    " 'bacon',\n",
    " 'fatty',\n",
    " 'nutty',\n",
    " 'butterscotch',\n",
    " 'vanilla',\n",
    " 'earthy',\n",
    " 'woody',\n",
    " 'bread',\n",
    " 'saddle',\n",
    " 'musty',\n",
    " 'barnyard',\n",
    " 'honey',\n",
    " 'chestnut',\n",
    " 'black',\n",
    " 'garnet',\n",
    " 'ruby',\n",
    " 'brilliant',\n",
    " 'hazy',\n",
    " 'cloudy',\n",
    " 'turbid',\n",
    " 'opaque',\n",
    " 'clear',\n",
    " 'crystal',\n",
    " 'bright',\n",
    " 'dull',\n",
    " 'persistent',\n",
    " 'rocky',\n",
    " 'large',\n",
    " 'fluffy',\n",
    " 'dissipating',\n",
    " 'lingering',\n",
    " 'white',\n",
    " 'tan',\n",
    " 'frothy',\n",
    " 'delicate',\n",
    " 'roasted',\n",
    " 'bready',\n",
    " 'bitter',\n",
    " 'spicy',\n",
    " 'fruity',\n",
    " 'chocolate',\n",
    " 'toffee',\n",
    " 'tart',\n",
    " 'subtle',\n",
    " 'woodsy',\n",
    " 'sulfuric',\n",
    " 'assertive',\n",
    " 'mild',\n",
    " 'bold',\n",
    " 'balanced',\n",
    " 'robust',\n",
    " 'intense',\n",
    " 'harsh',\n",
    " 'complex',\n",
    " 'refined',\n",
    " 'hearty',\n",
    " 'smooth',\n",
    " 'silky',\n",
    " 'velvety',\n",
    " 'prickly',\n",
    " 'tingly',\n",
    " 'creamy',\n",
    " 'warming',\n",
    " 'viscous',\n",
    " 'oily',\n",
    " 'Malty',\n",
    " 'biscuity',\n",
    " 'breadlike',\n",
    " 'rich',\n",
    " 'deep',\n",
    " 'roasty',\n",
    " 'cereal',\n",
    " 'cookie',\n",
    " 'coffeeish',\n",
    " 'caramelly',\n",
    " 'molasses',\n",
    " 'complexity',\n",
    " 'smoky',\n",
    " 'autumnal',\n",
    " 'cream',\n",
    " 'milk',\n",
    " 'oatmeal',\n",
    " 'rustic',\n",
    " 'layered',\n",
    " 'piney',\n",
    " 'citrusy',\n",
    " 'grapefruity',\n",
    " 'sharp',\n",
    " 'fresh',\n",
    " 'herbal',\n",
    " 'zippy',\n",
    " 'lemony',\n",
    " 'aromatic',\n",
    " 'floral',\n",
    " 'springlike',\n",
    " 'sprucelike',\n",
    " 'juniper',\n",
    " 'minty',\n",
    " 'pungent',\n",
    " 'elegant',\n",
    " 'grassy',\n",
    " 'baked',\n",
    " 'bubblegum',\n",
    " 'yeasty',\n",
    " 'belgian',\n",
    " 'tropical',\n",
    " 'clean',\n",
    " 'soft',\n",
    " 'effervescent',\n",
    " 'spritzy',\n",
    " 'sparkling',\n",
    " 'pinpoint',\n",
    " 'bubbly',\n",
    " 'gentle',\n",
    " 'carbonation',\n",
    " 'full',\n",
    " 'light',\n",
    " 'slick',\n",
    " 'heavy',\n",
    " 'dry',\n",
    " 'thick',\n",
    " 'thin']"
   ]
  },
  {
   "cell_type": "code",
   "execution_count": 6,
   "metadata": {},
   "outputs": [],
   "source": [
    "# Columns needed for Scores vector\n",
    "cols1= ['beer_abv',\n",
    " 'numberof_reviews',\n",
    " 'review_overall',\n",
    " 'review_aroma',\n",
    " 'review_appearance',\n",
    " 'review_palate',\n",
    " 'review_taste', \n",
    " 'beer_style_ale',\n",
    " 'beer_style_barleywine',\n",
    " 'beer_style_bitter',\n",
    " 'beer_style_exotic',\n",
    " 'beer_style_ipa',\n",
    " 'beer_style_kölsch',\n",
    " 'beer_style_lager',\n",
    " 'beer_style_pilsener',\n",
    " 'beer_style_porter',\n",
    " 'beer_style_stout',\n",
    " 'beer_style_trappist',\n",
    " 'beer_strength_Full',\n",
    " 'beer_strength_Heavy',\n",
    " 'beer_strength_Light',\n",
    " 'beer_strength_Mid',\n",
    " 'beer_strength_Very Strong',\n",
    " 'country_Argentina',\n",
    " 'country_Armenia',\n",
    " 'country_Australia',\n",
    " 'country_Austria',\n",
    " 'country_Belgium',\n",
    " 'country_Bosnia and Herzegovina',\n",
    " 'country_Brazil',\n",
    " 'country_Bulgaria',\n",
    " 'country_Canada',\n",
    " 'country_Cayman Islands',\n",
    " 'country_China',\n",
    " 'country_Colombia',\n",
    " 'country_Costa Rica',\n",
    " 'country_Czechia',\n",
    " 'country_Denmark',\n",
    " 'country_Ethiopia',\n",
    " 'country_Finland',\n",
    " 'country_France',\n",
    " 'country_Funatsu',\n",
    " 'country_Georgia',\n",
    " 'country_Germany',\n",
    " 'country_Greece',\n",
    " 'country_Hong Kong',\n",
    " 'country_India',\n",
    " 'country_Indian Ocean',\n",
    " 'country_Indonesia',\n",
    " 'country_Ireland',\n",
    " 'country_Israel',\n",
    " 'country_Italy',\n",
    " 'country_Jammu and Kashmir',\n",
    " 'country_Japan',\n",
    " 'country_Kenya',\n",
    " 'country_Latvia',\n",
    " 'country_Lebanon',\n",
    " 'country_Liechtenstein',\n",
    " 'country_Lithuania',\n",
    " 'country_Luxembourg',\n",
    " 'country_Madagascar',\n",
    " 'country_Maihama',\n",
    " 'country_Malaysia',\n",
    " 'country_Mexico',\n",
    " 'country_Monaco',\n",
    " 'country_Myanmar',\n",
    " 'country_Netherlands',\n",
    " 'country_New Zealand',\n",
    " 'country_Nigeria',\n",
    " 'country_North Macedonia',\n",
    " 'country_Norway',\n",
    " 'country_Palestine',\n",
    " 'country_Poland',\n",
    " 'country_Portugal',\n",
    " 'country_Puerto Rico',\n",
    " 'country_Romania',\n",
    " 'country_Russia',\n",
    " 'country_Singapore',\n",
    " 'country_Slovakia',\n",
    " 'country_South Africa',\n",
    " 'country_Spain',\n",
    " 'country_Sri Lanka',\n",
    " 'country_St Lucia',\n",
    " 'country_Suriname',\n",
    " 'country_Sweden',\n",
    " 'country_Switzerland',\n",
    " 'country_Tagus',\n",
    " 'country_Tanzania',\n",
    " 'country_The Bahamas',\n",
    " 'country_Trinidad and Tobago',\n",
    " 'country_Turks and Caicos Islands',\n",
    " 'country_UK',\n",
    " 'country_USA',\n",
    " 'country_USVI',\n",
    " 'country_Ukraine',\n",
    " 'country_United States']"
   ]
  },
  {
   "cell_type": "code",
   "execution_count": 7,
   "metadata": {},
   "outputs": [],
   "source": [
    "#Scores to list for vector  \n",
    "sc_vec = []\n",
    "sc_vec = beer_new[cols1].values.tolist()"
   ]
  },
  {
   "cell_type": "code",
   "execution_count": 8,
   "metadata": {},
   "outputs": [],
   "source": [
    "#Flavor to List for Vector\n",
    "fl_vec = []\n",
    "fl_vec = beer_new[cols1].values.tolist()"
   ]
  },
  {
   "cell_type": "code",
   "execution_count": 9,
   "metadata": {},
   "outputs": [],
   "source": [
    "np_vector = np.hstack((sc_vec, fl_vec))"
   ]
  },
  {
   "cell_type": "code",
   "execution_count": 10,
   "metadata": {},
   "outputs": [],
   "source": [
    "dataset = np_vector"
   ]
  },
  {
   "cell_type": "code",
   "execution_count": 12,
   "metadata": {},
   "outputs": [
    {
     "name": "stdout",
     "output_type": "stream",
     "text": [
      "Silhouette Score 15: 0.670813663198368\n",
      "Silhouette Score 16: 0.6650012462495731\n",
      "Silhouette Score 17: 0.6747687169464242\n",
      "Silhouette Score 18: 0.641457131567677\n",
      "Silhouette Score 19: 0.6320269465266654\n",
      "Silhouette Score 20: 0.6409129502689771\n",
      "Silhouette Score 21: 0.5978456199260436\n",
      "Silhouette Score 22: 0.5774172595319564\n",
      "Silhouette Score 23: 0.560806021871178\n",
      "Silhouette Score 24: 0.5497618474910498\n",
      "Silhouette Score 25: 0.5637117834640997\n",
      "Silhouette Score 26: 0.5718779534222832\n",
      "Silhouette Score 27: 0.5607618684580529\n",
      "Silhouette Score 28: 0.5625899858493775\n",
      "Silhouette Score 29: 0.5488012322902126\n"
     ]
    }
   ],
   "source": [
    "i = range(15,31)\n",
    "for i in i:\n",
    "    KMean= KMeans(n_clusters=i, init='k-means++', n_init=100,max_iter=300, algorithm='auto')\n",
    "    KMean.fit(dataset)\n",
    "    beer_clusters=KMean.predict(dataset)\n",
    "    print(f\"Silhouette Score {(i)}: {silhouette_score(dataset, beer_clusters, metric='euclidean')}\")\n",
    "\n",
    "    "
   ]
  },
  {
   "cell_type": "code",
   "execution_count": 15,
   "metadata": {},
   "outputs": [],
   "source": [
    "distortions = [] \n",
    "inertias = [] \n",
    "mapping1 = {} \n",
    "mapping2 = {} \n",
    "N = range(15,31) \n",
    "  \n",
    "for n in N: \n",
    "    \n",
    "    kmeanModel = KMeans(n_clusters=n,init='k-means++', n_init=100,max_iter=300, algorithm='auto').fit(dataset) \n",
    "    kmeanModel.fit(dataset)     \n",
    "      \n",
    "    distortions.append(sum(np.min(cdist(dataset, kmeanModel.cluster_centers_, \n",
    "                      'euclidean'),axis=1)) / len(dataset))\n",
    "    inertias.append(kmeanModel.inertia_) \n",
    "  \n",
    "    mapping1[n] = sum(np.min(cdist(dataset, kmeanModel.cluster_centers_, \n",
    "                 'euclidean'),axis=1)) / len(dataset) \n",
    "    mapping2[n] = kmeanModel.inertia_ "
   ]
  },
  {
   "cell_type": "code",
   "execution_count": 16,
   "metadata": {},
   "outputs": [
    {
     "data": {
      "image/png": "[encoded data removed]",
      "text/plain": [
       "<Figure size 432x288 with 1 Axes>"
      ]
     },
     "metadata": {
      "needs_background": "light"
     },
     "output_type": "display_data"
    }
   ],
   "source": [
    "plt.plot(N, distortions, 'bx-') \n",
    "plt.xlabel('Clusters') \n",
    "plt.ylabel('Distortion') \n",
    "plt.title('The Elbow Method using Distortion') \n",
    "plt.show()"
   ]
  },
  {
   "cell_type": "code",
   "execution_count": 17,
   "metadata": {},
   "outputs": [
    {
     "data": {
      "image/png": "[encoded data removed]",
      "text/plain": [
       "<Figure size 432x288 with 1 Axes>"
      ]
     },
     "metadata": {
      "needs_background": "light"
     },
     "output_type": "display_data"
    }
   ],
   "source": [
    "plt.plot(N, inertias, 'bx-') \n",
    "plt.xlabel('Clusters') \n",
    "plt.ylabel('Inertia') \n",
    "plt.title('The Elbow Method using Inertia') \n",
    "plt.show()"
   ]
  },
  {
   "cell_type": "code",
   "execution_count": 20,
   "metadata": {},
   "outputs": [
    {
     "data": {
      "text/plain": [
       "KMeans(n_clusters=22, n_init=100)"
      ]
     },
     "execution_count": 20,
     "metadata": {},
     "output_type": "execute_result"
    }
   ],
   "source": [
    "# Model @ 22 Clusters \n",
    "kmeanModel = KMeans(n_clusters=22,init='k-means++', n_init=100,max_iter=300, algorithm='auto').fit(dataset) \n",
    "kmeanModel.fit(dataset) "
   ]
  },
  {
   "cell_type": "code",
   "execution_count": 21,
   "metadata": {},
   "outputs": [
    {
     "data": {
      "text/plain": [
       "Counter({1: 33,\n",
       "         8: 993,\n",
       "         21: 7750,\n",
       "         11: 126,\n",
       "         7: 59,\n",
       "         4: 81,\n",
       "         18: 190,\n",
       "         13: 272,\n",
       "         20: 59,\n",
       "         16: 49,\n",
       "         2: 141,\n",
       "         17: 398,\n",
       "         9: 213,\n",
       "         0: 2132,\n",
       "         5: 584,\n",
       "         12: 81,\n",
       "         6: 17,\n",
       "         3: 14,\n",
       "         10: 31,\n",
       "         19: 16,\n",
       "         14: 3,\n",
       "         15: 4})"
      ]
     },
     "execution_count": 21,
     "metadata": {},
     "output_type": "execute_result"
    }
   ],
   "source": [
    "# Cluster Distribution \n",
    "Counter(kmeanModel.labels_)"
   ]
  },
  {
   "cell_type": "code",
   "execution_count": null,
   "metadata": {},
   "outputs": [],
   "source": []
  },
  {
   "cell_type": "code",
   "execution_count": null,
   "metadata": {},
   "outputs": [],
   "source": []
  }
 ],
 "metadata": {
  "kernelspec": {
   "display_name": "Python [conda env:PythonAdvanced]",
   "language": "python",
   "name": "conda-env-PythonAdvanced-py"
  },
  "language_info": {
   "codemirror_mode": {
    "name": "ipython",
    "version": 3
   },
   "file_extension": ".py",
   "mimetype": "text/x-python",
   "name": "python",
   "nbconvert_exporter": "python",
   "pygments_lexer": "ipython3",
   "version": "3.6.10"
  }
 },
 "nbformat": 4,
 "nbformat_minor": 4
}
