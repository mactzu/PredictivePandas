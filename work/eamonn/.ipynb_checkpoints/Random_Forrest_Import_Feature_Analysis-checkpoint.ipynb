{
 "cells": [
  {
   "cell_type": "markdown",
   "metadata": {},
   "source": [
    "### Notebook used to extract important Features to assist with making user input easier.\n",
    "### We Ultimately used another approach and this was not used"
   ]
  },
  {
   "cell_type": "code",
   "execution_count": 1,
   "metadata": {},
   "outputs": [],
   "source": [
    "from sklearn import tree, preprocessing\n",
    "import pandas as pd\n",
    "import numpy as np\n",
    "import os\n",
    "from sklearn.model_selection import train_test_split, GridSearchCV\n",
    "from sklearn.ensemble import RandomForestClassifier\n",
    "import matplotlib.pyplot as plt\n",
    "import seaborn as sns"
   ]
  },
  {
   "cell_type": "code",
   "execution_count": 2,
   "metadata": {},
   "outputs": [],
   "source": [
    "beer_csv = pd.read_csv(\"beerlist_w_Kmean.csv\")"
   ]
  },
  {
   "cell_type": "code",
   "execution_count": 3,
   "metadata": {},
   "outputs": [],
   "source": [
    "beer_raw_csv = pd.read_csv(\"/Users/eamonnmccallum/Monash-DS/groupwork/pp/PredictivePandas/PredictivePandas/data/final_beerdata.csv\")\n",
    "beer_country = beer_raw_csv[[\"beer_id\" , \"country\"]]"
   ]
  },
  {
   "cell_type": "code",
   "execution_count": 4,
   "metadata": {},
   "outputs": [],
   "source": [
    "beer_csv_short  = pd.merge(beer_csv, beer_country, on=\"beer_id\", how=\"left\")"
   ]
  },
  {
   "cell_type": "code",
   "execution_count": 5,
   "metadata": {},
   "outputs": [
    {
     "data": {
      "text/plain": [
       "LabelEncoder()"
      ]
     },
     "execution_count": 5,
     "metadata": {},
     "output_type": "execute_result"
    }
   ],
   "source": [
    "label_encoder = preprocessing.LabelEncoder()\n",
    "label_encoder.fit(beer_csv_short[\"country\"])\n"
   ]
  },
  {
   "cell_type": "code",
   "execution_count": 6,
   "metadata": {},
   "outputs": [],
   "source": [
    "#encoded_country = label_encoder.transform(beer_csv_short[\"country\"])\n",
    "#encoded_country"
   ]
  },
  {
   "cell_type": "code",
   "execution_count": 7,
   "metadata": {},
   "outputs": [],
   "source": [
    "beer_csv_short[\"encoded country\"] =  label_encoder.transform(beer_csv_short[\"country\"])"
   ]
  },
  {
   "cell_type": "code",
   "execution_count": 8,
   "metadata": {},
   "outputs": [],
   "source": [
    "beer_csv_short = beer_csv_short.loc[(beer_csv_short[\"review_overall\"] > 3.5)& (beer_csv_short[\"review_aroma\"] > 3.5) &\\\n",
    "                             (beer_csv_short[\"review_appearance\"] > 3.5)& (beer_csv_short[\"review_palate\"] > 3.5)&\\\n",
    "                             (beer_csv_short[\"review_taste\"] > 3.5)]\n",
    "\n"
   ]
  },
  {
   "cell_type": "code",
   "execution_count": 9,
   "metadata": {},
   "outputs": [
    {
     "data": {
      "text/plain": [
       "Index(['brewery_id', 'brewery_name', 'beer_id', 'beer_name', 'address',\n",
       "       'beer_abv', 'numberof_reviews', 'review_overall', 'review_aroma',\n",
       "       'review_appearance',\n",
       "       ...\n",
       "       'country_Trinidad and Tobago', 'country_Turks and Caicos Islands',\n",
       "       'country_UK', 'country_USA', 'country_USVI', 'country_Ukraine',\n",
       "       'country_United States', 'Kmeans Cluster', 'country',\n",
       "       'encoded country'],\n",
       "      dtype='object', length=284)"
      ]
     },
     "execution_count": 9,
     "metadata": {},
     "output_type": "execute_result"
    }
   ],
   "source": [
    "beer_csv_short.columns"
   ]
  },
  {
   "cell_type": "code",
   "execution_count": 10,
   "metadata": {},
   "outputs": [],
   "source": [
    "y = beer_csv_short[\"Kmeans Cluster\"]"
   ]
  },
  {
   "cell_type": "code",
   "execution_count": 12,
   "metadata": {},
   "outputs": [],
   "source": [
    "X = beer_csv_short[['encoded country',\n",
    "'grainy',\n",
    " 'sweet',\n",
    " 'hay',\n",
    " 'straw',\n",
    " 'cracker',\n",
    " 'bicuity',\n",
    " 'caramel',\n",
    " 'toast',\n",
    " 'roast',\n",
    " 'coffee',\n",
    " 'espresso',\n",
    " 'burnt',\n",
    " 'alcohol',\n",
    " 'tobacco',\n",
    " 'gunpowder',\n",
    " 'leather',\n",
    " 'pine',\n",
    " 'grass',\n",
    " 'raisins',\n",
    " 'currant',\n",
    " 'plum',\n",
    " 'dates',\n",
    " 'prunes',\n",
    " 'figs',\n",
    " 'blackberry',\n",
    " 'blueberry',\n",
    " 'banana',\n",
    " 'pineapple',\n",
    " 'apricot',\n",
    " 'pear',\n",
    " 'apple',\n",
    " 'nectarine',\n",
    " 'peach',\n",
    " 'mango',\n",
    " 'lemon',\n",
    " 'lime',\n",
    " 'orange',\n",
    " 'tangerine',\n",
    " 'clementine',\n",
    " 'grapefruit',\n",
    " 'zest',\n",
    " 'metallic',\n",
    " 'vinegar',\n",
    " 'copper',\n",
    " 'cidery',\n",
    " 'astringent',\n",
    " 'chlorine',\n",
    " 'phenolic',\n",
    " 'pepper',\n",
    " 'clove',\n",
    " 'anise',\n",
    " 'licorice',\n",
    " 'bacon',\n",
    " 'fatty',\n",
    " 'nutty',\n",
    " 'butterscotch',\n",
    " 'vanilla',\n",
    " 'earthy',\n",
    " 'woody',\n",
    " 'bread',\n",
    " 'saddle',\n",
    " 'musty',\n",
    " 'barnyard',\n",
    " 'honey',\n",
    " 'chestnut',\n",
    " 'black',\n",
    " 'garnet',\n",
    " 'ruby',\n",
    " 'brilliant',\n",
    " 'hazy',\n",
    " 'cloudy',\n",
    " 'turbid',\n",
    " 'opaque',\n",
    " 'clear',\n",
    " 'crystal',\n",
    " 'bright',\n",
    " 'dull',\n",
    " 'persistent',\n",
    " 'rocky',\n",
    " 'large',\n",
    " 'fluffy',\n",
    " 'dissipating',\n",
    " 'lingering',\n",
    " 'white',\n",
    " 'tan',\n",
    " 'frothy',\n",
    " 'delicate',\n",
    " 'roasted',\n",
    " 'bready',\n",
    " 'bitter',\n",
    " 'spicy',\n",
    " 'fruity',\n",
    " 'chocolate',\n",
    " 'toffee',\n",
    " 'tart',\n",
    " 'subtle',\n",
    " 'woodsy',\n",
    " 'sulfuric',\n",
    " 'assertive',\n",
    " 'mild',\n",
    " 'bold',\n",
    " 'balanced',\n",
    " 'robust',\n",
    " 'intense',\n",
    " 'harsh',\n",
    " 'complex',\n",
    " 'refined',\n",
    " 'hearty',\n",
    " 'smooth',\n",
    " 'silky',\n",
    " 'velvety',\n",
    " 'prickly',\n",
    " 'tingly',\n",
    " 'creamy',\n",
    " 'warming',\n",
    " 'viscous',\n",
    " 'oily',\n",
    " 'Malty',\n",
    " 'biscuity',\n",
    " 'breadlike',\n",
    " 'rich',\n",
    " 'deep',\n",
    " 'roasty',\n",
    " 'cereal',\n",
    " 'cookie',\n",
    " 'coffeeish',\n",
    " 'caramelly',\n",
    " 'molasses',\n",
    " 'complexity',\n",
    " 'smoky',\n",
    " 'autumnal',\n",
    " 'cream',\n",
    " 'milk',\n",
    " 'oatmeal',\n",
    " 'rustic',\n",
    " 'layered',\n",
    " 'piney',\n",
    " 'citrusy',\n",
    " 'grapefruity',\n",
    " 'sharp',\n",
    " 'fresh',\n",
    " 'herbal',\n",
    " 'zippy',\n",
    " 'lemony',\n",
    " 'aromatic',\n",
    " 'floral',\n",
    " 'springlike',\n",
    " 'sprucelike',\n",
    " 'juniper',\n",
    " 'minty',\n",
    " 'pungent',\n",
    " 'elegant',\n",
    " 'grassy',\n",
    " 'baked',\n",
    " 'bubblegum',\n",
    " 'yeasty',\n",
    " 'belgian',\n",
    " 'tropical',\n",
    " 'clean',\n",
    " 'soft',\n",
    " 'effervescent',\n",
    " 'spritzy',\n",
    " 'sparkling',\n",
    " 'pinpoint',\n",
    " 'bubbly',\n",
    " 'gentle',\n",
    " 'carbonation',\n",
    " 'full',\n",
    " 'light',\n",
    " 'slick',\n",
    " 'heavy',\n",
    " 'dry',\n",
    " 'thick',\n",
    " 'thin',\n",
    " ]]"
   ]
  },
  {
   "cell_type": "code",
   "execution_count": 13,
   "metadata": {},
   "outputs": [],
   "source": [
    "X_train, X_test, y_train, y_test = train_test_split(X, y, random_state=11)"
   ]
  },
  {
   "cell_type": "code",
   "execution_count": 14,
   "metadata": {},
   "outputs": [],
   "source": [
    "model_1st = RandomForestClassifier(n_estimators = 100, n_jobs=17)"
   ]
  },
  {
   "cell_type": "code",
   "execution_count": 15,
   "metadata": {},
   "outputs": [],
   "source": [
    "model_1st = model_1st.fit(X_train, y_train)"
   ]
  },
  {
   "cell_type": "code",
   "execution_count": 16,
   "metadata": {},
   "outputs": [
    {
     "name": "stdout",
     "output_type": "stream",
     "text": [
      "F1 Score Train: 1.0000\n",
      "F1 Score Test: 0.5397\n"
     ]
    }
   ],
   "source": [
    "print(f\"F1 Score Train: {model_1st.score(X_train, y_train):.4f}\")\n",
    "print(f\"F1 Score Test: {model_1st.score(X_test, y_test):.4f}\")"
   ]
  },
  {
   "cell_type": "code",
   "execution_count": 17,
   "metadata": {},
   "outputs": [],
   "source": [
    "ft_names = X.columns"
   ]
  },
  {
   "cell_type": "code",
   "execution_count": 18,
   "metadata": {},
   "outputs": [],
   "source": [
    "import_features = pd.Series(model_1st.feature_importances_, index = ft_names).sort_values(ascending=False)"
   ]
  },
  {
   "cell_type": "code",
   "execution_count": 19,
   "metadata": {},
   "outputs": [
    {
     "data": {
      "text/plain": [
       "carbonation    0.047422\n",
       "light          0.035677\n",
       "sweet          0.033614\n",
       "thick          0.020563\n",
       "thin           0.020379\n",
       "dry            0.020024\n",
       "smooth         0.019904\n",
       "white          0.019840\n",
       "caramel        0.018264\n",
       "creamy         0.016528\n",
       "mild           0.015192\n",
       "bitter         0.014909\n",
       "deep           0.014015\n",
       "bread          0.013897\n",
       "balanced       0.013692\n",
       "clear          0.013128\n",
       "earthy         0.012309\n",
       "tan            0.011914\n",
       "full           0.011752\n",
       "alcohol        0.010986\n",
       "orange         0.010896\n",
       "rich           0.010874\n",
       "heavy          0.010787\n",
       "fruity         0.010618\n",
       "subtle         0.009895\n",
       "hazy           0.009516\n",
       "lingering      0.009399\n",
       "fresh          0.009370\n",
       "complex        0.009171\n",
       "bready         0.008758\n",
       "floral         0.008468\n",
       "toffee         0.008420\n",
       "spicy          0.008041\n",
       "cloudy         0.008011\n",
       "copper         0.007901\n",
       "clean          0.007827\n",
       "roasted        0.007774\n",
       "black          0.007735\n",
       "soft           0.007713\n",
       "chocolate      0.007695\n",
       "herbal         0.007683\n",
       "pine           0.007578\n",
       "lemon          0.007424\n",
       "vanilla        0.007308\n",
       "apple          0.007075\n",
       "fluffy         0.006778\n",
       "honey          0.006754\n",
       "molasses       0.006750\n",
       "frothy         0.006628\n",
       "complexity     0.006523\n",
       "dtype: float64"
      ]
     },
     "execution_count": 19,
     "metadata": {},
     "output_type": "execute_result"
    }
   ],
   "source": [
    "import_features.head(50)"
   ]
  },
  {
   "cell_type": "code",
   "execution_count": 24,
   "metadata": {},
   "outputs": [],
   "source": [
    "n_features = []\n",
    "\n",
    "for i in range(25,80,5):\n",
    "    n_features.append(i)\n",
    "\n",
    "# define grid search\n",
    "param_grid = {'max_features': n_features, \n",
    "              'n_estimators': [200, 250, 300, 350,500],\n",
    "              'max_depth': [20, 25, 30, 35 ,40 ,45]\n",
    "             }\n"
   ]
  },
  {
   "cell_type": "code",
   "execution_count": null,
   "metadata": {},
   "outputs": [],
   "source": []
  },
  {
   "cell_type": "code",
   "execution_count": 25,
   "metadata": {},
   "outputs": [],
   "source": [
    "model = RandomForestClassifier()"
   ]
  },
  {
   "cell_type": "code",
   "execution_count": 26,
   "metadata": {},
   "outputs": [],
   "source": [
    "grid = GridSearchCV(model, param_grid, n_jobs = -1, verbose = 2)"
   ]
  },
  {
   "cell_type": "code",
   "execution_count": 27,
   "metadata": {},
   "outputs": [
    {
     "data": {
      "text/plain": [
       "{'cv': None,\n",
       " 'error_score': nan,\n",
       " 'estimator__bootstrap': True,\n",
       " 'estimator__ccp_alpha': 0.0,\n",
       " 'estimator__class_weight': None,\n",
       " 'estimator__criterion': 'gini',\n",
       " 'estimator__max_depth': None,\n",
       " 'estimator__max_features': 'auto',\n",
       " 'estimator__max_leaf_nodes': None,\n",
       " 'estimator__max_samples': None,\n",
       " 'estimator__min_impurity_decrease': 0.0,\n",
       " 'estimator__min_impurity_split': None,\n",
       " 'estimator__min_samples_leaf': 1,\n",
       " 'estimator__min_samples_split': 2,\n",
       " 'estimator__min_weight_fraction_leaf': 0.0,\n",
       " 'estimator__n_estimators': 100,\n",
       " 'estimator__n_jobs': None,\n",
       " 'estimator__oob_score': False,\n",
       " 'estimator__random_state': None,\n",
       " 'estimator__verbose': 0,\n",
       " 'estimator__warm_start': False,\n",
       " 'estimator': RandomForestClassifier(),\n",
       " 'iid': 'deprecated',\n",
       " 'n_jobs': -1,\n",
       " 'param_grid': {'max_features': [25, 30, 35, 40, 45, 50, 55, 60, 65, 70, 75],\n",
       "  'n_estimators': [200, 250, 300, 350, 500],\n",
       "  'max_depth': [20, 25, 30, 35, 40, 45]},\n",
       " 'pre_dispatch': '2*n_jobs',\n",
       " 'refit': True,\n",
       " 'return_train_score': False,\n",
       " 'scoring': None,\n",
       " 'verbose': 2}"
      ]
     },
     "execution_count": 27,
     "metadata": {},
     "output_type": "execute_result"
    }
   ],
   "source": [
    "grid.get_params(deep=True)"
   ]
  },
  {
   "cell_type": "code",
   "execution_count": 28,
   "metadata": {},
   "outputs": [
    {
     "name": "stdout",
     "output_type": "stream",
     "text": [
      "Fitting 5 folds for each of 330 candidates, totalling 1650 fits\n"
     ]
    },
    {
     "name": "stderr",
     "output_type": "stream",
     "text": [
      "/opt/anaconda3/envs/PythonAdvanced/lib/python3.6/site-packages/sklearn/model_selection/_split.py:672: UserWarning: The least populated class in y has only 2 members, which is less than n_splits=5.\n",
      "  % (min_groups, self.n_splits)), UserWarning)\n",
      "[Parallel(n_jobs=-1)]: Using backend LokyBackend with 16 concurrent workers.\n",
      "[Parallel(n_jobs=-1)]: Done   9 tasks      | elapsed:    8.8s\n",
      "[Parallel(n_jobs=-1)]: Done 130 tasks      | elapsed:  2.0min\n",
      "[Parallel(n_jobs=-1)]: Done 333 tasks      | elapsed:  6.9min\n",
      "[Parallel(n_jobs=-1)]: Done 616 tasks      | elapsed: 13.4min\n",
      "[Parallel(n_jobs=-1)]: Done 981 tasks      | elapsed: 21.6min\n",
      "[Parallel(n_jobs=-1)]: Done 1426 tasks      | elapsed: 32.6min\n",
      "[Parallel(n_jobs=-1)]: Done 1650 out of 1650 | elapsed: 38.6min finished\n"
     ]
    },
    {
     "data": {
      "text/plain": [
       "GridSearchCV(estimator=RandomForestClassifier(), n_jobs=-1,\n",
       "             param_grid={'max_depth': [20, 25, 30, 35, 40, 45],\n",
       "                         'max_features': [25, 30, 35, 40, 45, 50, 55, 60, 65,\n",
       "                                          70, 75],\n",
       "                         'n_estimators': [200, 250, 300, 350, 500]},\n",
       "             verbose=2)"
      ]
     },
     "execution_count": 28,
     "metadata": {},
     "output_type": "execute_result"
    }
   ],
   "source": [
    "grid.fit(X_train, y_train)"
   ]
  },
  {
   "cell_type": "code",
   "execution_count": 29,
   "metadata": {},
   "outputs": [
    {
     "name": "stdout",
     "output_type": "stream",
     "text": [
      "{'max_depth': 45, 'max_features': 45, 'n_estimators': 300}\n",
      "0.5763889375839991\n",
      "RandomForestClassifier(max_depth=45, max_features=45, n_estimators=300)\n"
     ]
    }
   ],
   "source": [
    "print(grid.best_params_)\n",
    "print(grid.best_score_)\n",
    "print(grid.best_estimator_)"
   ]
  },
  {
   "cell_type": "code",
   "execution_count": 32,
   "metadata": {},
   "outputs": [],
   "source": [
    "model = RandomForestClassifier(max_depth=45, max_features=45, n_estimators=300)"
   ]
  },
  {
   "cell_type": "code",
   "execution_count": 33,
   "metadata": {},
   "outputs": [],
   "source": [
    "model = model.fit(X_train, y_train)"
   ]
  },
  {
   "cell_type": "code",
   "execution_count": 34,
   "metadata": {},
   "outputs": [],
   "source": [
    "X_train2, X_test2, y_train2, y_test2 = train_test_split(X, y, random_state=42)"
   ]
  },
  {
   "cell_type": "code",
   "execution_count": 35,
   "metadata": {},
   "outputs": [
    {
     "name": "stdout",
     "output_type": "stream",
     "text": [
      "F1 Score Test Compared to 1st Sample Set: 0.5381\n",
      "F1 Score Test New Sampled Test Data: 0.8773\n"
     ]
    }
   ],
   "source": [
    "print(f\"F1 Score Test Compared to 1st Sample Set: {model.score(X_test, y_test):.4f}\")\n",
    "print(f\"F1 Score Test New Sampled Test Data: {model.score(X_test2, y_test2):.4f}\")"
   ]
  },
  {
   "cell_type": "code",
   "execution_count": 36,
   "metadata": {},
   "outputs": [],
   "source": [
    "import_features = pd.Series(model.feature_importances_, index = ft_names).sort_values(ascending=False)\n",
    "import_features = import_features.head(50)\n"
   ]
  },
  {
   "cell_type": "code",
   "execution_count": null,
   "metadata": {},
   "outputs": [],
   "source": []
  },
  {
   "cell_type": "code",
   "execution_count": 37,
   "metadata": {},
   "outputs": [
    {
     "data": {
      "image/png": "[encoded data removed]",
      "text/plain": [
       "<Figure size 720x864 with 1 Axes>"
      ]
     },
     "metadata": {
      "needs_background": "light"
     },
     "output_type": "display_data"
    }
   ],
   "source": [
    "plt.figure(figsize=(10,12))\n",
    "sns.barplot(x=import_features, y=import_features.index, palette=\"deep\")\n",
    "plt.xlabel('Feature Importance')\n",
    "plt.ylabel('Features')\n",
    "plt.title(\"Random Forrest Important Features\")\n",
    "plt.show()"
   ]
  },
  {
   "cell_type": "code",
   "execution_count": null,
   "metadata": {},
   "outputs": [],
   "source": []
  }
 ],
 "metadata": {
  "kernelspec": {
   "display_name": "Python [conda env:PythonAdvanced]",
   "language": "python",
   "name": "conda-env-PythonAdvanced-py"
  },
  "language_info": {
   "codemirror_mode": {
    "name": "ipython",
    "version": 3
   },
   "file_extension": ".py",
   "mimetype": "text/x-python",
   "name": "python",
   "nbconvert_exporter": "python",
   "pygments_lexer": "ipython3",
   "version": "3.6.10"
  }
 },
 "nbformat": 4,
 "nbformat_minor": 4
}
