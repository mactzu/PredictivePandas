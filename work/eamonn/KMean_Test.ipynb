{
 "cells": [
  {
   "cell_type": "code",
   "execution_count": 1,
   "metadata": {},
   "outputs": [],
   "source": [
    "import pandas as pd\n",
    "import numpy as np\n",
    "from sklearn.cluster import KMeans\n",
    "from sklearn.preprocessing import StandardScaler\n",
    "from sklearn.preprocessing import LabelEncoder\n",
    "from sklearn.model_selection import train_test_split\n",
    "from sklearn.decomposition import PCA \n",
    "\n",
    "%matplotlib inline\n",
    "import matplotlib.pyplot as plt"
   ]
  },
  {
   "cell_type": "code",
   "execution_count": 2,
   "metadata": {},
   "outputs": [],
   "source": [
    "#Data import and feature additions\n",
    "beer_df = pd.read_csv('https://query.data.world/s/nuub3qupegsd33g3nimifjpajqeq2o')\n",
    "beer_df.dropna(inplace=True)\n",
    "beer_df.drop_duplicates(inplace=True)\n",
    "beer_df[\"beer_strength\"] = pd.cut(beer_df[\"beer_abv\"], [0,1.9,3.9,6,9,58], \n",
    "                                labels=[\"Light\", \"Mid\", \"Full\", \"Heavy\", \"Very Strong\"])\n",
    "mod_beer_df =beer_df\n",
    "conditions =[\n",
    "    (mod_beer_df.beer_style.str.contains('ale', case=False)),\n",
    "    (mod_beer_df.beer_style.str.contains('dark ale', case=False)),\n",
    "    (mod_beer_df.beer_style.str.contains('ipa', case=False)),\n",
    "    (mod_beer_df.beer_style.str.contains(\"pilsener\", case=False)),\n",
    "    (mod_beer_df.beer_style.str.contains(\"pilsner\", case=False)),\n",
    "    (mod_beer_df.beer_style.str.contains(\"barleywine\", case=False)),\n",
    "    (mod_beer_df.beer_style.str.contains(\"bitter\", case=False)),\n",
    "    (mod_beer_df.beer_style.str.contains(\"porter\", case=False)),\n",
    "    (mod_beer_df.beer_style.str.contains(\"kölsch\", case=False)),\n",
    "    (mod_beer_df.beer_style.str.contains('pel', case=False)),\n",
    "    (mod_beer_df.beer_style.str.contains('lager', case=False)),\n",
    "    (mod_beer_df.beer_style.str.contains('stout', case=False)),\n",
    "]\n",
    "\n",
    "styles = ['ale','dark ale','ipa',\"pilsener\",\"pilsener\",\"barleywine\",\"bitter\",\"porter\",\"kölsch\",\"trappist\",'lager','stout']\n",
    "mod_beer_df[\"meta_style\"] = np.select(conditions, styles, default='exotic')\n",
    "beer_sub_grp = mod_beer_df[[\"beer_name\", \"review_overall\", \"review_aroma\", \"review_appearance\", \"review_palate\", \"review_taste\"]]\n",
    "grp_beers_mean= pd.DataFrame(beer_sub_grp.groupby([\"beer_name\"]).mean())\n",
    "mod_beer_df = pd.merge(mod_beer_df, grp_beers_mean, on='beer_name',how='outer',suffixes=('_OG','_MEAN'))\n",
    "val_info = pd.DataFrame(mod_beer_df[[\"review_overall_OG\", \"review_aroma_OG\", \"review_appearance_OG\", \"review_palate_OG\", \"review_taste_OG\"]])\n",
    "mod_beer_df[\"sub_review_score\"] = val_info.mean(axis=1)"
   ]
  },
  {
   "cell_type": "code",
   "execution_count": 3,
   "metadata": {},
   "outputs": [
    {
     "data": {
      "text/html": [
       "<div>\n",
       "<style scoped>\n",
       "    .dataframe tbody tr th:only-of-type {\n",
       "        vertical-align: middle;\n",
       "    }\n",
       "\n",
       "    .dataframe tbody tr th {\n",
       "        vertical-align: top;\n",
       "    }\n",
       "\n",
       "    .dataframe thead th {\n",
       "        text-align: right;\n",
       "    }\n",
       "</style>\n",
       "<table border=\"1\" class=\"dataframe\">\n",
       "  <thead>\n",
       "    <tr style=\"text-align: right;\">\n",
       "      <th></th>\n",
       "      <th>brewery_id</th>\n",
       "      <th>brewery_name</th>\n",
       "      <th>review_time</th>\n",
       "      <th>review_overall_OG</th>\n",
       "      <th>review_aroma_OG</th>\n",
       "      <th>review_appearance_OG</th>\n",
       "      <th>review_profilename</th>\n",
       "      <th>beer_style</th>\n",
       "      <th>review_palate_OG</th>\n",
       "      <th>review_taste_OG</th>\n",
       "      <th>...</th>\n",
       "      <th>beer_abv</th>\n",
       "      <th>beer_beerid</th>\n",
       "      <th>beer_strength</th>\n",
       "      <th>meta_style</th>\n",
       "      <th>review_overall_MEAN</th>\n",
       "      <th>review_aroma_MEAN</th>\n",
       "      <th>review_appearance_MEAN</th>\n",
       "      <th>review_palate_MEAN</th>\n",
       "      <th>review_taste_MEAN</th>\n",
       "      <th>sub_review_score</th>\n",
       "    </tr>\n",
       "  </thead>\n",
       "  <tbody>\n",
       "    <tr>\n",
       "      <th>0</th>\n",
       "      <td>10325</td>\n",
       "      <td>Vecchio Birraio</td>\n",
       "      <td>1234817823</td>\n",
       "      <td>1.5</td>\n",
       "      <td>2.0</td>\n",
       "      <td>2.5</td>\n",
       "      <td>stcules</td>\n",
       "      <td>Hefeweizen</td>\n",
       "      <td>1.5</td>\n",
       "      <td>1.5</td>\n",
       "      <td>...</td>\n",
       "      <td>5.0</td>\n",
       "      <td>47986</td>\n",
       "      <td>Full</td>\n",
       "      <td>exotic</td>\n",
       "      <td>1.500000</td>\n",
       "      <td>2.000000</td>\n",
       "      <td>2.500000</td>\n",
       "      <td>1.5</td>\n",
       "      <td>1.500000</td>\n",
       "      <td>1.8</td>\n",
       "    </tr>\n",
       "    <tr>\n",
       "      <th>1</th>\n",
       "      <td>10325</td>\n",
       "      <td>Vecchio Birraio</td>\n",
       "      <td>1235915097</td>\n",
       "      <td>3.0</td>\n",
       "      <td>2.5</td>\n",
       "      <td>3.0</td>\n",
       "      <td>stcules</td>\n",
       "      <td>English Strong Ale</td>\n",
       "      <td>3.0</td>\n",
       "      <td>3.0</td>\n",
       "      <td>...</td>\n",
       "      <td>6.2</td>\n",
       "      <td>48213</td>\n",
       "      <td>Heavy</td>\n",
       "      <td>ale</td>\n",
       "      <td>3.000000</td>\n",
       "      <td>2.500000</td>\n",
       "      <td>3.000000</td>\n",
       "      <td>3.0</td>\n",
       "      <td>3.000000</td>\n",
       "      <td>2.9</td>\n",
       "    </tr>\n",
       "    <tr>\n",
       "      <th>2</th>\n",
       "      <td>10325</td>\n",
       "      <td>Vecchio Birraio</td>\n",
       "      <td>1235916604</td>\n",
       "      <td>3.0</td>\n",
       "      <td>2.5</td>\n",
       "      <td>3.0</td>\n",
       "      <td>stcules</td>\n",
       "      <td>Foreign / Export Stout</td>\n",
       "      <td>3.0</td>\n",
       "      <td>3.0</td>\n",
       "      <td>...</td>\n",
       "      <td>6.5</td>\n",
       "      <td>48215</td>\n",
       "      <td>Heavy</td>\n",
       "      <td>stout</td>\n",
       "      <td>3.000000</td>\n",
       "      <td>2.500000</td>\n",
       "      <td>3.000000</td>\n",
       "      <td>3.0</td>\n",
       "      <td>3.000000</td>\n",
       "      <td>2.9</td>\n",
       "    </tr>\n",
       "    <tr>\n",
       "      <th>3</th>\n",
       "      <td>10325</td>\n",
       "      <td>Vecchio Birraio</td>\n",
       "      <td>1234725145</td>\n",
       "      <td>3.0</td>\n",
       "      <td>3.0</td>\n",
       "      <td>3.5</td>\n",
       "      <td>stcules</td>\n",
       "      <td>German Pilsener</td>\n",
       "      <td>2.5</td>\n",
       "      <td>3.0</td>\n",
       "      <td>...</td>\n",
       "      <td>5.0</td>\n",
       "      <td>47969</td>\n",
       "      <td>Full</td>\n",
       "      <td>pilsener</td>\n",
       "      <td>3.000000</td>\n",
       "      <td>3.000000</td>\n",
       "      <td>3.500000</td>\n",
       "      <td>2.5</td>\n",
       "      <td>3.000000</td>\n",
       "      <td>3.0</td>\n",
       "    </tr>\n",
       "    <tr>\n",
       "      <th>4</th>\n",
       "      <td>1075</td>\n",
       "      <td>Caldera Brewing Company</td>\n",
       "      <td>1293735206</td>\n",
       "      <td>4.0</td>\n",
       "      <td>4.5</td>\n",
       "      <td>4.0</td>\n",
       "      <td>johnmichaelsen</td>\n",
       "      <td>American Double / Imperial IPA</td>\n",
       "      <td>4.0</td>\n",
       "      <td>4.5</td>\n",
       "      <td>...</td>\n",
       "      <td>7.7</td>\n",
       "      <td>64883</td>\n",
       "      <td>Heavy</td>\n",
       "      <td>ipa</td>\n",
       "      <td>4.000000</td>\n",
       "      <td>4.500000</td>\n",
       "      <td>4.000000</td>\n",
       "      <td>4.0</td>\n",
       "      <td>4.500000</td>\n",
       "      <td>4.2</td>\n",
       "    </tr>\n",
       "    <tr>\n",
       "      <th>...</th>\n",
       "      <td>...</td>\n",
       "      <td>...</td>\n",
       "      <td>...</td>\n",
       "      <td>...</td>\n",
       "      <td>...</td>\n",
       "      <td>...</td>\n",
       "      <td>...</td>\n",
       "      <td>...</td>\n",
       "      <td>...</td>\n",
       "      <td>...</td>\n",
       "      <td>...</td>\n",
       "      <td>...</td>\n",
       "      <td>...</td>\n",
       "      <td>...</td>\n",
       "      <td>...</td>\n",
       "      <td>...</td>\n",
       "      <td>...</td>\n",
       "      <td>...</td>\n",
       "      <td>...</td>\n",
       "      <td>...</td>\n",
       "      <td>...</td>\n",
       "    </tr>\n",
       "    <tr>\n",
       "      <th>1518473</th>\n",
       "      <td>14359</td>\n",
       "      <td>The Defiant Brewing Company</td>\n",
       "      <td>1162684892</td>\n",
       "      <td>5.0</td>\n",
       "      <td>4.0</td>\n",
       "      <td>3.5</td>\n",
       "      <td>maddogruss</td>\n",
       "      <td>Pumpkin Ale</td>\n",
       "      <td>4.0</td>\n",
       "      <td>4.0</td>\n",
       "      <td>...</td>\n",
       "      <td>5.2</td>\n",
       "      <td>33061</td>\n",
       "      <td>Full</td>\n",
       "      <td>ale</td>\n",
       "      <td>4.357143</td>\n",
       "      <td>4.357143</td>\n",
       "      <td>3.964286</td>\n",
       "      <td>4.0</td>\n",
       "      <td>4.107143</td>\n",
       "      <td>4.1</td>\n",
       "    </tr>\n",
       "    <tr>\n",
       "      <th>1518474</th>\n",
       "      <td>14359</td>\n",
       "      <td>The Defiant Brewing Company</td>\n",
       "      <td>1161048566</td>\n",
       "      <td>4.0</td>\n",
       "      <td>5.0</td>\n",
       "      <td>2.5</td>\n",
       "      <td>yelterdow</td>\n",
       "      <td>Pumpkin Ale</td>\n",
       "      <td>2.0</td>\n",
       "      <td>4.0</td>\n",
       "      <td>...</td>\n",
       "      <td>5.2</td>\n",
       "      <td>33061</td>\n",
       "      <td>Full</td>\n",
       "      <td>ale</td>\n",
       "      <td>4.357143</td>\n",
       "      <td>4.357143</td>\n",
       "      <td>3.964286</td>\n",
       "      <td>4.0</td>\n",
       "      <td>4.107143</td>\n",
       "      <td>3.5</td>\n",
       "    </tr>\n",
       "    <tr>\n",
       "      <th>1518475</th>\n",
       "      <td>14359</td>\n",
       "      <td>The Defiant Brewing Company</td>\n",
       "      <td>1160702513</td>\n",
       "      <td>4.5</td>\n",
       "      <td>3.5</td>\n",
       "      <td>3.0</td>\n",
       "      <td>TongoRad</td>\n",
       "      <td>Pumpkin Ale</td>\n",
       "      <td>3.5</td>\n",
       "      <td>4.0</td>\n",
       "      <td>...</td>\n",
       "      <td>5.2</td>\n",
       "      <td>33061</td>\n",
       "      <td>Full</td>\n",
       "      <td>ale</td>\n",
       "      <td>4.357143</td>\n",
       "      <td>4.357143</td>\n",
       "      <td>3.964286</td>\n",
       "      <td>4.0</td>\n",
       "      <td>4.107143</td>\n",
       "      <td>3.7</td>\n",
       "    </tr>\n",
       "    <tr>\n",
       "      <th>1518476</th>\n",
       "      <td>14359</td>\n",
       "      <td>The Defiant Brewing Company</td>\n",
       "      <td>1160023044</td>\n",
       "      <td>4.0</td>\n",
       "      <td>4.5</td>\n",
       "      <td>4.5</td>\n",
       "      <td>dherling</td>\n",
       "      <td>Pumpkin Ale</td>\n",
       "      <td>4.5</td>\n",
       "      <td>4.5</td>\n",
       "      <td>...</td>\n",
       "      <td>5.2</td>\n",
       "      <td>33061</td>\n",
       "      <td>Full</td>\n",
       "      <td>ale</td>\n",
       "      <td>4.357143</td>\n",
       "      <td>4.357143</td>\n",
       "      <td>3.964286</td>\n",
       "      <td>4.0</td>\n",
       "      <td>4.107143</td>\n",
       "      <td>4.4</td>\n",
       "    </tr>\n",
       "    <tr>\n",
       "      <th>1518477</th>\n",
       "      <td>14359</td>\n",
       "      <td>The Defiant Brewing Company</td>\n",
       "      <td>1160005319</td>\n",
       "      <td>5.0</td>\n",
       "      <td>4.5</td>\n",
       "      <td>4.5</td>\n",
       "      <td>cbl2</td>\n",
       "      <td>Pumpkin Ale</td>\n",
       "      <td>4.5</td>\n",
       "      <td>4.5</td>\n",
       "      <td>...</td>\n",
       "      <td>5.2</td>\n",
       "      <td>33061</td>\n",
       "      <td>Full</td>\n",
       "      <td>ale</td>\n",
       "      <td>4.357143</td>\n",
       "      <td>4.357143</td>\n",
       "      <td>3.964286</td>\n",
       "      <td>4.0</td>\n",
       "      <td>4.107143</td>\n",
       "      <td>4.6</td>\n",
       "    </tr>\n",
       "  </tbody>\n",
       "</table>\n",
       "<p>1518478 rows × 21 columns</p>\n",
       "</div>"
      ],
      "text/plain": [
       "         brewery_id                 brewery_name  review_time  \\\n",
       "0             10325              Vecchio Birraio   1234817823   \n",
       "1             10325              Vecchio Birraio   1235915097   \n",
       "2             10325              Vecchio Birraio   1235916604   \n",
       "3             10325              Vecchio Birraio   1234725145   \n",
       "4              1075      Caldera Brewing Company   1293735206   \n",
       "...             ...                          ...          ...   \n",
       "1518473       14359  The Defiant Brewing Company   1162684892   \n",
       "1518474       14359  The Defiant Brewing Company   1161048566   \n",
       "1518475       14359  The Defiant Brewing Company   1160702513   \n",
       "1518476       14359  The Defiant Brewing Company   1160023044   \n",
       "1518477       14359  The Defiant Brewing Company   1160005319   \n",
       "\n",
       "         review_overall_OG  review_aroma_OG  review_appearance_OG  \\\n",
       "0                      1.5              2.0                   2.5   \n",
       "1                      3.0              2.5                   3.0   \n",
       "2                      3.0              2.5                   3.0   \n",
       "3                      3.0              3.0                   3.5   \n",
       "4                      4.0              4.5                   4.0   \n",
       "...                    ...              ...                   ...   \n",
       "1518473                5.0              4.0                   3.5   \n",
       "1518474                4.0              5.0                   2.5   \n",
       "1518475                4.5              3.5                   3.0   \n",
       "1518476                4.0              4.5                   4.5   \n",
       "1518477                5.0              4.5                   4.5   \n",
       "\n",
       "        review_profilename                      beer_style  review_palate_OG  \\\n",
       "0                  stcules                      Hefeweizen               1.5   \n",
       "1                  stcules              English Strong Ale               3.0   \n",
       "2                  stcules          Foreign / Export Stout               3.0   \n",
       "3                  stcules                 German Pilsener               2.5   \n",
       "4           johnmichaelsen  American Double / Imperial IPA               4.0   \n",
       "...                    ...                             ...               ...   \n",
       "1518473         maddogruss                     Pumpkin Ale               4.0   \n",
       "1518474          yelterdow                     Pumpkin Ale               2.0   \n",
       "1518475           TongoRad                     Pumpkin Ale               3.5   \n",
       "1518476           dherling                     Pumpkin Ale               4.5   \n",
       "1518477               cbl2                     Pumpkin Ale               4.5   \n",
       "\n",
       "         review_taste_OG  ... beer_abv  beer_beerid  beer_strength meta_style  \\\n",
       "0                    1.5  ...      5.0        47986           Full     exotic   \n",
       "1                    3.0  ...      6.2        48213          Heavy        ale   \n",
       "2                    3.0  ...      6.5        48215          Heavy      stout   \n",
       "3                    3.0  ...      5.0        47969           Full   pilsener   \n",
       "4                    4.5  ...      7.7        64883          Heavy        ipa   \n",
       "...                  ...  ...      ...          ...            ...        ...   \n",
       "1518473              4.0  ...      5.2        33061           Full        ale   \n",
       "1518474              4.0  ...      5.2        33061           Full        ale   \n",
       "1518475              4.0  ...      5.2        33061           Full        ale   \n",
       "1518476              4.5  ...      5.2        33061           Full        ale   \n",
       "1518477              4.5  ...      5.2        33061           Full        ale   \n",
       "\n",
       "        review_overall_MEAN  review_aroma_MEAN  review_appearance_MEAN  \\\n",
       "0                  1.500000           2.000000                2.500000   \n",
       "1                  3.000000           2.500000                3.000000   \n",
       "2                  3.000000           2.500000                3.000000   \n",
       "3                  3.000000           3.000000                3.500000   \n",
       "4                  4.000000           4.500000                4.000000   \n",
       "...                     ...                ...                     ...   \n",
       "1518473            4.357143           4.357143                3.964286   \n",
       "1518474            4.357143           4.357143                3.964286   \n",
       "1518475            4.357143           4.357143                3.964286   \n",
       "1518476            4.357143           4.357143                3.964286   \n",
       "1518477            4.357143           4.357143                3.964286   \n",
       "\n",
       "         review_palate_MEAN  review_taste_MEAN  sub_review_score  \n",
       "0                       1.5           1.500000               1.8  \n",
       "1                       3.0           3.000000               2.9  \n",
       "2                       3.0           3.000000               2.9  \n",
       "3                       2.5           3.000000               3.0  \n",
       "4                       4.0           4.500000               4.2  \n",
       "...                     ...                ...               ...  \n",
       "1518473                 4.0           4.107143               4.1  \n",
       "1518474                 4.0           4.107143               3.5  \n",
       "1518475                 4.0           4.107143               3.7  \n",
       "1518476                 4.0           4.107143               4.4  \n",
       "1518477                 4.0           4.107143               4.6  \n",
       "\n",
       "[1518478 rows x 21 columns]"
      ]
     },
     "execution_count": 3,
     "metadata": {},
     "output_type": "execute_result"
    }
   ],
   "source": [
    "mod_beer_df"
   ]
  },
  {
   "cell_type": "code",
   "execution_count": 4,
   "metadata": {},
   "outputs": [],
   "source": [
    "#Scaling Overall rating \n",
    "scaler = StandardScaler()\n",
    "sub_score_info = mod_beer_df[\"sub_review_score\"].values.reshape(-1, 1)\n",
    "sub_score_scaled = scaler.fit_transform(sub_score_info)\n",
    "mod_beer_df[\"scaled_score\"] = sub_score_scaled"
   ]
  },
  {
   "cell_type": "code",
   "execution_count": 5,
   "metadata": {},
   "outputs": [],
   "source": [
    "# Encoding Categorical Beer Style Labels\n",
    "y_sytle = mod_beer_df[\"meta_style\"]\n",
    "label_encoder = LabelEncoder()\n",
    "label_encoder.fit(y_sytle)\n",
    "encoded_style = label_encoder.transform(y_sytle)"
   ]
  },
  {
   "cell_type": "code",
   "execution_count": 6,
   "metadata": {},
   "outputs": [
    {
     "data": {
      "text/plain": [
       "array([3, 0, 9, ..., 0, 0, 0])"
      ]
     },
     "execution_count": 6,
     "metadata": {},
     "output_type": "execute_result"
    }
   ],
   "source": [
    "encoded_style"
   ]
  },
  {
   "cell_type": "code",
   "execution_count": 7,
   "metadata": {},
   "outputs": [],
   "source": [
    "# Encoding Categorical Beer strength labels\n",
    "y_abvstr = mod_beer_df[\"beer_strength\"]\n",
    "label_encoder.fit(y_abvstr)\n",
    "encoded_strength = label_encoder.transform(y_abvstr)"
   ]
  },
  {
   "cell_type": "code",
   "execution_count": 15,
   "metadata": {},
   "outputs": [],
   "source": [
    "#Minimise DF for testing purpose of Kmeans\n",
    "kmean_df = mod_beer_df[[\"review_overall_OG\",\"review_palate_OG\", \"review_taste_OG\"]]"
   ]
  },
  {
   "cell_type": "code",
   "execution_count": 16,
   "metadata": {},
   "outputs": [
    {
     "name": "stderr",
     "output_type": "stream",
     "text": [
      "/opt/anaconda3/envs/PythonAdvanced/lib/python3.6/site-packages/ipykernel_launcher.py:2: SettingWithCopyWarning: \n",
      "A value is trying to be set on a copy of a slice from a DataFrame.\n",
      "Try using .loc[row_indexer,col_indexer] = value instead\n",
      "\n",
      "See the caveats in the documentation: https://pandas.pydata.org/pandas-docs/stable/user_guide/indexing.html#returning-a-view-versus-a-copy\n",
      "  \n",
      "/opt/anaconda3/envs/PythonAdvanced/lib/python3.6/site-packages/ipykernel_launcher.py:3: SettingWithCopyWarning: \n",
      "A value is trying to be set on a copy of a slice from a DataFrame.\n",
      "Try using .loc[row_indexer,col_indexer] = value instead\n",
      "\n",
      "See the caveats in the documentation: https://pandas.pydata.org/pandas-docs/stable/user_guide/indexing.html#returning-a-view-versus-a-copy\n",
      "  This is separate from the ipykernel package so we can avoid doing imports until\n"
     ]
    }
   ],
   "source": [
    "#Adding encoded labels information back to DF \n",
    "kmean_df[\"coded_style\"] = encoded_style.tolist()\n",
    "kmean_df[\"coded_abvstr\"] = encoded_strength.tolist()"
   ]
  },
  {
   "cell_type": "code",
   "execution_count": 10,
   "metadata": {},
   "outputs": [
    {
     "data": {
      "text/html": [
       "<div>\n",
       "<style scoped>\n",
       "    .dataframe tbody tr th:only-of-type {\n",
       "        vertical-align: middle;\n",
       "    }\n",
       "\n",
       "    .dataframe tbody tr th {\n",
       "        vertical-align: top;\n",
       "    }\n",
       "\n",
       "    .dataframe thead th {\n",
       "        text-align: right;\n",
       "    }\n",
       "</style>\n",
       "<table border=\"1\" class=\"dataframe\">\n",
       "  <thead>\n",
       "    <tr style=\"text-align: right;\">\n",
       "      <th></th>\n",
       "      <th>meta_style</th>\n",
       "      <th>coded_style</th>\n",
       "    </tr>\n",
       "  </thead>\n",
       "  <tbody>\n",
       "    <tr>\n",
       "      <th>0</th>\n",
       "      <td>exotic</td>\n",
       "      <td>3</td>\n",
       "    </tr>\n",
       "    <tr>\n",
       "      <th>1</th>\n",
       "      <td>ale</td>\n",
       "      <td>0</td>\n",
       "    </tr>\n",
       "    <tr>\n",
       "      <th>2</th>\n",
       "      <td>stout</td>\n",
       "      <td>9</td>\n",
       "    </tr>\n",
       "    <tr>\n",
       "      <th>3</th>\n",
       "      <td>pilsener</td>\n",
       "      <td>7</td>\n",
       "    </tr>\n",
       "    <tr>\n",
       "      <th>4</th>\n",
       "      <td>ipa</td>\n",
       "      <td>4</td>\n",
       "    </tr>\n",
       "    <tr>\n",
       "      <th>14</th>\n",
       "      <td>lager</td>\n",
       "      <td>6</td>\n",
       "    </tr>\n",
       "    <tr>\n",
       "      <th>687</th>\n",
       "      <td>porter</td>\n",
       "      <td>8</td>\n",
       "    </tr>\n",
       "    <tr>\n",
       "      <th>2113</th>\n",
       "      <td>bitter</td>\n",
       "      <td>2</td>\n",
       "    </tr>\n",
       "    <tr>\n",
       "      <th>2134</th>\n",
       "      <td>barleywine</td>\n",
       "      <td>1</td>\n",
       "    </tr>\n",
       "    <tr>\n",
       "      <th>2155</th>\n",
       "      <td>trappist</td>\n",
       "      <td>10</td>\n",
       "    </tr>\n",
       "    <tr>\n",
       "      <th>2993</th>\n",
       "      <td>kölsch</td>\n",
       "      <td>5</td>\n",
       "    </tr>\n",
       "  </tbody>\n",
       "</table>\n",
       "</div>"
      ],
      "text/plain": [
       "      meta_style  coded_style\n",
       "0         exotic            3\n",
       "1            ale            0\n",
       "2          stout            9\n",
       "3       pilsener            7\n",
       "4            ipa            4\n",
       "14         lager            6\n",
       "687       porter            8\n",
       "2113      bitter            2\n",
       "2134  barleywine            1\n",
       "2155    trappist           10\n",
       "2993      kölsch            5"
      ]
     },
     "execution_count": 10,
     "metadata": {},
     "output_type": "execute_result"
    }
   ],
   "source": [
    "style_checker = kmean_df[[\"meta_style\",\"coded_style\",]]\n",
    "style_checker.drop_duplicates()"
   ]
  },
  {
   "cell_type": "code",
   "execution_count": null,
   "metadata": {},
   "outputs": [],
   "source": []
  },
  {
   "cell_type": "code",
   "execution_count": 17,
   "metadata": {},
   "outputs": [],
   "source": [
    "#Copy Dataframe \n",
    "dataset = kmean_df"
   ]
  },
  {
   "cell_type": "code",
   "execution_count": 18,
   "metadata": {},
   "outputs": [],
   "source": [
    "#Convert DF to Numpy Array\n",
    "dataset = dataset.to_numpy()"
   ]
  },
  {
   "cell_type": "code",
   "execution_count": 19,
   "metadata": {},
   "outputs": [],
   "source": [
    "#Split Array \n",
    "dataset_train, dataset_test = train_test_split(dataset, random_state=11)"
   ]
  },
  {
   "cell_type": "code",
   "execution_count": 20,
   "metadata": {},
   "outputs": [],
   "source": [
    "kmeans = KMeans(n_clusters=11)"
   ]
  },
  {
   "cell_type": "code",
   "execution_count": 21,
   "metadata": {},
   "outputs": [],
   "source": [
    "model = kmeans.fit(dataset)"
   ]
  },
  {
   "cell_type": "code",
   "execution_count": 22,
   "metadata": {},
   "outputs": [
    {
     "name": "stderr",
     "output_type": "stream",
     "text": [
      "/opt/anaconda3/envs/PythonAdvanced/lib/python3.6/site-packages/ipykernel_launcher.py:1: SettingWithCopyWarning: \n",
      "A value is trying to be set on a copy of a slice from a DataFrame.\n",
      "Try using .loc[row_indexer,col_indexer] = value instead\n",
      "\n",
      "See the caveats in the documentation: https://pandas.pydata.org/pandas-docs/stable/user_guide/indexing.html#returning-a-view-versus-a-copy\n",
      "  \"\"\"Entry point for launching an IPython kernel.\n"
     ]
    }
   ],
   "source": [
    "kmean_df[\"classes\"] = model.predict(dataset)\n"
   ]
  },
  {
   "cell_type": "code",
   "execution_count": 23,
   "metadata": {},
   "outputs": [],
   "source": [
    "predicted_clusters = model.predict(dataset_train)"
   ]
  },
  {
   "cell_type": "code",
   "execution_count": 24,
   "metadata": {},
   "outputs": [
    {
     "data": {
      "text/plain": [
       "array([4.5, 5. , 4. , 9. , 0. ])"
      ]
     },
     "execution_count": 24,
     "metadata": {},
     "output_type": "execute_result"
    }
   ],
   "source": [
    "dataset_train[0]"
   ]
  },
  {
   "cell_type": "code",
   "execution_count": 25,
   "metadata": {},
   "outputs": [],
   "source": [
    "predict = model.predict(dataset_test[0].reshape(1,-1))"
   ]
  },
  {
   "cell_type": "code",
   "execution_count": null,
   "metadata": {},
   "outputs": [],
   "source": [
    "usrinput = "
   ]
  },
  {
   "cell_type": "code",
   "execution_count": 26,
   "metadata": {},
   "outputs": [
    {
     "data": {
      "text/plain": [
       "array([2], dtype=int32)"
      ]
     },
     "execution_count": 26,
     "metadata": {},
     "output_type": "execute_result"
    }
   ],
   "source": [
    "predict2 = model.predict"
   ]
  },
  {
   "cell_type": "code",
   "execution_count": 27,
   "metadata": {},
   "outputs": [
    {
     "data": {
      "text/plain": [
       "array([[4.00562197e+00, 4.09689345e+00, 4.16062517e+00, 9.21302964e+00,\n",
       "        3.99249235e+00],\n",
       "       [3.00422860e+00, 3.03276533e+00, 2.97212895e+00, 3.14935734e+00,\n",
       "        3.84375131e-01],\n",
       "       [3.88851203e+00, 3.96199064e+00, 4.03419918e+00, 3.84687254e-01,\n",
       "        3.95292503e+00],\n",
       "       [3.09038577e+00, 3.06738643e+00, 3.02436866e+00, 5.67918015e-03,\n",
       "        2.92060587e-01],\n",
       "       [3.97870774e+00, 3.88870985e+00, 3.99149288e+00, 8.88845245e+00,\n",
       "        5.78839531e-01],\n",
       "       [4.15842621e+00, 4.05194498e+00, 4.14293343e+00, 4.01744393e+00,\n",
       "        8.75263576e-01],\n",
       "       [2.32295848e+00, 2.26154840e+00, 2.13251468e+00, 6.43749008e+00,\n",
       "        2.49291335e-01],\n",
       "       [4.14563032e+00, 4.00699498e+00, 4.08954643e+00, 8.07138498e-03,\n",
       "        5.23583735e-01],\n",
       "       [4.14120205e+00, 3.99658863e+00, 4.08059646e+00, 2.90782824e+00,\n",
       "        3.68126680e-01],\n",
       "       [3.87534271e+00, 3.61650389e+00, 3.65006441e+00, 6.31911122e+00,\n",
       "        9.87657040e-02],\n",
       "       [3.89913314e+00, 3.95720530e+00, 4.01612951e+00, 3.71458843e+00,\n",
       "        3.91807068e+00]])"
      ]
     },
     "execution_count": 27,
     "metadata": {},
     "output_type": "execute_result"
    }
   ],
   "source": [
    "model.cluster_centers_"
   ]
  },
  {
   "cell_type": "code",
   "execution_count": 31,
   "metadata": {},
   "outputs": [],
   "source": [
    "style_checker[\"km_class\"]= kmean_df[[\"classes\" ]]\n"
   ]
  },
  {
   "cell_type": "code",
   "execution_count": 33,
   "metadata": {},
   "outputs": [],
   "source": [
    "mod_beer_df[\"km_class\"] = kmean_df[[\"classes\" ]]"
   ]
  },
  {
   "cell_type": "code",
   "execution_count": 43,
   "metadata": {},
   "outputs": [],
   "source": [
    "predict_analysis6 = mod_beer_df.loc[(mod_beer_df[\"km_class\"] == 6)]"
   ]
  },
  {
   "cell_type": "code",
   "execution_count": 44,
   "metadata": {},
   "outputs": [
    {
     "data": {
      "text/plain": [
       "array(['pilsener', 'lager', 'stout', 'porter', 'kölsch', 'ipa',\n",
       "       'trappist'], dtype=object)"
      ]
     },
     "execution_count": 44,
     "metadata": {},
     "output_type": "execute_result"
    }
   ],
   "source": [
    "predict_analysis6[\"meta_style\"].unique()"
   ]
  },
  {
   "cell_type": "code",
   "execution_count": 48,
   "metadata": {},
   "outputs": [
    {
     "data": {
      "text/plain": [
       "array(['barleywine', 'ale', 'bitter'], dtype=object)"
      ]
     },
     "execution_count": 48,
     "metadata": {},
     "output_type": "execute_result"
    }
   ],
   "source": [
    "predict_analysis2 = mod_beer_df.loc[(mod_beer_df[\"km_class\"] == 2)]\n",
    "predict_analysis2[\"meta_style\"].unique()"
   ]
  },
  {
   "cell_type": "code",
   "execution_count": null,
   "metadata": {},
   "outputs": [],
   "source": []
  }
 ],
 "metadata": {
  "kernelspec": {
   "display_name": "Python [conda env:PythonAdvanced]",
   "language": "python",
   "name": "conda-env-PythonAdvanced-py"
  },
  "language_info": {
   "codemirror_mode": {
    "name": "ipython",
    "version": 3
   },
   "file_extension": ".py",
   "mimetype": "text/x-python",
   "name": "python",
   "nbconvert_exporter": "python",
   "pygments_lexer": "ipython3",
   "version": "3.6.10"
  }
 },
 "nbformat": 4,
 "nbformat_minor": 4
}
