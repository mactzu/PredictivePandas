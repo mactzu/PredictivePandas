{
 "cells": [
  {
   "cell_type": "code",
   "execution_count": 1,
   "metadata": {},
   "outputs": [],
   "source": [
    "import pandas as pd\n",
    "import numpy as np\n",
    "from sklearn.cluster import KMeans\n",
    "from sklearn.preprocessing import StandardScaler\n",
    "from sklearn.preprocessing import LabelEncoder\n",
    "from sklearn.model_selection import train_test_split\n",
    "from sklearn.decomposition import PCA \n",
    "\n",
    "%matplotlib inline\n",
    "import matplotlib.pyplot as plt"
   ]
  },
  {
   "cell_type": "code",
   "execution_count": 2,
   "metadata": {},
   "outputs": [],
   "source": [
    "#Data import and feature additions\n",
    "beer_df = pd.read_csv('https://query.data.world/s/nuub3qupegsd33g3nimifjpajqeq2o')\n",
    "beer_df.dropna(inplace=True)\n",
    "beer_df.drop_duplicates(inplace=True)\n",
    "beer_df[\"beer_strength\"] = pd.cut(beer_df[\"beer_abv\"], [0,1.9,3.9,6,9,58], \n",
    "                                labels=[\"Light\", \"Mid\", \"Full\", \"Heavy\", \"Very Strong\"])\n",
    "mod_beer_df =beer_df\n",
    "conditions =[\n",
    "    (mod_beer_df.beer_style.str.contains('ale', case=False)),\n",
    "    (mod_beer_df.beer_style.str.contains('dark ale', case=False)),\n",
    "    (mod_beer_df.beer_style.str.contains('ipa', case=False)),\n",
    "    (mod_beer_df.beer_style.str.contains(\"pilsener\", case=False)),\n",
    "    (mod_beer_df.beer_style.str.contains(\"pilsner\", case=False)),\n",
    "    (mod_beer_df.beer_style.str.contains(\"barleywine\", case=False)),\n",
    "    (mod_beer_df.beer_style.str.contains(\"bitter\", case=False)),\n",
    "    (mod_beer_df.beer_style.str.contains(\"porter\", case=False)),\n",
    "    (mod_beer_df.beer_style.str.contains(\"kölsch\", case=False)),\n",
    "    (mod_beer_df.beer_style.str.contains('pel', case=False)),\n",
    "    (mod_beer_df.beer_style.str.contains('lager', case=False)),\n",
    "    (mod_beer_df.beer_style.str.contains('stout', case=False)),\n",
    "]\n",
    "\n",
    "styles = ['ale','dark ale','ipa',\"pilsener\",\"pilsener\",\"barleywine\",\"bitter\",\"porter\",\"kölsch\",\"trappist\",'lager','stout']\n",
    "mod_beer_df[\"meta_style\"] = np.select(conditions, styles, default='exotic')\n",
    "beer_sub_grp = mod_beer_df[[\"beer_name\", \"review_overall\", \"review_aroma\", \"review_appearance\", \"review_palate\", \"review_taste\"]]\n",
    "grp_beers_mean= pd.DataFrame(beer_sub_grp.groupby([\"beer_name\"]).mean())\n",
    "mod_beer_df = pd.merge(mod_beer_df, grp_beers_mean, on='beer_name',how='outer',suffixes=('_OG','_MEAN'))\n",
    "val_info = pd.DataFrame(mod_beer_df[[\"review_overall_OG\", \"review_aroma_OG\", \"review_appearance_OG\", \"review_palate_OG\", \"review_taste_OG\"]])\n",
    "mod_beer_df[\"sub_review_score\"] = val_info.mean(axis=1)"
   ]
  },
  {
   "cell_type": "code",
   "execution_count": 3,
   "metadata": {},
   "outputs": [],
   "source": [
    "#Scaling Overall rating \n",
    "scaler = StandardScaler()\n",
    "sub_score_info = mod_beer_df[\"sub_review_score\"].values.reshape(-1, 1)\n",
    "sub_score_scaled = scaler.fit_transform(sub_score_info)\n",
    "mod_beer_df[\"scaled_score\"] = sub_score_scaled"
   ]
  },
  {
   "cell_type": "code",
   "execution_count": 6,
   "metadata": {},
   "outputs": [],
   "source": [
    "# Encoding Categorical Beer Style Labels\n",
    "y_sytle = mod_beer_df[\"meta_style\"]\n",
    "label_encoder = LabelEncoder()\n",
    "label_encoder.fit(y_sytle)\n",
    "encoded_style = label_encoder.transform(y_sytle)"
   ]
  },
  {
   "cell_type": "code",
   "execution_count": 7,
   "metadata": {},
   "outputs": [
    {
     "data": {
      "text/plain": [
       "array([3, 0, 9, ..., 0, 0, 0])"
      ]
     },
     "execution_count": 7,
     "metadata": {},
     "output_type": "execute_result"
    }
   ],
   "source": [
    "encoded_style"
   ]
  },
  {
   "cell_type": "code",
   "execution_count": 8,
   "metadata": {},
   "outputs": [],
   "source": [
    "# Encoding Categorical Beer strength labels\n",
    "y_abvstr = mod_beer_df[\"beer_strength\"]\n",
    "label_encoder.fit(y_abvstr)\n",
    "encoded_strength = label_encoder.transform(y_abvstr)"
   ]
  },
  {
   "cell_type": "code",
   "execution_count": 9,
   "metadata": {},
   "outputs": [],
   "source": [
    "#Minimise DF for testing purpose of Kmeans\n",
    "kmean_df = mod_beer_df[[\"review_overall_OG\", \"review_overall_MEAN\", \"scaled_score\",\"beer_beerid\"]]"
   ]
  },
  {
   "cell_type": "code",
   "execution_count": 10,
   "metadata": {},
   "outputs": [
    {
     "name": "stderr",
     "output_type": "stream",
     "text": [
      "/opt/anaconda3/envs/PythonAdvanced/lib/python3.6/site-packages/ipykernel_launcher.py:1: SettingWithCopyWarning: \n",
      "A value is trying to be set on a copy of a slice from a DataFrame.\n",
      "Try using .loc[row_indexer,col_indexer] = value instead\n",
      "\n",
      "See the caveats in the documentation: https://pandas.pydata.org/pandas-docs/stable/user_guide/indexing.html#returning-a-view-versus-a-copy\n",
      "  \"\"\"Entry point for launching an IPython kernel.\n",
      "/opt/anaconda3/envs/PythonAdvanced/lib/python3.6/site-packages/ipykernel_launcher.py:2: SettingWithCopyWarning: \n",
      "A value is trying to be set on a copy of a slice from a DataFrame.\n",
      "Try using .loc[row_indexer,col_indexer] = value instead\n",
      "\n",
      "See the caveats in the documentation: https://pandas.pydata.org/pandas-docs/stable/user_guide/indexing.html#returning-a-view-versus-a-copy\n",
      "  \n"
     ]
    }
   ],
   "source": [
    "#Adding encoded labels information back to DF \n",
    "kmean_df[\"coded_style\"] = encoded_style.tolist()\n",
    "kmean_df[\"coded_abvstr\"] = encoded_strength.tolist()"
   ]
  },
  {
   "cell_type": "code",
   "execution_count": 11,
   "metadata": {},
   "outputs": [],
   "source": [
    "#Copy Dataframe \n",
    "dataset = kmean_df"
   ]
  },
  {
   "cell_type": "code",
   "execution_count": 12,
   "metadata": {},
   "outputs": [],
   "source": [
    "#Convert DF to Numpy Array\n",
    "dataset = dataset.to_numpy()"
   ]
  },
  {
   "cell_type": "code",
   "execution_count": 13,
   "metadata": {},
   "outputs": [],
   "source": [
    "#Split Array \n",
    "dataset_train, dataset_test = train_test_split(dataset, random_state=11)"
   ]
  },
  {
   "cell_type": "code",
   "execution_count": 14,
   "metadata": {},
   "outputs": [],
   "source": [
    "kmeans = KMeans(n_clusters=13)"
   ]
  },
  {
   "cell_type": "code",
   "execution_count": 15,
   "metadata": {},
   "outputs": [
    {
     "data": {
      "text/plain": [
       "KMeans(n_clusters=13)"
      ]
     },
     "execution_count": 15,
     "metadata": {},
     "output_type": "execute_result"
    }
   ],
   "source": [
    "kmeans.fit(dataset_train)"
   ]
  },
  {
   "cell_type": "code",
   "execution_count": 16,
   "metadata": {},
   "outputs": [],
   "source": [
    "predicted_clusters = kmeans.predict(dataset_train)"
   ]
  },
  {
   "cell_type": "code",
   "execution_count": 17,
   "metadata": {},
   "outputs": [
    {
     "data": {
      "text/plain": [
       "array([11, 12,  0, ...,  8,  9,  2], dtype=int32)"
      ]
     },
     "execution_count": 17,
     "metadata": {},
     "output_type": "execute_result"
    }
   ],
   "source": [
    "predicted_clusters"
   ]
  },
  {
   "cell_type": "code",
   "execution_count": null,
   "metadata": {},
   "outputs": [],
   "source": []
  }
 ],
 "metadata": {
  "kernelspec": {
   "display_name": "Python [conda env:PythonAdvanced]",
   "language": "python",
   "name": "conda-env-PythonAdvanced-py"
  },
  "language_info": {
   "codemirror_mode": {
    "name": "ipython",
    "version": 3
   },
   "file_extension": ".py",
   "mimetype": "text/x-python",
   "name": "python",
   "nbconvert_exporter": "python",
   "pygments_lexer": "ipython3",
   "version": "3.6.10"
  }
 },
 "nbformat": 4,
 "nbformat_minor": 4
}
