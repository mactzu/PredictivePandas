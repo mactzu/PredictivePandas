{
 "cells": [
  {
   "cell_type": "code",
   "execution_count": null,
   "metadata": {},
   "outputs": [],
   "source": [
    "import pandas as pd\n",
    "import numpy as np\n",
    "import matplotlib.pyplot as plt\n",
    "import seaborn as sns\n",
    "from bs4 import BeautifulSoup as bs\n",
    "from webdriver_manager.chrome import ChromeDriverManager\n",
    "from splinter import Browser\n",
    "import time\n",
    "sns.set()\n",
    "import warnings\n",
    "warnings.filterwarnings(\"ignore\")\n",
    "%matplotlib inline\n"
   ]
  },
  {
   "cell_type": "code",
   "execution_count": null,
   "metadata": {},
   "outputs": [],
   "source": [
    "# for local drive use\n",
    "beer_df = pd.read_csv(\"data/beer.gz\")\n"
   ]
  },
  {
   "cell_type": "code",
   "execution_count": null,
   "metadata": {},
   "outputs": [],
   "source": [
    "# extract unique breweries and beer names\n",
    "brewery_beer_df = beer_df.loc[:,[\"brewery_id\", \"beer_beerid\"]]\n",
    "brewery_beer_df = brewery_beer_df.drop_duplicates(subset=[\"brewery_id\", \"beer_beerid\"], keep=False)\n",
    "\n",
    "brewery_beer = []\n",
    "\n",
    "for row in brewery_beer_df.itertuples():\n",
    "    brewery_beer.append(str(row.brewery_id) + \"/\" + str(row.beer_beerid))\n",
    "    "
   ]
  },
  {
   "cell_type": "code",
   "execution_count": null,
   "metadata": {},
   "outputs": [],
   "source": [
    "# scrape beer profile from beer advocate website for status\n",
    "\n",
    "status_xpath = \"/html/body/div[2]/div/div[2]/div[2]/div[2]/div/div/div[3]/div/div/div[2]/div[4]/div[1]/div[1]/div/div[2]/dl/dd[9]/span\"\n",
    "\n",
    "beer_status = []\n",
    "count = 0\n",
    "\n",
    "for i in range(15001, 16000):\n",
    "    try:\n",
    "        url = \"https://www.beeradvocate.com/beer/profile/\" + brewery_beer[i]\n",
    "        browser.visit(url)\n",
    "        status = browser.find_by_xpath(status_xpath).text\n",
    "        beer = brewery_beer[i]\n",
    "        beer_id[\"beer\"] = beer[beer.find(\"/\")+1:]\n",
    "        beer_status[\"Status\"].append(status)\n",
    "        beer_status[\"Beer_Beerid\"].append(beer_id)\n",
    "        print(beer_id)\n",
    "        count +=1\n",
    "        print(count)\n",
    "    except:\n",
    "        next        \n",
    "        "
   ]
  },
  {
   "cell_type": "code",
   "execution_count": null,
   "metadata": {},
   "outputs": [],
   "source": [
    "# export to csv\n",
    "s = pd.Series(beer_status)\n",
    "s.to_csv(\"beer_status.csv\", index = False)\n"
   ]
  },
  {
   "cell_type": "code",
   "execution_count": null,
   "metadata": {},
   "outputs": [],
   "source": [
    "# get csv file\n",
    "beer_status = pd.read_csv(\"beer_status.csv\")\n",
    "beer_status\n"
   ]
  },
  {
   "cell_type": "code",
   "execution_count": null,
   "metadata": {},
   "outputs": [],
   "source": [
    "get_beer2 = pd.read_csv(\"beer_status2.csv\")\n",
    "beer_status = beer_status.append(get_beer2, ignore_index = False)\n",
    "\n",
    "get_beer3 = pd.read_csv(\"beer_status3.csv\")\n",
    "beer_status = beer_status.append(get_beer3, ignore_index = False)\n",
    "\n",
    "get_beer4 = pd.read_csv(\"beer_status4.csv\")\n",
    "beer_status = beer_status.append(get_beer4, ignore_index = False)\n",
    "\n",
    "get_beer5 = pd.read_csv(\"beer_status5.csv\")\n",
    "beer_status = beer_status.append(get_beer5, ignore_index = False)\n",
    "\n",
    "get_beer6 = pd.read_csv(\"beer_status6.csv\")\n",
    "beer_status = beer_status.append(get_beer6, ignore_index = False)\n",
    "\n",
    "get_beer7 = pd.read_csv(\"beer_status7.csv\")\n",
    "beer_status = beer_status.append(get_beer7, ignore_index = False)\n",
    "\n",
    "get_beer8 = pd.read_csv(\"beer_status8.csv\")\n",
    "beer_status = beer_status.append(get_beer8, ignore_index = False)\n",
    "\n",
    "get_beer9 = pd.read_csv(\"beer_status9.csv\")\n",
    "beer_status = beer_status.append(get_beer9, ignore_index = False)\n",
    "\n",
    "get_beer10 = pd.read_csv(\"beer_status10.csv\")\n",
    "beer_status = beer_status.append(get_beer10, ignore_index = False)\n",
    "\n",
    "get_beer11 = pd.read_csv(\"beer_status11.csv\")\n",
    "beer_status = beer_status.append(get_beer11, ignore_index = False)\n",
    "\n",
    "get_beer12 = pd.read_csv(\"beer_status12.csv\")\n",
    "beer_status = beer_status.append(get_beer12, ignore_index = False)\n",
    "\n",
    "get_beer13 = pd.read_csv(\"beer_status13.csv\")\n",
    "beer_status = beer_status.append(get_beer13, ignore_index = False)\n",
    "\n",
    "get_beer14 = pd.read_csv(\"beer_status14.csv\")\n",
    "beer_status = beer_status.append(get_beer14, ignore_index = False)\n",
    "\n",
    "get_beer15 = pd.read_csv(\"beer_status15.csv\")\n",
    "beer_status = beer_status.append(get_beer15, ignore_index = False)\n",
    "\n",
    "get_beer16 = pd.read_csv(\"beer_status16.csv\")\n",
    "beer_status = beer_status.append(get_beer16, ignore_index = False)\n",
    "\n",
    "beer_status\n"
   ]
  },
  {
   "cell_type": "code",
   "execution_count": null,
   "metadata": {},
   "outputs": [],
   "source": [
    "# save to csv file for import\n",
    "beer_status = beer_status.to_csv(\"status.csv\", header = True, compression=\"gzip\", index = False)\n"
   ]
  }
 ],
 "metadata": {
  "kernelspec": {
   "display_name": "Python [conda env:PythonAdv] *",
   "language": "python",
   "name": "conda-env-PythonAdv-py"
  },
  "language_info": {
   "codemirror_mode": {
    "name": "ipython",
    "version": 3
   },
   "file_extension": ".py",
   "mimetype": "text/x-python",
   "name": "python",
   "nbconvert_exporter": "python",
   "pygments_lexer": "ipython3",
   "version": "3.6.10"
  }
 },
 "nbformat": 4,
 "nbformat_minor": 4
}
