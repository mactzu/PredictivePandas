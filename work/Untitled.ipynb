{
 "cells": [
  {
   "cell_type": "markdown",
   "metadata": {},
   "source": [
    "# Beer Score Data Exploration and Analysis\n",
    "This notebook transforms data sourced from [https://data.world/socialmediadata/beeradvocate](https://data.world/socialmediadata/beeradvocate) as part of creating a beer prediction machine learning model.  The dataset is ~1.5 million reviews, spanning more than 10 years **(insert date range)**.  Each review includes ratings from [ratebeer](https://www.ratebeer.com/Story.asp?StoryID=103) across five \"features\": appearance, aroma, palate, taste, and overall impression.  A quick explanation of each rating follows however for a full explanation refer to the website.\n",
    "\n",
    "\n",
    "### Index\n",
    "* [Data Extraction](#dataextract)\n",
    "\n",
    "* [Data Transformation](#datatransform)\n",
    "    * [Exploratory Analysis](#dataexplore)\n",
    "    * [Visualising the Data](#dataviz)\n",
    "        \n",
    "* [Adding Features](#dataadd)\n",
    "\n",
    "\n",
    "\n",
    "\n",
    "\n",
    "\n",
    "\n",
    "\n",
    "\n",
    "### Beer Ratings\n",
    "**Appearance:** (rating out of 5)\n",
    "  After pouring rating includes observations on the visual appeal, including the colour, clarity, carbonation, and head       size and longevity, as well as the extent and pattern of lacing on the glass\n",
    "\n",
    "**Aroma:** (rating out of 10)\n",
    "  Any attractive, unusual or bad aromas. Hop character, malts, sweetness, fruitiness and other aromas including more subtle   aromas released after swirling the glass\n",
    "\n",
    "**Palate:** (rating out of 5)\n",
    "  The “feel” of the beer inside the mouth, at the front, the back and as you swallow, concentrating on the body or fullness   of the beer and any other special feature of how it feels in the mouth\n",
    "\n",
    "**Flavour:** (rating out of 10) \n",
    "  How the beer tastes, the number of different tastes and flavours that can be identified.  Consideration also given to       variation in flavour from the start, to the middle, the finish and then the aftertaste of the beer. Assessment includes     intensity of the bitterness, sweetness and sourness of the beer\n",
    "\n",
    "**Overall:** (rating out of 20) \n",
    "  A way of balancing up other features about the beer or anything else liked or disliked about it eg include price,           likelihood of buying again, etc\n",
    "\n",
    "\n",
    "\n"
   ]
  },
  {
   "cell_type": "markdown",
   "metadata": {},
   "source": [
    "## Data Extraction <a id=\"dataextract\"></a>\n"
   ]
  },
  {
   "cell_type": "code",
   "execution_count": 1,
   "metadata": {},
   "outputs": [],
   "source": [
    "# import dependencies\n",
    "import pandas as pd\n",
    "import numpy as np\n",
    "import matplotlib.pyplot as plt\n",
    "import seaborn as sns\n",
    "sns.set()\n",
    "import warnings\n",
    "warnings.filterwarnings(\"ignore\")\n",
    "%matplotlib inline\n"
   ]
  },
  {
   "cell_type": "code",
   "execution_count": null,
   "metadata": {},
   "outputs": [],
   "source": [
    "# create dataframe\n",
    "beer_df = pd.read_csv(\"https://query.data.world/s/nuub3qupegsd33g3nimifjpajqeq2o\")\n",
    "\n",
    "# for local drive use\n",
    "#beer_df = pd.read_csv(\"data/beer.gz\")\n"
   ]
  }
 ],
 "metadata": {
  "kernelspec": {
   "display_name": "Python 3",
   "language": "python",
   "name": "python3"
  },
  "language_info": {
   "codemirror_mode": {
    "name": "ipython",
    "version": 3
   },
   "file_extension": ".py",
   "mimetype": "text/x-python",
   "name": "python",
   "nbconvert_exporter": "python",
   "pygments_lexer": "ipython3",
   "version": "3.8.3"
  }
 },
 "nbformat": 4,
 "nbformat_minor": 4
}
